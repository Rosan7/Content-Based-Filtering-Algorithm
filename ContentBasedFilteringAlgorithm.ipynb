{
  "nbformat": 4,
  "nbformat_minor": 0,
  "metadata": {
    "colab": {
      "provenance": [],
      "authorship_tag": "ABX9TyNOzyvIF3iGu4vF2vkw2p5L",
      "include_colab_link": true
    },
    "kernelspec": {
      "name": "python3",
      "display_name": "Python 3"
    },
    "language_info": {
      "name": "python"
    }
  },
  "cells": [
    {
      "cell_type": "markdown",
      "metadata": {
        "id": "view-in-github",
        "colab_type": "text"
      },
      "source": [
        "<a href=\"https://colab.research.google.com/github/Rosan7/Content-Based-Filtering-Algorithm/blob/main/ContentBasedFilteringAlgorithm.ipynb\" target=\"_parent\"><img src=\"https://colab.research.google.com/assets/colab-badge.svg\" alt=\"Open In Colab\"/></a>"
      ]
    },
    {
      "cell_type": "code",
      "execution_count": 11,
      "metadata": {
        "id": "ze0zrIPNcsHI"
      },
      "outputs": [],
      "source": [
        "import pickle\n",
        "import numpy as np\n",
        "from numpy import genfromtxt\n",
        "from collections import defaultdict\n",
        "import pandas as pd\n",
        "import tensorflow as tf\n",
        "from tensorflow.keras.models import Model\n",
        "from sklearn.preprocessing import StandardScaler, MinMaxScaler\n",
        "from sklearn.model_selection import train_test_split\n",
        "import csv\n",
        "import re\n",
        "import tabulate\n",
        "\n",
        "\n",
        "def load_data():\n",
        "    item_train = genfromtxt('./sample_data/content_item_train.csv', delimiter=',')\n",
        "    user_train = genfromtxt('./sample_data/content_user_train.csv', delimiter=',')\n",
        "    y_train    = genfromtxt('./sample_data/content_y_train.csv', delimiter=',')\n",
        "    with open('./sample_data/content_item_train_header.txt', newline='') as f:    #csv reader handles quoted strings better\n",
        "        item_features = list(csv.reader(f))[0]\n",
        "    with open('./sample_data/content_user_train_header.txt', newline='') as f:\n",
        "        user_features = list(csv.reader(f))[0]\n",
        "    item_vecs = genfromtxt('./sample_data/content_item_vecs.csv', delimiter=',')\n",
        "\n",
        "    movie_dict = defaultdict(dict)\n",
        "    count = 0\n",
        "#    with open('./data/movies.csv', newline='') as csvfile:\n",
        "    with open('./sample_data/content_movie_list.csv', newline='') as csvfile:\n",
        "        reader = csv.reader(csvfile, delimiter=',', quotechar='\"')\n",
        "        for line in reader:\n",
        "            if count == 0:\n",
        "                count +=1  #skip header\n",
        "                #print(line)\n",
        "            else:\n",
        "                count +=1\n",
        "                movie_id = int(line[0])\n",
        "                movie_dict[movie_id][\"title\"] = line[1]\n",
        "                movie_dict[movie_id][\"genres\"] =line[2]\n",
        "\n",
        "    with open('./sample_data/content_user_to_genre.pickle', 'rb') as f:\n",
        "        user_to_genre = pickle.load(f)\n",
        "\n",
        "    return(item_train, user_train, y_train, item_features, user_features, item_vecs, movie_dict, user_to_genre)\n",
        "\n",
        "\n",
        "def pprint_train(x_train, features,  vs, u_s, maxcount = 5, user=True):\n",
        "    \"\"\" Prints user_train or item_train nicely \"\"\"\n",
        "    if user:\n",
        "        flist = [\".0f\",\".0f\",\".1f\",\n",
        "                 \".1f\", \".1f\", \".1f\", \".1f\",\".1f\",\".1f\", \".1f\",\".1f\",\".1f\", \".1f\",\".1f\",\".1f\",\".1f\",\".1f\"]\n",
        "    else:\n",
        "        flist = [\".0f\",\".0f\",\".1f\",\n",
        "                 \".0f\",\".0f\",\".0f\", \".0f\",\".0f\",\".0f\", \".0f\",\".0f\",\".0f\", \".0f\",\".0f\",\".0f\",\".0f\",\".0f\"]\n",
        "\n",
        "    head = features[:vs]\n",
        "    if vs < u_s: print(\"error, vector start {vs} should be greater then user start {u_s}\")\n",
        "    for i in range(u_s):\n",
        "        head[i] = \"[\" + head[i] + \"]\"\n",
        "    genres = features[vs:]\n",
        "    hdr = head + genres\n",
        "    disp = [split_str(hdr, 5)]\n",
        "    count = 0\n",
        "    for i in range(0,x_train.shape[0]):\n",
        "        if count == maxcount: break\n",
        "        count += 1\n",
        "        disp.append( [\n",
        "                      x_train[i,0].astype(int),\n",
        "                      x_train[i,1].astype(int),\n",
        "                      x_train[i,2].astype(float),\n",
        "                      *x_train[i,3:].astype(float)\n",
        "                    ])\n",
        "    table = tabulate.tabulate(disp, tablefmt='html',headers=\"firstrow\", floatfmt=flist, numalign='center')\n",
        "    return(table)\n",
        "\n",
        "\n",
        "def pprint_data(y_p, user_train, item_train, printfull=False):\n",
        "    np.set_printoptions(precision=1)\n",
        "\n",
        "    for i in range(0,1000):\n",
        "        #print(f\"{y_p[i,0]: 0.2f}, {ynorm_train.numpy()[i].item(): 0.2f}\")\n",
        "        print(f\"{y_pu[i,0]: 0.2f}, {y_train[i]: 0.2f}, \", end='')\n",
        "        print(f\"{user_train[i,0].astype(int):d}, \",  end='')   # userid\n",
        "        print(f\"{user_train[i,1].astype(int):d}, \", end=''),  #  rating cnt\n",
        "        print(f\"{user_train[i,2].astype(float): 0.2f}, \",  end='')       # rating ave\n",
        "        print(\": \", end = '')\n",
        "        print(f\"{item_train[i,0].astype(int):d}, \",  end='')   # movie id\n",
        "        print(f\"{item_train[i,2].astype(float):0.1f}, \", end='')   # ave movie rating\n",
        "        if printfull:\n",
        "          for j in range(8, user_train.shape[1]):\n",
        "            print(f\"{user_train[i,j].astype(float):0.1f}, \", end='')   # rating\n",
        "          print(\":\", end='')\n",
        "          for j in range(3, item_train.shape[1]):\n",
        "            print(f\"{item_train[i,j].astype(int):d}, \", end='')   # rating\n",
        "          print()\n",
        "        else:\n",
        "          a = user_train[i, uvs:user_train.shape[1]]\n",
        "          b = item_train[i, ivs:item_train.shape[1]]\n",
        "          c = np.multiply(a,b)\n",
        "          print(c)\n",
        "\n",
        "def split_str(ifeatures, smax):\n",
        "    ofeatures = []\n",
        "    for s in ifeatures:\n",
        "        if ' ' not in s:  # skip string that already have a space\n",
        "            if len(s) > smax:\n",
        "                mid = int(len(s)/2)\n",
        "                s = s[:mid] + \" \" + s[mid:]\n",
        "        ofeatures.append(s)\n",
        "    return(ofeatures)\n",
        "\n",
        "def pprint_data_tab(y_p, user_train, item_train, uvs, ivs, user_features, item_features, maxcount = 20, printfull=False):\n",
        "    flist = [\".1f\", \".1f\", \".0f\", \".1f\", \".0f\", \".0f\", \".0f\",\n",
        "             \".1f\",\".1f\",\".1f\",\".1f\",\".1f\",\".1f\",\".1f\",\".1f\",\".1f\",\".1f\",\".1f\",\".1f\",\".1f\",\".1f\"]\n",
        "    user_head = user_features[:uvs]\n",
        "    genres = user_features[uvs:]\n",
        "    item_head = item_features[:ivs]\n",
        "    hdr = [\"y_p\", \"y\"] + user_head + item_head + genres\n",
        "    disp = [split_str(hdr, 5)]\n",
        "    count = 0\n",
        "    for i in range(0,y_p.shape[0]):\n",
        "        if count == maxcount: break\n",
        "        count += 1\n",
        "        a = user_train[i, uvs:user_train.shape[1]]\n",
        "        b = item_train[i, ivs:item_train.shape[1]]\n",
        "        c = np.multiply(a,b)\n",
        "\n",
        "        disp.append( [ y_p[i,0], y_train[i],\n",
        "                      user_train[i,0].astype(int),   # user id\n",
        "                      user_train[i,1].astype(int),   # rating cnt\n",
        "                      user_train[i,2].astype(float), # user rating ave\n",
        "                      item_train[i,0].astype(int),   # movie id\n",
        "                      item_train[i,1].astype(int),   # year\n",
        "                      item_train[i,2].astype(float),  # ave movie rating\n",
        "                      *c\n",
        "                     ])\n",
        "    table = tabulate.tabulate(disp, tablefmt='html',headers=\"firstrow\", floatfmt=flist, numalign='center')\n",
        "    return(table)\n",
        "\n",
        "\n",
        "\n",
        "\n",
        "def print_pred_movies(y_p, user, item, movie_dict, maxcount=10):\n",
        "    \"\"\" print results of prediction of a new user. inputs are expected to be in\n",
        "        sorted order, unscaled. \"\"\"\n",
        "    count = 0\n",
        "    movies_listed = defaultdict(int)\n",
        "    disp = [[\"y_p\", \"movie id\", \"rating ave\", \"title\", \"genres\"]]\n",
        "\n",
        "    for i in range(0, y_p.shape[0]):\n",
        "        if count == maxcount:\n",
        "            break\n",
        "        count += 1\n",
        "        movie_id = item[i, 0].astype(int)\n",
        "        if movie_id in movies_listed:\n",
        "            continue\n",
        "        movies_listed[movie_id] = 1\n",
        "        disp.append([y_p[i, 0], item[i, 0].astype(int), item[i, 2].astype(float),\n",
        "                    movie_dict[movie_id]['title'], movie_dict[movie_id]['genres']])\n",
        "\n",
        "    table = tabulate.tabulate(disp, tablefmt='html',headers=\"firstrow\")\n",
        "    return(table)\n",
        "\n",
        "def gen_user_vecs(user_vec, num_items):\n",
        "    \"\"\" given a user vector return:\n",
        "        user predict maxtrix to match the size of item_vecs \"\"\"\n",
        "    user_vecs = np.tile(user_vec, (num_items, 1))\n",
        "    return(user_vecs)\n",
        "\n",
        "# predict on  everything, filter on print/use\n",
        "def predict_uservec(user_vecs, item_vecs, model, u_s, i_s, scaler, ScalerUser, ScalerItem, scaledata=False):\n",
        "    \"\"\" given a user vector, does the prediction on all movies in item_vecs returns\n",
        "        an array predictions sorted by predicted rating,\n",
        "        arrays of user and item, sorted by predicted rating sorting index\n",
        "    \"\"\"\n",
        "    if scaledata:\n",
        "        scaled_user_vecs = ScalerUser.transform(user_vecs)\n",
        "        scaled_item_vecs = ScalerItem.transform(item_vecs)\n",
        "        y_p = model.predict([scaled_user_vecs[:, u_s:], scaled_item_vecs[:, i_s:]])\n",
        "    else:\n",
        "        y_p = model.predict([user_vecs[:, u_s:], item_vecs[:, i_s:]])\n",
        "    y_pu = scaler.inverse_transform(y_p)\n",
        "\n",
        "    if np.any(y_pu < 0) :\n",
        "        print(\"Error, expected all positive predictions\")\n",
        "    sorted_index = np.argsort(-y_pu,axis=0).reshape(-1).tolist()  #negate to get largest rating first\n",
        "    sorted_ypu   = y_pu[sorted_index]\n",
        "    sorted_items = item_vecs[sorted_index]\n",
        "    sorted_user  = user_vecs[sorted_index]\n",
        "    return(sorted_index, sorted_ypu, sorted_items, sorted_user)\n",
        "\n",
        "\n",
        "def print_pred_debug(y_p, y, user, item, maxcount=10, onlyrating=False,  printfull=False):\n",
        "    \"\"\" hopefully reusable print. Keep for debug \"\"\"\n",
        "    count = 0\n",
        "    for i in range(0, y_p.shape[0]):\n",
        "        if onlyrating == False or (onlyrating == True and y[i,0] != 0):\n",
        "            if count == maxcount: break\n",
        "            count += 1\n",
        "            print(f\"{y_p[i, 0]: 0.2f}, {y[i,0]: 0.2f}, \", end='')\n",
        "            print(f\"{user[i, 0].astype(int):d}, \",  end='')       # userid\n",
        "            print(f\"{user[i, 1].astype(int):d}, \", end=''),       #  rating cnt\n",
        "            print(f\"{user[i, 2].astype(float):0.1f}, \", end=''),       #  rating ave\n",
        "            print(\": \", end = '')\n",
        "            print(f\"{item[i, 0].astype(int):d}, \",  end='')       # movie id\n",
        "            print(f\"{item[i, 2].astype(float):0.1f}, \", end='')   # ave movie rating\n",
        "            print(\": \", end = '')\n",
        "            if printfull:\n",
        "                for j in range(uvs, user.shape[1]):\n",
        "                    print(f\"{user[i, j].astype(float):0.1f}, \", end='') # rating\n",
        "                print(\":\", end='')\n",
        "                for j in range(ivs, item.shape[1]):\n",
        "                    print(f\"{item[i, j].astype(int):d}, \", end='')    # rating\n",
        "                print()\n",
        "            else:\n",
        "                a = user[i, uvs:user.shape[1]]\n",
        "                b = item[i, ivs:item.shape[1]]\n",
        "                c = np.multiply(a,b)\n",
        "                print(c)\n",
        "\n",
        "\n",
        "def get_user_vecs(user_id, user_train, item_vecs, user_to_genre):\n",
        "    \"\"\" given a user_id, return:\n",
        "        user train/predict matrix to match the size of item_vecs\n",
        "        y vector with ratings for all rated movies and 0 for others of size item_vecs \"\"\"\n",
        "\n",
        "    if user_id not in user_to_genre:\n",
        "        print(\"error: unknown user id\")\n",
        "        return(None)\n",
        "    else:\n",
        "        user_vec_found = False\n",
        "        for i in range(len(user_train)):\n",
        "            if user_train[i, 0] == user_id:\n",
        "                user_vec = user_train[i]\n",
        "                user_vec_found = True\n",
        "                break\n",
        "        if not user_vec_found:\n",
        "            print(\"error in get_user_vecs, did not find uid in user_train\")\n",
        "        num_items = len(item_vecs)\n",
        "        user_vecs = np.tile(user_vec, (num_items, 1))\n",
        "\n",
        "        y = np.zeros(num_items)\n",
        "        for i in range(num_items):  # walk through movies in item_vecs and get the movies, see if user has rated them\n",
        "            movie_id = item_vecs[i, 0]\n",
        "            if movie_id in user_to_genre[user_id]['movies']:\n",
        "                rating = user_to_genre[user_id]['movies'][movie_id]\n",
        "            else:\n",
        "                rating = 0\n",
        "            y[i] = rating\n",
        "    return(user_vecs, y)\n",
        "\n",
        "\n",
        "def get_item_genre(item, ivs, item_features):\n",
        "    offset = np.where(item[ivs:] == 1)[0][0]\n",
        "    genre = item_features[ivs + offset]\n",
        "    return(genre, offset)\n",
        "\n",
        "\n",
        "def print_existing_user(y_p, y, user, items, item_features, ivs, uvs, movie_dict, maxcount=10):\n",
        "    \"\"\" print results of prediction a user who was in the datatbase. inputs are expected to be in sorted order, unscaled. \"\"\"\n",
        "    count = 0\n",
        "    movies_listed = defaultdict(int)\n",
        "    disp = [[\"y_p\", \"y\", \"user\", \"user genre ave\", \"movie rating ave\", \"title\", \"genres\"]]\n",
        "    listed = []\n",
        "    count = 0\n",
        "    for i in range(0, y.shape[0]):\n",
        "        if y[i, 0] != 0:\n",
        "            if count == maxcount:\n",
        "                break\n",
        "            count += 1\n",
        "            movie_id = items[i, 0].astype(int)\n",
        "\n",
        "            offset = np.where(items[i, ivs:] == 1)[0][0]\n",
        "            genre_rating = user[i, uvs + offset]\n",
        "            genre = item_features[ivs + offset]\n",
        "            disp.append([y_p[i, 0], y[i, 0],\n",
        "                        user[i, 0].astype(int),      # userid\n",
        "                        genre_rating.astype(float),\n",
        "                        items[i, 2].astype(float),    # movie average rating\n",
        "                        movie_dict[movie_id]['title'], genre])\n",
        "\n",
        "    table = tabulate.tabulate(disp, tablefmt='html', headers=\"firstrow\", floatfmt=[\".1f\", \".1f\", \".0f\", \".2f\", \".2f\"])\n",
        "    return(table)"
      ]
    },
    {
      "cell_type": "code",
      "source": [
        "import numpy as np\n",
        "import numpy.ma as ma\n",
        "from numpy import genfromtxt\n",
        "from collections import defaultdict\n",
        "import pandas as pd\n",
        "import tensorflow as tf\n",
        "from tensorflow import keras\n",
        "from sklearn.preprocessing import StandardScaler, MinMaxScaler\n",
        "from sklearn.model_selection import train_test_split\n",
        "import tabulate\n",
        "# from recsysNN_utils import *\n",
        "pd.set_option(\"display.precision\", 1)"
      ],
      "metadata": {
        "id": "QhqdCoDvdJDq"
      },
      "execution_count": 9,
      "outputs": []
    },
    {
      "cell_type": "code",
      "source": [
        "item_train, user_train, y_train, item_features, user_features, item_vecs, movie_dict, user_to_genre = load_data()\n",
        "\n",
        "num_user_features = user_train.shape[1] - 3  # remove userid, rating count and ave rating during training\n",
        "num_item_features = item_train.shape[1] - 1  # remove movie id at train time\n",
        "uvs = 3  # user genre vector start\n",
        "ivs = 3  # item genre vector start\n",
        "u_s = 3  # start of columns to use in training, user\n",
        "i_s = 1  # start of columns to use in training, items\n",
        "scaledata = True  # applies the standard scalar to data if true\n",
        "print(f\"Number of training vectors: {len(item_train)}\")"
      ],
      "metadata": {
        "colab": {
          "base_uri": "https://localhost:8080/"
        },
        "id": "as7fuYJyfHFB",
        "outputId": "66f353bc-67f9-4d0e-a509-30f1636c56ca"
      },
      "execution_count": 12,
      "outputs": [
        {
          "output_type": "stream",
          "name": "stdout",
          "text": [
            "Number of training vectors: 58187\n"
          ]
        },
        {
          "output_type": "stream",
          "name": "stderr",
          "text": [
            "<ipython-input-11-b6f6f76c1778>:41: DeprecationWarning: numpy.core.numeric is deprecated and has been renamed to numpy._core.numeric. The numpy._core namespace contains private NumPy internals and its use is discouraged, as NumPy internals can change without warning in any release. In practice, most real-world usage of numpy.core is to access functionality in the public NumPy API. If that is the case, use the public NumPy API. If not, you are using NumPy internals. If you would still like to access an internal attribute, use numpy._core.numeric._frombuffer.\n",
            "  user_to_genre = pickle.load(f)\n"
          ]
        }
      ]
    },
    {
      "cell_type": "code",
      "source": [
        "pprint_train(user_train, user_features, uvs,  u_s, maxcount=5)\n"
      ],
      "metadata": {
        "colab": {
          "base_uri": "https://localhost:8080/",
          "height": 1000
        },
        "collapsed": true,
        "id": "ifUnEj2Fh3YG",
        "outputId": "438207f4-ff20-457f-8a75-996e8fba957e"
      },
      "execution_count": 13,
      "outputs": [
        {
          "output_type": "execute_result",
          "data": {
            "text/plain": [
              "'<table>\\n<thead>\\n<tr><th style=\"text-align: center;\"> [user id] </th><th style=\"text-align: center;\"> [rating count] </th><th style=\"text-align: center;\"> [rating ave] </th><th style=\"text-align: center;\"> Act ion </th><th style=\"text-align: center;\"> Adve nture </th><th style=\"text-align: center;\"> Anim ation </th><th style=\"text-align: center;\"> Chil dren </th><th style=\"text-align: center;\"> Com edy </th><th style=\"text-align: center;\"> Crime </th><th style=\"text-align: center;\"> Docum entary </th><th style=\"text-align: center;\"> Drama </th><th style=\"text-align: center;\"> Fan tasy </th><th style=\"text-align: center;\"> Hor ror </th><th style=\"text-align: center;\"> Mys tery </th><th style=\"text-align: center;\"> Rom ance </th><th style=\"text-align: center;\"> Sci -Fi </th><th style=\"text-align: center;\"> Thri ller </th></tr>\\n</thead>\\n<tbody>\\n<tr><td style=\"text-align: center;\">     2     </td><td style=\"text-align: center;\">       16       </td><td style=\"text-align: center;\">     4.1      </td><td style=\"text-align: center;\">   3.9   </td><td style=\"text-align: center;\">    5.0     </td><td style=\"text-align: center;\">    0.0     </td><td style=\"text-align: center;\">    0.0    </td><td style=\"text-align: center;\">   4.0   </td><td style=\"text-align: center;\">  4.2  </td><td style=\"text-align: center;\">     4.0      </td><td style=\"text-align: center;\">  4.0  </td><td style=\"text-align: center;\">   0.0    </td><td style=\"text-align: center;\">   3.0   </td><td style=\"text-align: center;\">   4.0    </td><td style=\"text-align: center;\">   0.0    </td><td style=\"text-align: center;\">   4.2   </td><td style=\"text-align: center;\">    3.9    </td></tr>\\n<tr><td style=\"text-align: center;\">     2     </td><td style=\"text-align: center;\">       16       </td><td style=\"text-align: center;\">     4.1      </td><td style=\"text-align: center;\">   3.9   </td><td style=\"text-align: center;\">    5.0     </td><td style=\"text-align: center;\">    0.0     </td><td style=\"text-align: center;\">    0.0    </td><td style=\"text-align: center;\">   4.0   </td><td style=\"text-align: center;\">  4.2  </td><td style=\"text-align: center;\">     4.0      </td><td style=\"text-align: center;\">  4.0  </td><td style=\"text-align: center;\">   0.0    </td><td style=\"text-align: center;\">   3.0   </td><td style=\"text-align: center;\">   4.0    </td><td style=\"text-align: center;\">   0.0    </td><td style=\"text-align: center;\">   4.2   </td><td style=\"text-align: center;\">    3.9    </td></tr>\\n<tr><td style=\"text-align: center;\">     2     </td><td style=\"text-align: center;\">       16       </td><td style=\"text-align: center;\">     4.1      </td><td style=\"text-align: center;\">   3.9   </td><td style=\"text-align: center;\">    5.0     </td><td style=\"text-align: center;\">    0.0     </td><td style=\"text-align: center;\">    0.0    </td><td style=\"text-align: center;\">   4.0   </td><td style=\"text-align: center;\">  4.2  </td><td style=\"text-align: center;\">     4.0      </td><td style=\"text-align: center;\">  4.0  </td><td style=\"text-align: center;\">   0.0    </td><td style=\"text-align: center;\">   3.0   </td><td style=\"text-align: center;\">   4.0    </td><td style=\"text-align: center;\">   0.0    </td><td style=\"text-align: center;\">   4.2   </td><td style=\"text-align: center;\">    3.9    </td></tr>\\n<tr><td style=\"text-align: center;\">     2     </td><td style=\"text-align: center;\">       16       </td><td style=\"text-align: center;\">     4.1      </td><td style=\"text-align: center;\">   3.9   </td><td style=\"text-align: center;\">    5.0     </td><td style=\"text-align: center;\">    0.0     </td><td style=\"text-align: center;\">    0.0    </td><td style=\"text-align: center;\">   4.0   </td><td style=\"text-align: center;\">  4.2  </td><td style=\"text-align: center;\">     4.0      </td><td style=\"text-align: center;\">  4.0  </td><td style=\"text-align: center;\">   0.0    </td><td style=\"text-align: center;\">   3.0   </td><td style=\"text-align: center;\">   4.0    </td><td style=\"text-align: center;\">   0.0    </td><td style=\"text-align: center;\">   4.2   </td><td style=\"text-align: center;\">    3.9    </td></tr>\\n<tr><td style=\"text-align: center;\">     2     </td><td style=\"text-align: center;\">       16       </td><td style=\"text-align: center;\">     4.1      </td><td style=\"text-align: center;\">   3.9   </td><td style=\"text-align: center;\">    5.0     </td><td style=\"text-align: center;\">    0.0     </td><td style=\"text-align: center;\">    0.0    </td><td style=\"text-align: center;\">   4.0   </td><td style=\"text-align: center;\">  4.2  </td><td style=\"text-align: center;\">     4.0      </td><td style=\"text-align: center;\">  4.0  </td><td style=\"text-align: center;\">   0.0    </td><td style=\"text-align: center;\">   3.0   </td><td style=\"text-align: center;\">   4.0    </td><td style=\"text-align: center;\">   0.0    </td><td style=\"text-align: center;\">   4.2   </td><td style=\"text-align: center;\">    3.9    </td></tr>\\n</tbody>\\n</table>'"
            ],
            "text/html": [
              "<table>\n",
              "<thead>\n",
              "<tr><th style=\"text-align: center;\"> [user id] </th><th style=\"text-align: center;\"> [rating count] </th><th style=\"text-align: center;\"> [rating ave] </th><th style=\"text-align: center;\"> Act ion </th><th style=\"text-align: center;\"> Adve nture </th><th style=\"text-align: center;\"> Anim ation </th><th style=\"text-align: center;\"> Chil dren </th><th style=\"text-align: center;\"> Com edy </th><th style=\"text-align: center;\"> Crime </th><th style=\"text-align: center;\"> Docum entary </th><th style=\"text-align: center;\"> Drama </th><th style=\"text-align: center;\"> Fan tasy </th><th style=\"text-align: center;\"> Hor ror </th><th style=\"text-align: center;\"> Mys tery </th><th style=\"text-align: center;\"> Rom ance </th><th style=\"text-align: center;\"> Sci -Fi </th><th style=\"text-align: center;\"> Thri ller </th></tr>\n",
              "</thead>\n",
              "<tbody>\n",
              "<tr><td style=\"text-align: center;\">     2     </td><td style=\"text-align: center;\">       16       </td><td style=\"text-align: center;\">     4.1      </td><td style=\"text-align: center;\">   3.9   </td><td style=\"text-align: center;\">    5.0     </td><td style=\"text-align: center;\">    0.0     </td><td style=\"text-align: center;\">    0.0    </td><td style=\"text-align: center;\">   4.0   </td><td style=\"text-align: center;\">  4.2  </td><td style=\"text-align: center;\">     4.0      </td><td style=\"text-align: center;\">  4.0  </td><td style=\"text-align: center;\">   0.0    </td><td style=\"text-align: center;\">   3.0   </td><td style=\"text-align: center;\">   4.0    </td><td style=\"text-align: center;\">   0.0    </td><td style=\"text-align: center;\">   4.2   </td><td style=\"text-align: center;\">    3.9    </td></tr>\n",
              "<tr><td style=\"text-align: center;\">     2     </td><td style=\"text-align: center;\">       16       </td><td style=\"text-align: center;\">     4.1      </td><td style=\"text-align: center;\">   3.9   </td><td style=\"text-align: center;\">    5.0     </td><td style=\"text-align: center;\">    0.0     </td><td style=\"text-align: center;\">    0.0    </td><td style=\"text-align: center;\">   4.0   </td><td style=\"text-align: center;\">  4.2  </td><td style=\"text-align: center;\">     4.0      </td><td style=\"text-align: center;\">  4.0  </td><td style=\"text-align: center;\">   0.0    </td><td style=\"text-align: center;\">   3.0   </td><td style=\"text-align: center;\">   4.0    </td><td style=\"text-align: center;\">   0.0    </td><td style=\"text-align: center;\">   4.2   </td><td style=\"text-align: center;\">    3.9    </td></tr>\n",
              "<tr><td style=\"text-align: center;\">     2     </td><td style=\"text-align: center;\">       16       </td><td style=\"text-align: center;\">     4.1      </td><td style=\"text-align: center;\">   3.9   </td><td style=\"text-align: center;\">    5.0     </td><td style=\"text-align: center;\">    0.0     </td><td style=\"text-align: center;\">    0.0    </td><td style=\"text-align: center;\">   4.0   </td><td style=\"text-align: center;\">  4.2  </td><td style=\"text-align: center;\">     4.0      </td><td style=\"text-align: center;\">  4.0  </td><td style=\"text-align: center;\">   0.0    </td><td style=\"text-align: center;\">   3.0   </td><td style=\"text-align: center;\">   4.0    </td><td style=\"text-align: center;\">   0.0    </td><td style=\"text-align: center;\">   4.2   </td><td style=\"text-align: center;\">    3.9    </td></tr>\n",
              "<tr><td style=\"text-align: center;\">     2     </td><td style=\"text-align: center;\">       16       </td><td style=\"text-align: center;\">     4.1      </td><td style=\"text-align: center;\">   3.9   </td><td style=\"text-align: center;\">    5.0     </td><td style=\"text-align: center;\">    0.0     </td><td style=\"text-align: center;\">    0.0    </td><td style=\"text-align: center;\">   4.0   </td><td style=\"text-align: center;\">  4.2  </td><td style=\"text-align: center;\">     4.0      </td><td style=\"text-align: center;\">  4.0  </td><td style=\"text-align: center;\">   0.0    </td><td style=\"text-align: center;\">   3.0   </td><td style=\"text-align: center;\">   4.0    </td><td style=\"text-align: center;\">   0.0    </td><td style=\"text-align: center;\">   4.2   </td><td style=\"text-align: center;\">    3.9    </td></tr>\n",
              "<tr><td style=\"text-align: center;\">     2     </td><td style=\"text-align: center;\">       16       </td><td style=\"text-align: center;\">     4.1      </td><td style=\"text-align: center;\">   3.9   </td><td style=\"text-align: center;\">    5.0     </td><td style=\"text-align: center;\">    0.0     </td><td style=\"text-align: center;\">    0.0    </td><td style=\"text-align: center;\">   4.0   </td><td style=\"text-align: center;\">  4.2  </td><td style=\"text-align: center;\">     4.0      </td><td style=\"text-align: center;\">  4.0  </td><td style=\"text-align: center;\">   0.0    </td><td style=\"text-align: center;\">   3.0   </td><td style=\"text-align: center;\">   4.0    </td><td style=\"text-align: center;\">   0.0    </td><td style=\"text-align: center;\">   4.2   </td><td style=\"text-align: center;\">    3.9    </td></tr>\n",
              "</tbody>\n",
              "</table>"
            ],
            "application/vnd.google.colaboratory.intrinsic+json": {
              "type": "string"
            }
          },
          "metadata": {},
          "execution_count": 13
        }
      ]
    },
    {
      "cell_type": "markdown",
      "source": [
        "![image.png](data:image/png;base64,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)"
      ],
      "metadata": {
        "id": "5tx5Z75VjIHa"
      }
    },
    {
      "cell_type": "code",
      "source": [
        "pprint_train(item_train, item_features, ivs, i_s, maxcount=5, user=False)"
      ],
      "metadata": {
        "colab": {
          "base_uri": "https://localhost:8080/",
          "height": 244
        },
        "collapsed": true,
        "id": "kDfSS2I4i0jp",
        "outputId": "84df34e7-1736-4001-c579-a9d8daf065c3"
      },
      "execution_count": 14,
      "outputs": [
        {
          "output_type": "execute_result",
          "data": {
            "text/plain": [
              "'<table>\\n<thead>\\n<tr><th style=\"text-align: center;\"> [movie id] </th><th style=\"text-align: center;\"> year </th><th style=\"text-align: center;\"> ave rating </th><th style=\"text-align: center;\"> Act ion </th><th style=\"text-align: center;\"> Adve nture </th><th style=\"text-align: center;\"> Anim ation </th><th style=\"text-align: center;\"> Chil dren </th><th style=\"text-align: center;\"> Com edy </th><th style=\"text-align: center;\"> Crime </th><th style=\"text-align: center;\"> Docum entary </th><th style=\"text-align: center;\"> Drama </th><th style=\"text-align: center;\"> Fan tasy </th><th style=\"text-align: center;\"> Hor ror </th><th style=\"text-align: center;\"> Mys tery </th><th style=\"text-align: center;\"> Rom ance </th><th style=\"text-align: center;\"> Sci -Fi </th><th style=\"text-align: center;\"> Thri ller </th></tr>\\n</thead>\\n<tbody>\\n<tr><td style=\"text-align: center;\">    6874    </td><td style=\"text-align: center;\"> 2003 </td><td style=\"text-align: center;\">    4.0     </td><td style=\"text-align: center;\">    1    </td><td style=\"text-align: center;\">     0      </td><td style=\"text-align: center;\">     0      </td><td style=\"text-align: center;\">     0     </td><td style=\"text-align: center;\">    0    </td><td style=\"text-align: center;\">   0   </td><td style=\"text-align: center;\">      0       </td><td style=\"text-align: center;\">   0   </td><td style=\"text-align: center;\">    0     </td><td style=\"text-align: center;\">    0    </td><td style=\"text-align: center;\">    0     </td><td style=\"text-align: center;\">    0     </td><td style=\"text-align: center;\">    0    </td><td style=\"text-align: center;\">     0     </td></tr>\\n<tr><td style=\"text-align: center;\">    6874    </td><td style=\"text-align: center;\"> 2003 </td><td style=\"text-align: center;\">    4.0     </td><td style=\"text-align: center;\">    0    </td><td style=\"text-align: center;\">     0      </td><td style=\"text-align: center;\">     0      </td><td style=\"text-align: center;\">     0     </td><td style=\"text-align: center;\">    0    </td><td style=\"text-align: center;\">   1   </td><td style=\"text-align: center;\">      0       </td><td style=\"text-align: center;\">   0   </td><td style=\"text-align: center;\">    0     </td><td style=\"text-align: center;\">    0    </td><td style=\"text-align: center;\">    0     </td><td style=\"text-align: center;\">    0     </td><td style=\"text-align: center;\">    0    </td><td style=\"text-align: center;\">     0     </td></tr>\\n<tr><td style=\"text-align: center;\">    6874    </td><td style=\"text-align: center;\"> 2003 </td><td style=\"text-align: center;\">    4.0     </td><td style=\"text-align: center;\">    0    </td><td style=\"text-align: center;\">     0      </td><td style=\"text-align: center;\">     0      </td><td style=\"text-align: center;\">     0     </td><td style=\"text-align: center;\">    0    </td><td style=\"text-align: center;\">   0   </td><td style=\"text-align: center;\">      0       </td><td style=\"text-align: center;\">   0   </td><td style=\"text-align: center;\">    0     </td><td style=\"text-align: center;\">    0    </td><td style=\"text-align: center;\">    0     </td><td style=\"text-align: center;\">    0     </td><td style=\"text-align: center;\">    0    </td><td style=\"text-align: center;\">     1     </td></tr>\\n<tr><td style=\"text-align: center;\">    8798    </td><td style=\"text-align: center;\"> 2004 </td><td style=\"text-align: center;\">    3.8     </td><td style=\"text-align: center;\">    1    </td><td style=\"text-align: center;\">     0      </td><td style=\"text-align: center;\">     0      </td><td style=\"text-align: center;\">     0     </td><td style=\"text-align: center;\">    0    </td><td style=\"text-align: center;\">   0   </td><td style=\"text-align: center;\">      0       </td><td style=\"text-align: center;\">   0   </td><td style=\"text-align: center;\">    0     </td><td style=\"text-align: center;\">    0    </td><td style=\"text-align: center;\">    0     </td><td style=\"text-align: center;\">    0     </td><td style=\"text-align: center;\">    0    </td><td style=\"text-align: center;\">     0     </td></tr>\\n<tr><td style=\"text-align: center;\">    8798    </td><td style=\"text-align: center;\"> 2004 </td><td style=\"text-align: center;\">    3.8     </td><td style=\"text-align: center;\">    0    </td><td style=\"text-align: center;\">     0      </td><td style=\"text-align: center;\">     0      </td><td style=\"text-align: center;\">     0     </td><td style=\"text-align: center;\">    0    </td><td style=\"text-align: center;\">   1   </td><td style=\"text-align: center;\">      0       </td><td style=\"text-align: center;\">   0   </td><td style=\"text-align: center;\">    0     </td><td style=\"text-align: center;\">    0    </td><td style=\"text-align: center;\">    0     </td><td style=\"text-align: center;\">    0     </td><td style=\"text-align: center;\">    0    </td><td style=\"text-align: center;\">     0     </td></tr>\\n</tbody>\\n</table>'"
            ],
            "text/html": [
              "<table>\n",
              "<thead>\n",
              "<tr><th style=\"text-align: center;\"> [movie id] </th><th style=\"text-align: center;\"> year </th><th style=\"text-align: center;\"> ave rating </th><th style=\"text-align: center;\"> Act ion </th><th style=\"text-align: center;\"> Adve nture </th><th style=\"text-align: center;\"> Anim ation </th><th style=\"text-align: center;\"> Chil dren </th><th style=\"text-align: center;\"> Com edy </th><th style=\"text-align: center;\"> Crime </th><th style=\"text-align: center;\"> Docum entary </th><th style=\"text-align: center;\"> Drama </th><th style=\"text-align: center;\"> Fan tasy </th><th style=\"text-align: center;\"> Hor ror </th><th style=\"text-align: center;\"> Mys tery </th><th style=\"text-align: center;\"> Rom ance </th><th style=\"text-align: center;\"> Sci -Fi </th><th style=\"text-align: center;\"> Thri ller </th></tr>\n",
              "</thead>\n",
              "<tbody>\n",
              "<tr><td style=\"text-align: center;\">    6874    </td><td style=\"text-align: center;\"> 2003 </td><td style=\"text-align: center;\">    4.0     </td><td style=\"text-align: center;\">    1    </td><td style=\"text-align: center;\">     0      </td><td style=\"text-align: center;\">     0      </td><td style=\"text-align: center;\">     0     </td><td style=\"text-align: center;\">    0    </td><td style=\"text-align: center;\">   0   </td><td style=\"text-align: center;\">      0       </td><td style=\"text-align: center;\">   0   </td><td style=\"text-align: center;\">    0     </td><td style=\"text-align: center;\">    0    </td><td style=\"text-align: center;\">    0     </td><td style=\"text-align: center;\">    0     </td><td style=\"text-align: center;\">    0    </td><td style=\"text-align: center;\">     0     </td></tr>\n",
              "<tr><td style=\"text-align: center;\">    6874    </td><td style=\"text-align: center;\"> 2003 </td><td style=\"text-align: center;\">    4.0     </td><td style=\"text-align: center;\">    0    </td><td style=\"text-align: center;\">     0      </td><td style=\"text-align: center;\">     0      </td><td style=\"text-align: center;\">     0     </td><td style=\"text-align: center;\">    0    </td><td style=\"text-align: center;\">   1   </td><td style=\"text-align: center;\">      0       </td><td style=\"text-align: center;\">   0   </td><td style=\"text-align: center;\">    0     </td><td style=\"text-align: center;\">    0    </td><td style=\"text-align: center;\">    0     </td><td style=\"text-align: center;\">    0     </td><td style=\"text-align: center;\">    0    </td><td style=\"text-align: center;\">     0     </td></tr>\n",
              "<tr><td style=\"text-align: center;\">    6874    </td><td style=\"text-align: center;\"> 2003 </td><td style=\"text-align: center;\">    4.0     </td><td style=\"text-align: center;\">    0    </td><td style=\"text-align: center;\">     0      </td><td style=\"text-align: center;\">     0      </td><td style=\"text-align: center;\">     0     </td><td style=\"text-align: center;\">    0    </td><td style=\"text-align: center;\">   0   </td><td style=\"text-align: center;\">      0       </td><td style=\"text-align: center;\">   0   </td><td style=\"text-align: center;\">    0     </td><td style=\"text-align: center;\">    0    </td><td style=\"text-align: center;\">    0     </td><td style=\"text-align: center;\">    0     </td><td style=\"text-align: center;\">    0    </td><td style=\"text-align: center;\">     1     </td></tr>\n",
              "<tr><td style=\"text-align: center;\">    8798    </td><td style=\"text-align: center;\"> 2004 </td><td style=\"text-align: center;\">    3.8     </td><td style=\"text-align: center;\">    1    </td><td style=\"text-align: center;\">     0      </td><td style=\"text-align: center;\">     0      </td><td style=\"text-align: center;\">     0     </td><td style=\"text-align: center;\">    0    </td><td style=\"text-align: center;\">   0   </td><td style=\"text-align: center;\">      0       </td><td style=\"text-align: center;\">   0   </td><td style=\"text-align: center;\">    0     </td><td style=\"text-align: center;\">    0    </td><td style=\"text-align: center;\">    0     </td><td style=\"text-align: center;\">    0     </td><td style=\"text-align: center;\">    0    </td><td style=\"text-align: center;\">     0     </td></tr>\n",
              "<tr><td style=\"text-align: center;\">    8798    </td><td style=\"text-align: center;\"> 2004 </td><td style=\"text-align: center;\">    3.8     </td><td style=\"text-align: center;\">    0    </td><td style=\"text-align: center;\">     0      </td><td style=\"text-align: center;\">     0      </td><td style=\"text-align: center;\">     0     </td><td style=\"text-align: center;\">    0    </td><td style=\"text-align: center;\">   1   </td><td style=\"text-align: center;\">      0       </td><td style=\"text-align: center;\">   0   </td><td style=\"text-align: center;\">    0     </td><td style=\"text-align: center;\">    0    </td><td style=\"text-align: center;\">    0     </td><td style=\"text-align: center;\">    0     </td><td style=\"text-align: center;\">    0    </td><td style=\"text-align: center;\">     0     </td></tr>\n",
              "</tbody>\n",
              "</table>"
            ],
            "application/vnd.google.colaboratory.intrinsic+json": {
              "type": "string"
            }
          },
          "metadata": {},
          "execution_count": 14
        }
      ]
    },
    {
      "cell_type": "markdown",
      "source": [
        "![Screenshot 2025-06-09 124811.png](data:image/png;base64,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)"
      ],
      "metadata": {
        "id": "jQQ39fWTuLZ4"
      }
    },
    {
      "cell_type": "code",
      "source": [
        "print(f\"y_train[:5]: {y_train[:5]}\")"
      ],
      "metadata": {
        "colab": {
          "base_uri": "https://localhost:8080/"
        },
        "id": "xWnulp8auR5o",
        "outputId": "ab2e361f-0ac2-4d2d-ca8b-018ebc5f02fb"
      },
      "execution_count": 15,
      "outputs": [
        {
          "output_type": "stream",
          "name": "stdout",
          "text": [
            "y_train[:5]: [4.  4.  4.  3.5 3.5]\n"
          ]
        }
      ]
    },
    {
      "cell_type": "code",
      "source": [
        "if scaledata:\n",
        "    item_train_save = item_train\n",
        "    user_train_save = user_train\n",
        "\n",
        "    scalerItem = StandardScaler()\n",
        "    scalerItem.fit(item_train)\n",
        "    item_train = scalerItem.transform(item_train)\n",
        "\n",
        "    scalerUser = StandardScaler()\n",
        "    scalerUser.fit(user_train)\n",
        "    user_train = scalerUser.transform(user_train)\n",
        "\n",
        "    print(np.allclose(item_train_save, scalerItem.inverse_transform(item_train)))\n",
        "    print(np.allclose(user_train_save, scalerUser.inverse_transform(user_train)))"
      ],
      "metadata": {
        "colab": {
          "base_uri": "https://localhost:8080/"
        },
        "id": "ya-LulRHvfjl",
        "outputId": "46c20b7f-1a8d-4c12-b578-a0e8ce4ff514"
      },
      "execution_count": 16,
      "outputs": [
        {
          "output_type": "stream",
          "name": "stdout",
          "text": [
            "True\n",
            "True\n"
          ]
        }
      ]
    },
    {
      "cell_type": "code",
      "source": [
        "item_train, item_test = train_test_split(item_train, train_size=0.80, shuffle=True, random_state=1)\n",
        "user_train, user_test = train_test_split(user_train, train_size=0.80, shuffle=True, random_state=1)\n",
        "y_train, y_test       = train_test_split(y_train,    train_size=0.80, shuffle=True, random_state=1)\n",
        "print(f\"movie/item training data shape: {item_train.shape}\")\n",
        "print(f\"movie/item test  data shape: {item_test.shape}\")\n"
      ],
      "metadata": {
        "colab": {
          "base_uri": "https://localhost:8080/"
        },
        "id": "Z089ehC6vyF3",
        "outputId": "489b98c5-7e33-4c20-f7b0-bbf7502205b7"
      },
      "execution_count": 17,
      "outputs": [
        {
          "output_type": "stream",
          "name": "stdout",
          "text": [
            "movie/item training data shape: (46549, 17)\n",
            "movie/item test  data shape: (11638, 17)\n"
          ]
        }
      ]
    },
    {
      "cell_type": "code",
      "source": [
        "scaler = MinMaxScaler((-1, 1))\n",
        "scaler.fit(y_train.reshape(-1, 1))\n",
        "ynorm_train = scaler.transform(y_train.reshape(-1, 1))\n",
        "ynorm_test = scaler.transform(y_test.reshape(-1, 1))\n",
        "print(ynorm_train.shape, ynorm_test.shape)\n"
      ],
      "metadata": {
        "colab": {
          "base_uri": "https://localhost:8080/"
        },
        "id": "-23qm6dWwN_M",
        "outputId": "934f17cd-88fa-4e5a-9dbe-787b1f6a66af"
      },
      "execution_count": 18,
      "outputs": [
        {
          "output_type": "stream",
          "name": "stdout",
          "text": [
            "(46549, 1) (11638, 1)\n"
          ]
        }
      ]
    },
    {
      "cell_type": "markdown",
      "source": [
        "##Neural Network for content based filtering"
      ],
      "metadata": {
        "id": "cGg6Gi8awT5o"
      }
    },
    {
      "cell_type": "code",
      "source": [
        "num_outputs = 32\n",
        "tf.random.set_seed(1)\n",
        "user_NN = tf.keras.models.Sequential([\n",
        "    ### START CODE HERE ###\n",
        "    tf.keras.layers.Dense(256, activation='relu'),\n",
        "    tf.keras.layers.Dense(128, activation='relu'),\n",
        "    tf.keras.layers.Dense(num_outputs, activation='linear'),\n",
        "    ### END CODE HERE ###\n",
        "])\n",
        "\n",
        "item_NN = tf.keras.models.Sequential([\n",
        "    ### START CODE HERE ###\n",
        "    tf.keras.layers.Dense(256, activation='relu'),\n",
        "    tf.keras.layers.Dense(128, activation='relu'),\n",
        "    tf.keras.layers.Dense(num_outputs, activation='linear'),\n",
        "    ### END CODE HERE ###\n",
        "])\n",
        "\n",
        "# create the user input and point to the base network\n",
        "input_user = tf.keras.layers.Input(shape=(num_user_features))\n",
        "vu = user_NN(input_user)\n",
        "vu = tf.linalg.l2_normalize(vu, axis=1)\n",
        "\n",
        "# create the item input and point to the base network\n",
        "input_item = tf.keras.layers.Input(shape=(num_item_features))\n",
        "vm = item_NN(input_item)\n",
        "vm = tf.linalg.l2_normalize(vm, axis=1)\n",
        "\n",
        "# compute the dot product of the two vectors vu and vm\n",
        "output = tf.keras.layers.Dot(axes=1)([vu, vm])\n",
        "\n",
        "# specify the inputs and output of the model\n",
        "model = Model([input_user, input_item], output)\n",
        "\n",
        "model.summary()"
      ],
      "metadata": {
        "colab": {
          "base_uri": "https://localhost:8080/",
          "height": 356
        },
        "id": "empEqTNwwZiR",
        "outputId": "16b4a1e4-c13b-4a97-f66a-4731d2c27eff"
      },
      "execution_count": 31,
      "outputs": [
        {
          "output_type": "error",
          "ename": "ValueError",
          "evalue": "Cannot convert '14' to a shape.",
          "traceback": [
            "\u001b[0;31m---------------------------------------------------------------------------\u001b[0m",
            "\u001b[0;31mValueError\u001b[0m                                Traceback (most recent call last)",
            "\u001b[0;32m<ipython-input-31-b60bc5b2074c>\u001b[0m in \u001b[0;36m<cell line: 0>\u001b[0;34m()\u001b[0m\n\u001b[1;32m     18\u001b[0m \u001b[0;34m\u001b[0m\u001b[0m\n\u001b[1;32m     19\u001b[0m \u001b[0;31m# create the user input and point to the base network\u001b[0m\u001b[0;34m\u001b[0m\u001b[0;34m\u001b[0m\u001b[0m\n\u001b[0;32m---> 20\u001b[0;31m \u001b[0minput_user\u001b[0m \u001b[0;34m=\u001b[0m \u001b[0mtf\u001b[0m\u001b[0;34m.\u001b[0m\u001b[0mkeras\u001b[0m\u001b[0;34m.\u001b[0m\u001b[0mlayers\u001b[0m\u001b[0;34m.\u001b[0m\u001b[0mInput\u001b[0m\u001b[0;34m(\u001b[0m\u001b[0mshape\u001b[0m\u001b[0;34m=\u001b[0m\u001b[0;34m(\u001b[0m\u001b[0mnum_user_features\u001b[0m\u001b[0;34m)\u001b[0m\u001b[0;34m)\u001b[0m\u001b[0;34m\u001b[0m\u001b[0;34m\u001b[0m\u001b[0m\n\u001b[0m\u001b[1;32m     21\u001b[0m \u001b[0mvu\u001b[0m \u001b[0;34m=\u001b[0m \u001b[0muser_NN\u001b[0m\u001b[0;34m(\u001b[0m\u001b[0minput_user\u001b[0m\u001b[0;34m)\u001b[0m\u001b[0;34m\u001b[0m\u001b[0;34m\u001b[0m\u001b[0m\n\u001b[1;32m     22\u001b[0m \u001b[0mvu\u001b[0m \u001b[0;34m=\u001b[0m \u001b[0mtf\u001b[0m\u001b[0;34m.\u001b[0m\u001b[0mlinalg\u001b[0m\u001b[0;34m.\u001b[0m\u001b[0ml2_normalize\u001b[0m\u001b[0;34m(\u001b[0m\u001b[0mvu\u001b[0m\u001b[0;34m,\u001b[0m \u001b[0maxis\u001b[0m\u001b[0;34m=\u001b[0m\u001b[0;36m1\u001b[0m\u001b[0;34m)\u001b[0m\u001b[0;34m\u001b[0m\u001b[0;34m\u001b[0m\u001b[0m\n",
            "\u001b[0;32m/usr/local/lib/python3.11/dist-packages/keras/src/layers/core/input_layer.py\u001b[0m in \u001b[0;36mInput\u001b[0;34m(shape, batch_size, dtype, sparse, batch_shape, name, tensor, optional)\u001b[0m\n\u001b[1;32m    189\u001b[0m     \u001b[0;31m`\u001b[0m\u001b[0;31m`\u001b[0m\u001b[0;31m`\u001b[0m\u001b[0;34m\u001b[0m\u001b[0;34m\u001b[0m\u001b[0m\n\u001b[1;32m    190\u001b[0m     \"\"\"\n\u001b[0;32m--> 191\u001b[0;31m     layer = InputLayer(\n\u001b[0m\u001b[1;32m    192\u001b[0m         \u001b[0mshape\u001b[0m\u001b[0;34m=\u001b[0m\u001b[0mshape\u001b[0m\u001b[0;34m,\u001b[0m\u001b[0;34m\u001b[0m\u001b[0;34m\u001b[0m\u001b[0m\n\u001b[1;32m    193\u001b[0m         \u001b[0mbatch_size\u001b[0m\u001b[0;34m=\u001b[0m\u001b[0mbatch_size\u001b[0m\u001b[0;34m,\u001b[0m\u001b[0;34m\u001b[0m\u001b[0;34m\u001b[0m\u001b[0m\n",
            "\u001b[0;32m/usr/local/lib/python3.11/dist-packages/keras/src/layers/core/input_layer.py\u001b[0m in \u001b[0;36m__init__\u001b[0;34m(self, shape, batch_size, dtype, sparse, batch_shape, input_tensor, optional, name, **kwargs)\u001b[0m\n\u001b[1;32m     90\u001b[0m \u001b[0;34m\u001b[0m\u001b[0m\n\u001b[1;32m     91\u001b[0m             \u001b[0;32mif\u001b[0m \u001b[0mshape\u001b[0m \u001b[0;32mis\u001b[0m \u001b[0;32mnot\u001b[0m \u001b[0;32mNone\u001b[0m\u001b[0;34m:\u001b[0m\u001b[0;34m\u001b[0m\u001b[0;34m\u001b[0m\u001b[0m\n\u001b[0;32m---> 92\u001b[0;31m                 \u001b[0mshape\u001b[0m \u001b[0;34m=\u001b[0m \u001b[0mbackend\u001b[0m\u001b[0;34m.\u001b[0m\u001b[0mstandardize_shape\u001b[0m\u001b[0;34m(\u001b[0m\u001b[0mshape\u001b[0m\u001b[0;34m)\u001b[0m\u001b[0;34m\u001b[0m\u001b[0;34m\u001b[0m\u001b[0m\n\u001b[0m\u001b[1;32m     93\u001b[0m                 \u001b[0mbatch_shape\u001b[0m \u001b[0;34m=\u001b[0m \u001b[0;34m(\u001b[0m\u001b[0mbatch_size\u001b[0m\u001b[0;34m,\u001b[0m\u001b[0;34m)\u001b[0m \u001b[0;34m+\u001b[0m \u001b[0mshape\u001b[0m\u001b[0;34m\u001b[0m\u001b[0;34m\u001b[0m\u001b[0m\n\u001b[1;32m     94\u001b[0m \u001b[0;34m\u001b[0m\u001b[0m\n",
            "\u001b[0;32m/usr/local/lib/python3.11/dist-packages/keras/src/backend/common/variables.py\u001b[0m in \u001b[0;36mstandardize_shape\u001b[0;34m(shape)\u001b[0m\n\u001b[1;32m    560\u001b[0m             \u001b[0;32mraise\u001b[0m \u001b[0mValueError\u001b[0m\u001b[0;34m(\u001b[0m\u001b[0;34m\"Undefined shapes are not supported.\"\u001b[0m\u001b[0;34m)\u001b[0m\u001b[0;34m\u001b[0m\u001b[0;34m\u001b[0m\u001b[0m\n\u001b[1;32m    561\u001b[0m         \u001b[0;32mif\u001b[0m \u001b[0;32mnot\u001b[0m \u001b[0mhasattr\u001b[0m\u001b[0;34m(\u001b[0m\u001b[0mshape\u001b[0m\u001b[0;34m,\u001b[0m \u001b[0;34m\"__iter__\"\u001b[0m\u001b[0;34m)\u001b[0m\u001b[0;34m:\u001b[0m\u001b[0;34m\u001b[0m\u001b[0;34m\u001b[0m\u001b[0m\n\u001b[0;32m--> 562\u001b[0;31m             \u001b[0;32mraise\u001b[0m \u001b[0mValueError\u001b[0m\u001b[0;34m(\u001b[0m\u001b[0;34mf\"Cannot convert '{shape}' to a shape.\"\u001b[0m\u001b[0;34m)\u001b[0m\u001b[0;34m\u001b[0m\u001b[0;34m\u001b[0m\u001b[0m\n\u001b[0m\u001b[1;32m    563\u001b[0m         \u001b[0;32mif\u001b[0m \u001b[0mconfig\u001b[0m\u001b[0;34m.\u001b[0m\u001b[0mbackend\u001b[0m\u001b[0;34m(\u001b[0m\u001b[0;34m)\u001b[0m \u001b[0;34m==\u001b[0m \u001b[0;34m\"tensorflow\"\u001b[0m\u001b[0;34m:\u001b[0m\u001b[0;34m\u001b[0m\u001b[0;34m\u001b[0m\u001b[0m\n\u001b[1;32m    564\u001b[0m             \u001b[0;32mif\u001b[0m \u001b[0misinstance\u001b[0m\u001b[0;34m(\u001b[0m\u001b[0mshape\u001b[0m\u001b[0;34m,\u001b[0m \u001b[0mtf\u001b[0m\u001b[0;34m.\u001b[0m\u001b[0mTensorShape\u001b[0m\u001b[0;34m)\u001b[0m\u001b[0;34m:\u001b[0m\u001b[0;34m\u001b[0m\u001b[0;34m\u001b[0m\u001b[0m\n",
            "\u001b[0;31mValueError\u001b[0m: Cannot convert '14' to a shape."
          ]
        }
      ]
    },
    {
      "cell_type": "code",
      "source": [
        "tf.random.set_seed(1)\n",
        "cost_fn = tf.keras.losses.MeanSquaredError()\n",
        "opt = keras.optimizers.Adam(learning_rate=0.01)\n",
        "model.compile(optimizer=opt,\n",
        "              loss=cost_fn)"
      ],
      "metadata": {
        "id": "U7sfUYAN2tCs"
      },
      "execution_count": null,
      "outputs": []
    },
    {
      "cell_type": "code",
      "source": [
        "tf.random.set_seed(1)\n",
        "model.fit([user_train[:, u_s:], item_train[:, i_s:]], ynorm_train, epochs=30)"
      ],
      "metadata": {
        "id": "j66iLVXL2w5D"
      },
      "execution_count": null,
      "outputs": []
    },
    {
      "cell_type": "code",
      "source": [
        "model.evaluate([user_test[:, u_s:], item_test[:, i_s:]], ynorm_test)"
      ],
      "metadata": {
        "id": "pZlVRgoi28-v"
      },
      "execution_count": null,
      "outputs": []
    },
    {
      "cell_type": "markdown",
      "source": [
        "##Predictions for new user"
      ],
      "metadata": {
        "id": "MQZftmj53ZBH"
      }
    },
    {
      "cell_type": "code",
      "source": [
        "new_user_id = 5000\n",
        "new_rating_ave = 1.0\n",
        "new_action = 1.0\n",
        "new_adventure = 1\n",
        "new_animation = 1\n",
        "new_childrens = 1\n",
        "new_comedy = 5\n",
        "new_crime = 1\n",
        "new_documentary = 1\n",
        "new_drama = 1\n",
        "new_fantasy = 1\n",
        "new_horror = 1\n",
        "new_mystery = 1\n",
        "new_romance = 5\n",
        "new_scifi = 5\n",
        "new_thriller = 1\n",
        "new_rating_count = 3\n",
        "\n",
        "user_vec = np.array([[new_user_id, new_rating_count, new_rating_ave,\n",
        "                      new_action, new_adventure, new_animation, new_childrens,\n",
        "                      new_comedy, new_crime, new_documentary,\n",
        "                      new_drama, new_fantasy, new_horror, new_mystery,\n",
        "                      new_romance, new_scifi, new_thriller]])"
      ],
      "metadata": {
        "id": "m2NCdIZK3bVY"
      },
      "execution_count": null,
      "outputs": []
    },
    {
      "cell_type": "code",
      "source": [
        "# generate and replicate the user vector to match the number movies in the data set.\n",
        "user_vecs = gen_user_vecs(user_vec,len(item_vecs))\n",
        "\n",
        "# scale the vectors and make predictions for all movies. Return results sorted by rating.\n",
        "sorted_index, sorted_ypu, sorted_items, sorted_user = predict_uservec(user_vecs,  item_vecs, model, u_s, i_s,\n",
        "                                                                       scaler, scalerUser, scalerItem, scaledata=scaledata)\n",
        "\n",
        "print_pred_movies(sorted_ypu, sorted_user, sorted_items, movie_dict, maxcount = 10)"
      ],
      "metadata": {
        "id": "rAcAgbaX3jSi"
      },
      "execution_count": null,
      "outputs": []
    },
    {
      "cell_type": "code",
      "source": [
        "uid =  36\n",
        "# form a set of user vectors. This is the same vector, transformed and repeated.\n",
        "user_vecs, y_vecs = get_user_vecs(uid, scalerUser.inverse_transform(user_train), item_vecs, user_to_genre)\n",
        "\n",
        "# scale the vectors and make predictions for all movies. Return results sorted by rating.\n",
        "sorted_index, sorted_ypu, sorted_items, sorted_user = predict_uservec(user_vecs, item_vecs, model, u_s, i_s, scaler,\n",
        "                                                                      scalerUser, scalerItem, scaledata=scaledata)\n",
        "sorted_y = y_vecs[sorted_index]\n",
        "\n",
        "#print sorted predictions\n",
        "print_existing_user(sorted_ypu, sorted_y.reshape(-1,1), sorted_user, sorted_items, item_features, ivs, uvs, movie_dict, maxcount = 10)"
      ],
      "metadata": {
        "id": "pDPDolKJ3mOO"
      },
      "execution_count": null,
      "outputs": []
    },
    {
      "cell_type": "markdown",
      "source": [
        "\n",
        "\n",
        "![image.png](data:image/png;base64,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)\n",
        "\n"
      ],
      "metadata": {
        "id": "SQwCs6OP4qA6"
      }
    },
    {
      "cell_type": "code",
      "source": [
        "def sq_dist(a,b):\n",
        "    \"\"\"\n",
        "    Returns the squared distance between two vectors\n",
        "    Args:\n",
        "      a (ndarray (n,)): vector with n features\n",
        "      b (ndarray (n,)): vector with n features\n",
        "    Returns:\n",
        "      d (float) : distance\n",
        "    \"\"\"\n",
        "    ### START CODE HERE ###\n",
        "    d = sum(np.square(a-b))\n",
        "    ### END CODE HERE ###\n",
        "    return (d)"
      ],
      "metadata": {
        "id": "cQQdZpfx4iPC"
      },
      "execution_count": 32,
      "outputs": []
    },
    {
      "cell_type": "code",
      "source": [
        "a1 = np.array([1.0, 2.0, 3.0]); b1 = np.array([1.0, 2.0, 3.0])\n",
        "a2 = np.array([1.1, 2.1, 3.1]); b2 = np.array([1.0, 2.0, 3.0])\n",
        "a3 = np.array([0, 1, 0]);       b3 = np.array([1, 0, 0])\n",
        "print(f\"squared distance between a1 and b1: {sq_dist(a1, b1)}\")\n",
        "print(f\"squared distance between a2 and b2: {sq_dist(a2, b2)}\")\n",
        "print(f\"squared distance between a3 and b3: {sq_dist(a3, b3)}\")"
      ],
      "metadata": {
        "colab": {
          "base_uri": "https://localhost:8080/"
        },
        "id": "5kiPYB_s5H7S",
        "outputId": "beee94d6-59b8-4297-9399-ef58c346be12"
      },
      "execution_count": 33,
      "outputs": [
        {
          "output_type": "stream",
          "name": "stdout",
          "text": [
            "squared distance between a1 and b1: 0.0\n",
            "squared distance between a2 and b2: 0.030000000000000054\n",
            "squared distance between a3 and b3: 2\n"
          ]
        }
      ]
    },
    {
      "cell_type": "code",
      "source": [
        "input_item_m = tf.keras.layers.Input(shape=(num_item_features))    # input layer\n",
        "vm_m = item_NN(input_item_m)                                       # use the trained item_NN\n",
        "vm_m = tf.linalg.l2_normalize(vm_m, axis=1)                        # incorporate normalization as was done in the original model\n",
        "model_m = Model(input_item_m, vm_m)\n",
        "model_m.summary()"
      ],
      "metadata": {
        "collapsed": true,
        "colab": {
          "base_uri": "https://localhost:8080/",
          "height": 373
        },
        "id": "5xrBMv1p5NLW",
        "outputId": "61031046-2c0b-4ed2-d4bb-4dd8ec7b6902"
      },
      "execution_count": 34,
      "outputs": [
        {
          "output_type": "error",
          "ename": "ValueError",
          "evalue": "Cannot convert '16' to a shape.",
          "traceback": [
            "\u001b[0;31m---------------------------------------------------------------------------\u001b[0m",
            "\u001b[0;31mValueError\u001b[0m                                Traceback (most recent call last)",
            "\u001b[0;32m<ipython-input-34-b4f06e3073cf>\u001b[0m in \u001b[0;36m<cell line: 0>\u001b[0;34m()\u001b[0m\n\u001b[0;32m----> 1\u001b[0;31m \u001b[0minput_item_m\u001b[0m \u001b[0;34m=\u001b[0m \u001b[0mtf\u001b[0m\u001b[0;34m.\u001b[0m\u001b[0mkeras\u001b[0m\u001b[0;34m.\u001b[0m\u001b[0mlayers\u001b[0m\u001b[0;34m.\u001b[0m\u001b[0mInput\u001b[0m\u001b[0;34m(\u001b[0m\u001b[0mshape\u001b[0m\u001b[0;34m=\u001b[0m\u001b[0;34m(\u001b[0m\u001b[0mnum_item_features\u001b[0m\u001b[0;34m)\u001b[0m\u001b[0;34m)\u001b[0m    \u001b[0;31m# input layer\u001b[0m\u001b[0;34m\u001b[0m\u001b[0;34m\u001b[0m\u001b[0m\n\u001b[0m\u001b[1;32m      2\u001b[0m \u001b[0mvm_m\u001b[0m \u001b[0;34m=\u001b[0m \u001b[0mitem_NN\u001b[0m\u001b[0;34m(\u001b[0m\u001b[0minput_item_m\u001b[0m\u001b[0;34m)\u001b[0m                                       \u001b[0;31m# use the trained item_NN\u001b[0m\u001b[0;34m\u001b[0m\u001b[0;34m\u001b[0m\u001b[0m\n\u001b[1;32m      3\u001b[0m \u001b[0mvm_m\u001b[0m \u001b[0;34m=\u001b[0m \u001b[0mtf\u001b[0m\u001b[0;34m.\u001b[0m\u001b[0mlinalg\u001b[0m\u001b[0;34m.\u001b[0m\u001b[0ml2_normalize\u001b[0m\u001b[0;34m(\u001b[0m\u001b[0mvm_m\u001b[0m\u001b[0;34m,\u001b[0m \u001b[0maxis\u001b[0m\u001b[0;34m=\u001b[0m\u001b[0;36m1\u001b[0m\u001b[0;34m)\u001b[0m                        \u001b[0;31m# incorporate normalization as was done in the original model\u001b[0m\u001b[0;34m\u001b[0m\u001b[0;34m\u001b[0m\u001b[0m\n\u001b[1;32m      4\u001b[0m \u001b[0mmodel_m\u001b[0m \u001b[0;34m=\u001b[0m \u001b[0mModel\u001b[0m\u001b[0;34m(\u001b[0m\u001b[0minput_item_m\u001b[0m\u001b[0;34m,\u001b[0m \u001b[0mvm_m\u001b[0m\u001b[0;34m)\u001b[0m\u001b[0;34m\u001b[0m\u001b[0;34m\u001b[0m\u001b[0m\n\u001b[1;32m      5\u001b[0m \u001b[0mmodel_m\u001b[0m\u001b[0;34m.\u001b[0m\u001b[0msummary\u001b[0m\u001b[0;34m(\u001b[0m\u001b[0;34m)\u001b[0m\u001b[0;34m\u001b[0m\u001b[0;34m\u001b[0m\u001b[0m\n",
            "\u001b[0;32m/usr/local/lib/python3.11/dist-packages/keras/src/layers/core/input_layer.py\u001b[0m in \u001b[0;36mInput\u001b[0;34m(shape, batch_size, dtype, sparse, batch_shape, name, tensor, optional)\u001b[0m\n\u001b[1;32m    189\u001b[0m     \u001b[0;31m`\u001b[0m\u001b[0;31m`\u001b[0m\u001b[0;31m`\u001b[0m\u001b[0;34m\u001b[0m\u001b[0;34m\u001b[0m\u001b[0m\n\u001b[1;32m    190\u001b[0m     \"\"\"\n\u001b[0;32m--> 191\u001b[0;31m     layer = InputLayer(\n\u001b[0m\u001b[1;32m    192\u001b[0m         \u001b[0mshape\u001b[0m\u001b[0;34m=\u001b[0m\u001b[0mshape\u001b[0m\u001b[0;34m,\u001b[0m\u001b[0;34m\u001b[0m\u001b[0;34m\u001b[0m\u001b[0m\n\u001b[1;32m    193\u001b[0m         \u001b[0mbatch_size\u001b[0m\u001b[0;34m=\u001b[0m\u001b[0mbatch_size\u001b[0m\u001b[0;34m,\u001b[0m\u001b[0;34m\u001b[0m\u001b[0;34m\u001b[0m\u001b[0m\n",
            "\u001b[0;32m/usr/local/lib/python3.11/dist-packages/keras/src/layers/core/input_layer.py\u001b[0m in \u001b[0;36m__init__\u001b[0;34m(self, shape, batch_size, dtype, sparse, batch_shape, input_tensor, optional, name, **kwargs)\u001b[0m\n\u001b[1;32m     90\u001b[0m \u001b[0;34m\u001b[0m\u001b[0m\n\u001b[1;32m     91\u001b[0m             \u001b[0;32mif\u001b[0m \u001b[0mshape\u001b[0m \u001b[0;32mis\u001b[0m \u001b[0;32mnot\u001b[0m \u001b[0;32mNone\u001b[0m\u001b[0;34m:\u001b[0m\u001b[0;34m\u001b[0m\u001b[0;34m\u001b[0m\u001b[0m\n\u001b[0;32m---> 92\u001b[0;31m                 \u001b[0mshape\u001b[0m \u001b[0;34m=\u001b[0m \u001b[0mbackend\u001b[0m\u001b[0;34m.\u001b[0m\u001b[0mstandardize_shape\u001b[0m\u001b[0;34m(\u001b[0m\u001b[0mshape\u001b[0m\u001b[0;34m)\u001b[0m\u001b[0;34m\u001b[0m\u001b[0;34m\u001b[0m\u001b[0m\n\u001b[0m\u001b[1;32m     93\u001b[0m                 \u001b[0mbatch_shape\u001b[0m \u001b[0;34m=\u001b[0m \u001b[0;34m(\u001b[0m\u001b[0mbatch_size\u001b[0m\u001b[0;34m,\u001b[0m\u001b[0;34m)\u001b[0m \u001b[0;34m+\u001b[0m \u001b[0mshape\u001b[0m\u001b[0;34m\u001b[0m\u001b[0;34m\u001b[0m\u001b[0m\n\u001b[1;32m     94\u001b[0m \u001b[0;34m\u001b[0m\u001b[0m\n",
            "\u001b[0;32m/usr/local/lib/python3.11/dist-packages/keras/src/backend/common/variables.py\u001b[0m in \u001b[0;36mstandardize_shape\u001b[0;34m(shape)\u001b[0m\n\u001b[1;32m    560\u001b[0m             \u001b[0;32mraise\u001b[0m \u001b[0mValueError\u001b[0m\u001b[0;34m(\u001b[0m\u001b[0;34m\"Undefined shapes are not supported.\"\u001b[0m\u001b[0;34m)\u001b[0m\u001b[0;34m\u001b[0m\u001b[0;34m\u001b[0m\u001b[0m\n\u001b[1;32m    561\u001b[0m         \u001b[0;32mif\u001b[0m \u001b[0;32mnot\u001b[0m \u001b[0mhasattr\u001b[0m\u001b[0;34m(\u001b[0m\u001b[0mshape\u001b[0m\u001b[0;34m,\u001b[0m \u001b[0;34m\"__iter__\"\u001b[0m\u001b[0;34m)\u001b[0m\u001b[0;34m:\u001b[0m\u001b[0;34m\u001b[0m\u001b[0;34m\u001b[0m\u001b[0m\n\u001b[0;32m--> 562\u001b[0;31m             \u001b[0;32mraise\u001b[0m \u001b[0mValueError\u001b[0m\u001b[0;34m(\u001b[0m\u001b[0;34mf\"Cannot convert '{shape}' to a shape.\"\u001b[0m\u001b[0;34m)\u001b[0m\u001b[0;34m\u001b[0m\u001b[0;34m\u001b[0m\u001b[0m\n\u001b[0m\u001b[1;32m    563\u001b[0m         \u001b[0;32mif\u001b[0m \u001b[0mconfig\u001b[0m\u001b[0;34m.\u001b[0m\u001b[0mbackend\u001b[0m\u001b[0;34m(\u001b[0m\u001b[0;34m)\u001b[0m \u001b[0;34m==\u001b[0m \u001b[0;34m\"tensorflow\"\u001b[0m\u001b[0;34m:\u001b[0m\u001b[0;34m\u001b[0m\u001b[0;34m\u001b[0m\u001b[0m\n\u001b[1;32m    564\u001b[0m             \u001b[0;32mif\u001b[0m \u001b[0misinstance\u001b[0m\u001b[0;34m(\u001b[0m\u001b[0mshape\u001b[0m\u001b[0;34m,\u001b[0m \u001b[0mtf\u001b[0m\u001b[0;34m.\u001b[0m\u001b[0mTensorShape\u001b[0m\u001b[0;34m)\u001b[0m\u001b[0;34m:\u001b[0m\u001b[0;34m\u001b[0m\u001b[0;34m\u001b[0m\u001b[0m\n",
            "\u001b[0;31mValueError\u001b[0m: Cannot convert '16' to a shape."
          ]
        }
      ]
    },
    {
      "cell_type": "code",
      "source": [
        "scaled_item_vecs = scalerItem.transform(item_vecs)\n",
        "vms = model_m.predict(scaled_item_vecs[:,i_s:])\n",
        "print(f\"size of all predicted movie feature vectors: {vms.shape}\")"
      ],
      "metadata": {
        "id": "K7C4lKxe5Snp"
      },
      "execution_count": null,
      "outputs": []
    },
    {
      "cell_type": "code",
      "source": [
        "count = 50\n",
        "dim = len(vms)\n",
        "dist = np.zeros((dim,dim))\n",
        "\n",
        "for i in range(dim):\n",
        "    for j in range(dim):\n",
        "        dist[i,j] = sq_dist(vms[i, :], vms[j, :])\n",
        "\n",
        "m_dist = ma.masked_array(dist, mask=np.identity(dist.shape[0]))  # mask the diagonal\n",
        "\n",
        "disp = [[\"movie1\", \"genres\", \"movie2\", \"genres\"]]\n",
        "for i in range(count):\n",
        "    min_idx = np.argmin(m_dist[i])\n",
        "    movie1_id = int(item_vecs[i,0])\n",
        "    movie2_id = int(item_vecs[min_idx,0])\n",
        "    genre1,_  = get_item_genre(item_vecs[i,:], ivs, item_features)\n",
        "    genre2,_  = get_item_genre(item_vecs[min_idx,:], ivs, item_features)\n",
        "\n",
        "    disp.append( [movie_dict[movie1_id]['title'], genre1,\n",
        "                  movie_dict[movie2_id]['title'], genre2]\n",
        "               )\n",
        "table = tabulate.tabulate(disp, tablefmt='html', headers=\"firstrow\", floatfmt=[\".1f\", \".1f\", \".0f\", \".2f\", \".2f\"])\n",
        "table"
      ],
      "metadata": {
        "id": "vOTHgz8H5XNC"
      },
      "execution_count": null,
      "outputs": []
    }
  ]
}