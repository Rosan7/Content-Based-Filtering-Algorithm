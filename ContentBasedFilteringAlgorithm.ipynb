{
  "nbformat": 4,
  "nbformat_minor": 0,
  "metadata": {
    "colab": {
      "provenance": []
    },
    "kernelspec": {
      "name": "python3",
      "display_name": "Python 3"
    },
    "language_info": {
      "name": "python"
    }
  },
  "cells": [
    {
      "cell_type": "code",
      "execution_count": 96,
      "metadata": {
        "id": "ze0zrIPNcsHI"
      },
      "outputs": [],
      "source": [
        "import pickle\n",
        "import numpy as np\n",
        "from numpy import genfromtxt\n",
        "from collections import defaultdict\n",
        "import pandas as pd\n",
        "import tensorflow as tf\n",
        "# from tensorflow import keras\n",
        "from tensorflow.keras.models import Model\n",
        "from sklearn.preprocessing import StandardScaler, MinMaxScaler\n",
        "from sklearn.model_selection import train_test_split\n",
        "import csv\n",
        "import re\n",
        "import tabulate\n",
        "\n",
        "\n",
        "def load_data():\n",
        "    item_train = genfromtxt('./sample_data/content_item_train.csv', delimiter=',')\n",
        "    user_train = genfromtxt('./sample_data/content_user_train.csv', delimiter=',')\n",
        "    y_train    = genfromtxt('./sample_data/content_y_train.csv', delimiter=',')\n",
        "    with open('./sample_data/content_item_train_header.txt', newline='') as f:    #csv reader handles quoted strings better\n",
        "        item_features = list(csv.reader(f))[0]\n",
        "    with open('./sample_data/content_user_train_header.txt', newline='') as f:\n",
        "        user_features = list(csv.reader(f))[0]\n",
        "    item_vecs = genfromtxt('./sample_data/content_item_vecs.csv', delimiter=',')\n",
        "\n",
        "    movie_dict = defaultdict(dict)\n",
        "    count = 0\n",
        "#    with open('./data/movies.csv', newline='') as csvfile:\n",
        "    with open('./sample_data/content_movie_list.csv', newline='') as csvfile:\n",
        "        reader = csv.reader(csvfile, delimiter=',', quotechar='\"')\n",
        "        for line in reader:\n",
        "            if count == 0:\n",
        "                count +=1  #skip header\n",
        "                #print(line)\n",
        "            else:\n",
        "                count +=1\n",
        "                movie_id = int(line[0])\n",
        "                movie_dict[movie_id][\"title\"] = line[1]\n",
        "                movie_dict[movie_id][\"genres\"] =line[2]\n",
        "\n",
        "    with open('./sample_data/content_user_to_genre.pickle', 'rb') as f:\n",
        "        user_to_genre = pickle.load(f)\n",
        "\n",
        "    return (item_train, user_train, y_train, item_features, user_features, item_vecs, movie_dict, user_to_genre)\n",
        "\n",
        "\n",
        "def pprint_train(x_train, features,  vs, u_s, maxcount = 5, user=True):\n",
        "    \"\"\" Prints user_train or item_train nicely \"\"\"\n",
        "    if user:\n",
        "        flist = [\".0f\",\".0f\",\".1f\",\n",
        "                 \".1f\", \".1f\", \".1f\", \".1f\",\".1f\",\".1f\", \".1f\",\".1f\",\".1f\", \".1f\",\".1f\",\".1f\",\".1f\",\".1f\"]\n",
        "    else:\n",
        "        flist = [\".0f\",\".0f\",\".1f\",\n",
        "                 \".0f\",\".0f\",\".0f\", \".0f\",\".0f\",\".0f\", \".0f\",\".0f\",\".0f\", \".0f\",\".0f\",\".0f\",\".0f\",\".0f\"]\n",
        "\n",
        "    head = features[:vs]\n",
        "    if vs < u_s: print(\"error, vector start {vs} should be greater then user start {u_s}\")\n",
        "    for i in range(u_s):\n",
        "        head[i] = \"[\" + head[i] + \"]\"\n",
        "    genres = features[vs:]\n",
        "    hdr = head + genres\n",
        "    disp = [split_str(hdr, 5)]\n",
        "    count = 0\n",
        "    for i in range(0,x_train.shape[0]):\n",
        "        if count == maxcount: break\n",
        "        count += 1\n",
        "        disp.append( [\n",
        "                      x_train[i,0].astype(int),\n",
        "                      x_train[i,1].astype(int),\n",
        "                      x_train[i,2].astype(float),\n",
        "                      *x_train[i,3:].astype(float)\n",
        "                    ])\n",
        "    table = tabulate.tabulate(disp, tablefmt='html',headers=\"firstrow\", floatfmt=flist, numalign='center')\n",
        "    return(table)\n",
        "\n",
        "\n",
        "def pprint_data(y_p, user_train, item_train, printfull=False):\n",
        "    np.set_printoptions(precision=1)\n",
        "\n",
        "    for i in range(0,1000):\n",
        "        #print(f\"{y_p[i,0]: 0.2f}, {ynorm_train.numpy()[i].item(): 0.2f}\")\n",
        "        print(f\"{y_pu[i,0]: 0.2f}, {y_train[i]: 0.2f}, \", end='')\n",
        "        print(f\"{user_train[i,0].astype(int):d}, \",  end='')   # userid\n",
        "        print(f\"{user_train[i,1].astype(int):d}, \", end=''),  #  rating cnt\n",
        "        print(f\"{user_train[i,2].astype(float): 0.2f}, \",  end='')       # rating ave\n",
        "        print(\": \", end = '')\n",
        "        print(f\"{item_train[i,0].astype(int):d}, \",  end='')   # movie id\n",
        "        print(f\"{item_train[i,2].astype(float):0.1f}, \", end='')   # ave movie rating\n",
        "        if printfull:\n",
        "          for j in range(8, user_train.shape[1]):\n",
        "            print(f\"{user_train[i,j].astype(float):0.1f}, \", end='')   # rating\n",
        "          print(\":\", end='')\n",
        "          for j in range(3, item_train.shape[1]):\n",
        "            print(f\"{item_train[i,j].astype(int):d}, \", end='')   # rating\n",
        "          print()\n",
        "        else:\n",
        "          a = user_train[i, uvs:user_train.shape[1]]\n",
        "          b = item_train[i, ivs:item_train.shape[1]]\n",
        "          c = np.multiply(a,b)\n",
        "          print(c)\n",
        "\n",
        "def split_str(ifeatures, smax):\n",
        "    ofeatures = []\n",
        "    for s in ifeatures:\n",
        "        if ' ' not in s:  # skip string that already have a space\n",
        "            if len(s) > smax:\n",
        "                mid = int(len(s)/2)\n",
        "                s = s[:mid] + \" \" + s[mid:]\n",
        "        ofeatures.append(s)\n",
        "    return(ofeatures)\n",
        "\n",
        "def pprint_data_tab(y_p, user_train, item_train, uvs, ivs, user_features, item_features, maxcount = 20, printfull=False):\n",
        "    flist = [\".1f\", \".1f\", \".0f\", \".1f\", \".0f\", \".0f\", \".0f\",\n",
        "             \".1f\",\".1f\",\".1f\",\".1f\",\".1f\",\".1f\",\".1f\",\".1f\",\".1f\",\".1f\",\".1f\",\".1f\",\".1f\",\".1f\"]\n",
        "    user_head = user_features[:uvs]\n",
        "    genres = user_features[uvs:]\n",
        "    item_head = item_features[:ivs]\n",
        "    hdr = [\"y_p\", \"y\"] + user_head + item_head + genres\n",
        "    disp = [split_str(hdr, 5)]\n",
        "    count = 0\n",
        "    for i in range(0,y_p.shape[0]):\n",
        "        if count == maxcount: break\n",
        "        count += 1\n",
        "        a = user_train[i, uvs:user_train.shape[1]]\n",
        "        b = item_train[i, ivs:item_train.shape[1]]\n",
        "        c = np.multiply(a,b)\n",
        "\n",
        "        disp.append( [ y_p[i,0], y_train[i],\n",
        "                      user_train[i,0].astype(int),   # user id\n",
        "                      user_train[i,1].astype(int),   # rating cnt\n",
        "                      user_train[i,2].astype(float), # user rating ave\n",
        "                      item_train[i,0].astype(int),   # movie id\n",
        "                      item_train[i,1].astype(int),   # year\n",
        "                      item_train[i,2].astype(float),  # ave movie rating\n",
        "                      *c\n",
        "                     ])\n",
        "    table = tabulate.tabulate(disp, tablefmt='html',headers=\"firstrow\", floatfmt=flist, numalign='center')\n",
        "    return(table)\n",
        "\n",
        "\n",
        "\n",
        "\n",
        "def print_pred_movies(y_p, user, item, movie_dict, maxcount=10):\n",
        "    \"\"\" print results of prediction of a new user. inputs are expected to be in\n",
        "        sorted order, unscaled. \"\"\"\n",
        "    count = 0\n",
        "    movies_listed = defaultdict(int)\n",
        "    disp = [[\"y_p\", \"movie id\", \"rating ave\", \"title\", \"genres\"]]\n",
        "\n",
        "    for i in range(0, y_p.shape[0]):\n",
        "        if count == maxcount:\n",
        "            break\n",
        "        count += 1\n",
        "        movie_id = item[i, 0].astype(int)\n",
        "        if movie_id in movies_listed:\n",
        "            continue\n",
        "        movies_listed[movie_id] = 1\n",
        "        disp.append([y_p[i, 0], item[i, 0].astype(int), item[i, 2].astype(float),\n",
        "                    movie_dict[movie_id]['title'], movie_dict[movie_id]['genres']])\n",
        "\n",
        "    table = tabulate.tabulate(disp, tablefmt='html',headers=\"firstrow\")\n",
        "    return(table)\n",
        "\n",
        "def gen_user_vecs(user_vec, num_items):\n",
        "    \"\"\" given a user vector return:\n",
        "        user predict maxtrix to match the size of item_vecs \"\"\"\n",
        "    user_vecs = np.tile(user_vec, (num_items, 1))\n",
        "    return(user_vecs)\n",
        "\n",
        "# predict on  everything, filter on print/use\n",
        "def predict_uservec(user_vecs, item_vecs, model, u_s, i_s, scaler, ScalerUser, ScalerItem, scaledata=False):\n",
        "    \"\"\" given a user vector, does the prediction on all movies in item_vecs returns\n",
        "        an array predictions sorted by predicted rating,\n",
        "        arrays of user and item, sorted by predicted rating sorting index\n",
        "    \"\"\"\n",
        "    if scaledata:\n",
        "        scaled_user_vecs = ScalerUser.transform(user_vecs)\n",
        "        scaled_item_vecs = ScalerItem.transform(item_vecs)\n",
        "        y_p = model.predict([scaled_user_vecs[:, u_s:], scaled_item_vecs[:, i_s:]])\n",
        "    else:\n",
        "        y_p = model.predict([user_vecs[:, u_s:], item_vecs[:, i_s:]])\n",
        "    y_pu = scaler.inverse_transform(y_p)\n",
        "\n",
        "    if np.any(y_pu < 0) :\n",
        "        print(\"Error, expected all positive predictions\")\n",
        "    sorted_index = np.argsort(-y_pu,axis=0).reshape(-1).tolist()  #negate to get largest rating first\n",
        "    sorted_ypu   = y_pu[sorted_index]\n",
        "    sorted_items = item_vecs[sorted_index]\n",
        "    sorted_user  = user_vecs[sorted_index]\n",
        "    return(sorted_index, sorted_ypu, sorted_items, sorted_user)\n",
        "\n",
        "\n",
        "def print_pred_debug(y_p, y, user, item, maxcount=10, onlyrating=False,  printfull=False):\n",
        "    \"\"\" hopefully reusable print. Keep for debug \"\"\"\n",
        "    count = 0\n",
        "    for i in range(0, y_p.shape[0]):\n",
        "        if onlyrating == False or (onlyrating == True and y[i,0] != 0):\n",
        "            if count == maxcount: break\n",
        "            count += 1\n",
        "            print(f\"{y_p[i, 0]: 0.2f}, {y[i,0]: 0.2f}, \", end='')\n",
        "            print(f\"{user[i, 0].astype(int):d}, \",  end='')       # userid\n",
        "            print(f\"{user[i, 1].astype(int):d}, \", end=''),       #  rating cnt\n",
        "            print(f\"{user[i, 2].astype(float):0.1f}, \", end=''),       #  rating ave\n",
        "            print(\": \", end = '')\n",
        "            print(f\"{item[i, 0].astype(int):d}, \",  end='')       # movie id\n",
        "            print(f\"{item[i, 2].astype(float):0.1f}, \", end='')   # ave movie rating\n",
        "            print(\": \", end = '')\n",
        "            if printfull:\n",
        "                for j in range(uvs, user.shape[1]):\n",
        "                    print(f\"{user[i, j].astype(float):0.1f}, \", end='') # rating\n",
        "                print(\":\", end='')\n",
        "                for j in range(ivs, item.shape[1]):\n",
        "                    print(f\"{item[i, j].astype(int):d}, \", end='')    # rating\n",
        "                print()\n",
        "            else:\n",
        "                a = user[i, uvs:user.shape[1]]\n",
        "                b = item[i, ivs:item.shape[1]]\n",
        "                c = np.multiply(a,b)\n",
        "                print(c)\n",
        "\n",
        "\n",
        "def get_user_vecs(user_id, user_train, item_vecs, user_to_genre):\n",
        "    \"\"\" given a user_id, return:\n",
        "        user train/predict matrix to match the size of item_vecs\n",
        "        y vector with ratings for all rated movies and 0 for others of size item_vecs \"\"\"\n",
        "\n",
        "    if user_id not in user_to_genre:\n",
        "        print(\"error: unknown user id\")\n",
        "        return(None)\n",
        "    else:\n",
        "        user_vec_found = False\n",
        "        for i in range(len(user_train)):\n",
        "            if user_train[i, 0] == user_id:\n",
        "                user_vec = user_train[i]\n",
        "                user_vec_found = True\n",
        "                print(\"I am here\")\n",
        "                break\n",
        "        if not user_vec_found:\n",
        "            print(\"error in get_user_vecs, did not find uid in user_train\")\n",
        "        num_items = len(item_vecs)\n",
        "        user_vecs = np.tile(user_vec, (num_items, 1))\n",
        "\n",
        "        y = np.zeros(num_items)\n",
        "        for i in range(num_items):  # walk through movies in item_vecs and get the movies, see if user has rated them\n",
        "            movie_id = item_vecs[i, 0]\n",
        "            if movie_id in user_to_genre[user_id]['movies']:\n",
        "                rating = user_to_genre[user_id]['movies'][movie_id]\n",
        "            else:\n",
        "                rating = 0\n",
        "            y[i] = rating\n",
        "    return(user_vecs, y)\n",
        "\n",
        "\n",
        "def get_item_genre(item, ivs, item_features):\n",
        "    offset = np.where(item[ivs:] == 1)[0][0]\n",
        "    genre = item_features[ivs + offset]\n",
        "    return(genre, offset)\n",
        "\n",
        "\n",
        "def print_existing_user(y_p, y, user, items, item_features, ivs, uvs, movie_dict, maxcount=10):\n",
        "    \"\"\" print results of prediction a user who was in the datatbase. inputs are expected to be in sorted order, unscaled. \"\"\"\n",
        "    count = 0\n",
        "    movies_listed = defaultdict(int)\n",
        "    disp = [[\"y_p\", \"y\", \"user\", \"user genre ave\", \"movie rating ave\", \"title\", \"genres\"]]\n",
        "    listed = []\n",
        "    count = 0\n",
        "    for i in range(0, y.shape[0]):\n",
        "        if y[i, 0] != 0:\n",
        "            if count == maxcount:\n",
        "                break\n",
        "            count += 1\n",
        "            movie_id = items[i, 0].astype(int)\n",
        "\n",
        "            offset = np.where(items[i, ivs:] == 1)[0][0]\n",
        "            genre_rating = user[i, uvs + offset]\n",
        "            genre = item_features[ivs + offset]\n",
        "            disp.append([y_p[i, 0], y[i, 0],\n",
        "                        user[i, 0].astype(int),      # userid\n",
        "                        genre_rating.astype(float),\n",
        "                        items[i, 2].astype(float),    # movie average rating\n",
        "                        movie_dict[movie_id]['title'], genre])\n",
        "\n",
        "    table = tabulate.tabulate(disp, tablefmt='html', headers=\"firstrow\", floatfmt=[\".1f\", \".1f\", \".0f\", \".2f\", \".2f\"])\n",
        "    return(table)"
      ]
    },
    {
      "cell_type": "code",
      "source": [
        "import numpy as np\n",
        "import numpy.ma as ma\n",
        "from numpy import genfromtxt\n",
        "from collections import defaultdict\n",
        "import pandas as pd\n",
        "import tensorflow as tf\n",
        "from tensorflow import keras\n",
        "from sklearn.preprocessing import StandardScaler, MinMaxScaler\n",
        "from sklearn.model_selection import train_test_split\n",
        "import tabulate\n",
        "# from recsysNN_utils import *\n",
        "pd.set_option(\"display.precision\", 1)"
      ],
      "metadata": {
        "id": "QhqdCoDvdJDq"
      },
      "execution_count": 68,
      "outputs": []
    },
    {
      "cell_type": "code",
      "source": [
        "item_train, user_train, y_train, item_features, user_features, item_vecs, movie_dict, user_to_genre = load_data()\n",
        "\n",
        "num_user_features = user_train.shape[1] - 3  # remove userid, rating count and ave rating during training\n",
        "num_item_features = item_train.shape[1] - 1  # remove movie id at train time\n",
        "uvs = 3  # user genre vector start\n",
        "ivs = 3  # item genre vector start\n",
        "u_s = 3  # start of columns to use in training, user\n",
        "i_s = 1  # start of columns to use in training, items\n",
        "scaledata = True  # applies the standard scalar to data if true\n",
        "print(f\"Number of training vectors: {len(item_train)}\")"
      ],
      "metadata": {
        "colab": {
          "base_uri": "https://localhost:8080/"
        },
        "id": "as7fuYJyfHFB",
        "outputId": "d750726a-2d7a-4cdf-e662-afb1f265e865"
      },
      "execution_count": 82,
      "outputs": [
        {
          "output_type": "stream",
          "name": "stdout",
          "text": [
            "Number of training vectors: 58187\n"
          ]
        },
        {
          "output_type": "stream",
          "name": "stderr",
          "text": [
            "<ipython-input-67-5c3ff4fbcd91>:42: DeprecationWarning: numpy.core.numeric is deprecated and has been renamed to numpy._core.numeric. The numpy._core namespace contains private NumPy internals and its use is discouraged, as NumPy internals can change without warning in any release. In practice, most real-world usage of numpy.core is to access functionality in the public NumPy API. If that is the case, use the public NumPy API. If not, you are using NumPy internals. If you would still like to access an internal attribute, use numpy._core.numeric._frombuffer.\n",
            "  user_to_genre = pickle.load(f)\n"
          ]
        }
      ]
    },
    {
      "cell_type": "code",
      "source": [
        "print(f\"y_train[:5]: {y_train[:5]}\")"
      ],
      "metadata": {
        "colab": {
          "base_uri": "https://localhost:8080/"
        },
        "collapsed": true,
        "id": "ifUnEj2Fh3YG",
        "outputId": "e5f3ed3a-dc79-4d40-8744-a2c8bee8a3ab"
      },
      "execution_count": 83,
      "outputs": [
        {
          "output_type": "stream",
          "name": "stdout",
          "text": [
            "y_train[:5]: [4.  4.  4.  3.5 3.5]\n"
          ]
        }
      ]
    },
    {
      "cell_type": "markdown",
      "source": [
        "![image.png](data:image/png;base64,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)"
      ],
      "metadata": {
        "id": "5tx5Z75VjIHa"
      }
    },
    {
      "cell_type": "code",
      "source": [
        "pprint_train(item_train, item_features, ivs, i_s, maxcount=5, user=False)"
      ],
      "metadata": {
        "colab": {
          "base_uri": "https://localhost:8080/",
          "height": 244
        },
        "collapsed": true,
        "id": "kDfSS2I4i0jp",
        "outputId": "3243dd6a-ca59-4dce-c378-a00c3962c922"
      },
      "execution_count": 84,
      "outputs": [
        {
          "output_type": "execute_result",
          "data": {
            "text/plain": [
              "'<table>\\n<thead>\\n<tr><th style=\"text-align: center;\"> [movie id] </th><th style=\"text-align: center;\"> year </th><th style=\"text-align: center;\"> ave rating </th><th style=\"text-align: center;\"> Act ion </th><th style=\"text-align: center;\"> Adve nture </th><th style=\"text-align: center;\"> Anim ation </th><th style=\"text-align: center;\"> Chil dren </th><th style=\"text-align: center;\"> Com edy </th><th style=\"text-align: center;\"> Crime </th><th style=\"text-align: center;\"> Docum entary </th><th style=\"text-align: center;\"> Drama </th><th style=\"text-align: center;\"> Fan tasy </th><th style=\"text-align: center;\"> Hor ror </th><th style=\"text-align: center;\"> Mys tery </th><th style=\"text-align: center;\"> Rom ance </th><th style=\"text-align: center;\"> Sci -Fi </th><th style=\"text-align: center;\"> Thri ller </th></tr>\\n</thead>\\n<tbody>\\n<tr><td style=\"text-align: center;\">    6874    </td><td style=\"text-align: center;\"> 2003 </td><td style=\"text-align: center;\">    4.0     </td><td style=\"text-align: center;\">    1    </td><td style=\"text-align: center;\">     0      </td><td style=\"text-align: center;\">     0      </td><td style=\"text-align: center;\">     0     </td><td style=\"text-align: center;\">    0    </td><td style=\"text-align: center;\">   0   </td><td style=\"text-align: center;\">      0       </td><td style=\"text-align: center;\">   0   </td><td style=\"text-align: center;\">    0     </td><td style=\"text-align: center;\">    0    </td><td style=\"text-align: center;\">    0     </td><td style=\"text-align: center;\">    0     </td><td style=\"text-align: center;\">    0    </td><td style=\"text-align: center;\">     0     </td></tr>\\n<tr><td style=\"text-align: center;\">    6874    </td><td style=\"text-align: center;\"> 2003 </td><td style=\"text-align: center;\">    4.0     </td><td style=\"text-align: center;\">    0    </td><td style=\"text-align: center;\">     0      </td><td style=\"text-align: center;\">     0      </td><td style=\"text-align: center;\">     0     </td><td style=\"text-align: center;\">    0    </td><td style=\"text-align: center;\">   1   </td><td style=\"text-align: center;\">      0       </td><td style=\"text-align: center;\">   0   </td><td style=\"text-align: center;\">    0     </td><td style=\"text-align: center;\">    0    </td><td style=\"text-align: center;\">    0     </td><td style=\"text-align: center;\">    0     </td><td style=\"text-align: center;\">    0    </td><td style=\"text-align: center;\">     0     </td></tr>\\n<tr><td style=\"text-align: center;\">    6874    </td><td style=\"text-align: center;\"> 2003 </td><td style=\"text-align: center;\">    4.0     </td><td style=\"text-align: center;\">    0    </td><td style=\"text-align: center;\">     0      </td><td style=\"text-align: center;\">     0      </td><td style=\"text-align: center;\">     0     </td><td style=\"text-align: center;\">    0    </td><td style=\"text-align: center;\">   0   </td><td style=\"text-align: center;\">      0       </td><td style=\"text-align: center;\">   0   </td><td style=\"text-align: center;\">    0     </td><td style=\"text-align: center;\">    0    </td><td style=\"text-align: center;\">    0     </td><td style=\"text-align: center;\">    0     </td><td style=\"text-align: center;\">    0    </td><td style=\"text-align: center;\">     1     </td></tr>\\n<tr><td style=\"text-align: center;\">    8798    </td><td style=\"text-align: center;\"> 2004 </td><td style=\"text-align: center;\">    3.8     </td><td style=\"text-align: center;\">    1    </td><td style=\"text-align: center;\">     0      </td><td style=\"text-align: center;\">     0      </td><td style=\"text-align: center;\">     0     </td><td style=\"text-align: center;\">    0    </td><td style=\"text-align: center;\">   0   </td><td style=\"text-align: center;\">      0       </td><td style=\"text-align: center;\">   0   </td><td style=\"text-align: center;\">    0     </td><td style=\"text-align: center;\">    0    </td><td style=\"text-align: center;\">    0     </td><td style=\"text-align: center;\">    0     </td><td style=\"text-align: center;\">    0    </td><td style=\"text-align: center;\">     0     </td></tr>\\n<tr><td style=\"text-align: center;\">    8798    </td><td style=\"text-align: center;\"> 2004 </td><td style=\"text-align: center;\">    3.8     </td><td style=\"text-align: center;\">    0    </td><td style=\"text-align: center;\">     0      </td><td style=\"text-align: center;\">     0      </td><td style=\"text-align: center;\">     0     </td><td style=\"text-align: center;\">    0    </td><td style=\"text-align: center;\">   1   </td><td style=\"text-align: center;\">      0       </td><td style=\"text-align: center;\">   0   </td><td style=\"text-align: center;\">    0     </td><td style=\"text-align: center;\">    0    </td><td style=\"text-align: center;\">    0     </td><td style=\"text-align: center;\">    0     </td><td style=\"text-align: center;\">    0    </td><td style=\"text-align: center;\">     0     </td></tr>\\n</tbody>\\n</table>'"
            ],
            "text/html": [
              "<table>\n",
              "<thead>\n",
              "<tr><th style=\"text-align: center;\"> [movie id] </th><th style=\"text-align: center;\"> year </th><th style=\"text-align: center;\"> ave rating </th><th style=\"text-align: center;\"> Act ion </th><th style=\"text-align: center;\"> Adve nture </th><th style=\"text-align: center;\"> Anim ation </th><th style=\"text-align: center;\"> Chil dren </th><th style=\"text-align: center;\"> Com edy </th><th style=\"text-align: center;\"> Crime </th><th style=\"text-align: center;\"> Docum entary </th><th style=\"text-align: center;\"> Drama </th><th style=\"text-align: center;\"> Fan tasy </th><th style=\"text-align: center;\"> Hor ror </th><th style=\"text-align: center;\"> Mys tery </th><th style=\"text-align: center;\"> Rom ance </th><th style=\"text-align: center;\"> Sci -Fi </th><th style=\"text-align: center;\"> Thri ller </th></tr>\n",
              "</thead>\n",
              "<tbody>\n",
              "<tr><td style=\"text-align: center;\">    6874    </td><td style=\"text-align: center;\"> 2003 </td><td style=\"text-align: center;\">    4.0     </td><td style=\"text-align: center;\">    1    </td><td style=\"text-align: center;\">     0      </td><td style=\"text-align: center;\">     0      </td><td style=\"text-align: center;\">     0     </td><td style=\"text-align: center;\">    0    </td><td style=\"text-align: center;\">   0   </td><td style=\"text-align: center;\">      0       </td><td style=\"text-align: center;\">   0   </td><td style=\"text-align: center;\">    0     </td><td style=\"text-align: center;\">    0    </td><td style=\"text-align: center;\">    0     </td><td style=\"text-align: center;\">    0     </td><td style=\"text-align: center;\">    0    </td><td style=\"text-align: center;\">     0     </td></tr>\n",
              "<tr><td style=\"text-align: center;\">    6874    </td><td style=\"text-align: center;\"> 2003 </td><td style=\"text-align: center;\">    4.0     </td><td style=\"text-align: center;\">    0    </td><td style=\"text-align: center;\">     0      </td><td style=\"text-align: center;\">     0      </td><td style=\"text-align: center;\">     0     </td><td style=\"text-align: center;\">    0    </td><td style=\"text-align: center;\">   1   </td><td style=\"text-align: center;\">      0       </td><td style=\"text-align: center;\">   0   </td><td style=\"text-align: center;\">    0     </td><td style=\"text-align: center;\">    0    </td><td style=\"text-align: center;\">    0     </td><td style=\"text-align: center;\">    0     </td><td style=\"text-align: center;\">    0    </td><td style=\"text-align: center;\">     0     </td></tr>\n",
              "<tr><td style=\"text-align: center;\">    6874    </td><td style=\"text-align: center;\"> 2003 </td><td style=\"text-align: center;\">    4.0     </td><td style=\"text-align: center;\">    0    </td><td style=\"text-align: center;\">     0      </td><td style=\"text-align: center;\">     0      </td><td style=\"text-align: center;\">     0     </td><td style=\"text-align: center;\">    0    </td><td style=\"text-align: center;\">   0   </td><td style=\"text-align: center;\">      0       </td><td style=\"text-align: center;\">   0   </td><td style=\"text-align: center;\">    0     </td><td style=\"text-align: center;\">    0    </td><td style=\"text-align: center;\">    0     </td><td style=\"text-align: center;\">    0     </td><td style=\"text-align: center;\">    0    </td><td style=\"text-align: center;\">     1     </td></tr>\n",
              "<tr><td style=\"text-align: center;\">    8798    </td><td style=\"text-align: center;\"> 2004 </td><td style=\"text-align: center;\">    3.8     </td><td style=\"text-align: center;\">    1    </td><td style=\"text-align: center;\">     0      </td><td style=\"text-align: center;\">     0      </td><td style=\"text-align: center;\">     0     </td><td style=\"text-align: center;\">    0    </td><td style=\"text-align: center;\">   0   </td><td style=\"text-align: center;\">      0       </td><td style=\"text-align: center;\">   0   </td><td style=\"text-align: center;\">    0     </td><td style=\"text-align: center;\">    0    </td><td style=\"text-align: center;\">    0     </td><td style=\"text-align: center;\">    0     </td><td style=\"text-align: center;\">    0    </td><td style=\"text-align: center;\">     0     </td></tr>\n",
              "<tr><td style=\"text-align: center;\">    8798    </td><td style=\"text-align: center;\"> 2004 </td><td style=\"text-align: center;\">    3.8     </td><td style=\"text-align: center;\">    0    </td><td style=\"text-align: center;\">     0      </td><td style=\"text-align: center;\">     0      </td><td style=\"text-align: center;\">     0     </td><td style=\"text-align: center;\">    0    </td><td style=\"text-align: center;\">   1   </td><td style=\"text-align: center;\">      0       </td><td style=\"text-align: center;\">   0   </td><td style=\"text-align: center;\">    0     </td><td style=\"text-align: center;\">    0    </td><td style=\"text-align: center;\">    0     </td><td style=\"text-align: center;\">    0     </td><td style=\"text-align: center;\">    0    </td><td style=\"text-align: center;\">     0     </td></tr>\n",
              "</tbody>\n",
              "</table>"
            ],
            "application/vnd.google.colaboratory.intrinsic+json": {
              "type": "string"
            }
          },
          "metadata": {},
          "execution_count": 84
        }
      ]
    },
    {
      "cell_type": "markdown",
      "source": [
        "![Screenshot 2025-06-09 124811.png](data:image/png;base64,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)"
      ],
      "metadata": {
        "id": "jQQ39fWTuLZ4"
      }
    },
    {
      "cell_type": "code",
      "source": [
        "print(f\"y_train[:5]: {y_train[:5]}\")"
      ],
      "metadata": {
        "colab": {
          "base_uri": "https://localhost:8080/"
        },
        "id": "xWnulp8auR5o",
        "outputId": "130e5bfa-310c-498d-c6da-4aa44356f530"
      },
      "execution_count": 85,
      "outputs": [
        {
          "output_type": "stream",
          "name": "stdout",
          "text": [
            "y_train[:5]: [4.  4.  4.  3.5 3.5]\n"
          ]
        }
      ]
    },
    {
      "cell_type": "code",
      "source": [
        "if scaledata:\n",
        "    item_train_save = item_train\n",
        "    user_train_save = user_train\n",
        "\n",
        "    scalerItem = StandardScaler()\n",
        "    scalerItem.fit(item_train)\n",
        "    item_train = scalerItem.transform(item_train)\n",
        "\n",
        "    scalerUser = StandardScaler()\n",
        "    scalerUser.fit(user_train)\n",
        "    user_train = scalerUser.transform(user_train)\n",
        "\n",
        "    print(np.allclose(item_train_save, scalerItem.inverse_transform(item_train)))\n",
        "    print(np.allclose(user_train_save, scalerUser.inverse_transform(user_train)))"
      ],
      "metadata": {
        "colab": {
          "base_uri": "https://localhost:8080/"
        },
        "id": "ya-LulRHvfjl",
        "outputId": "966aa91e-1959-4ead-9e0f-52a33de64ebc"
      },
      "execution_count": 86,
      "outputs": [
        {
          "output_type": "stream",
          "name": "stdout",
          "text": [
            "True\n",
            "True\n"
          ]
        }
      ]
    },
    {
      "cell_type": "code",
      "source": [
        "item_train, item_test = train_test_split(item_train, train_size=0.80, shuffle=True, random_state=1)\n",
        "user_train, user_test = train_test_split(user_train, train_size=0.80, shuffle=True, random_state=1)\n",
        "y_train, y_test       = train_test_split(y_train,    train_size=0.80, shuffle=True, random_state=1)\n",
        "print(f\"movie/item training data shape: {item_train.shape}\")\n",
        "print(f\"movie/item test  data shape: {item_test.shape}\")\n"
      ],
      "metadata": {
        "colab": {
          "base_uri": "https://localhost:8080/"
        },
        "id": "-23qm6dWwN_M",
        "outputId": "a90306bd-c43a-4f2e-af2e-c491dab8d0b2"
      },
      "execution_count": 87,
      "outputs": [
        {
          "output_type": "stream",
          "name": "stdout",
          "text": [
            "movie/item training data shape: (46549, 17)\n",
            "movie/item test  data shape: (11638, 17)\n"
          ]
        }
      ]
    },
    {
      "cell_type": "code",
      "source": [
        "scaler = MinMaxScaler((-1, 1))\n",
        "scaler.fit(y_train.reshape(-1, 1))\n",
        "ynorm_train = scaler.transform(y_train.reshape(-1, 1))\n",
        "ynorm_test = scaler.transform(y_test.reshape(-1, 1))\n",
        "print(ynorm_train.shape, ynorm_test.shape)"
      ],
      "metadata": {
        "colab": {
          "base_uri": "https://localhost:8080/"
        },
        "id": "FUo7rLUP91hH",
        "outputId": "1258cd78-2f72-4d2f-91f7-3a20c53831ee"
      },
      "execution_count": 88,
      "outputs": [
        {
          "output_type": "stream",
          "name": "stdout",
          "text": [
            "(46549, 1) (11638, 1)\n"
          ]
        }
      ]
    },
    {
      "cell_type": "markdown",
      "source": [
        "##Neural Network for content based filtering"
      ],
      "metadata": {
        "id": "cGg6Gi8awT5o"
      }
    },
    {
      "cell_type": "code",
      "source": [
        "num_outputs = 32\n",
        "tf.random.set_seed(1)\n",
        "user_NN = tf.keras.models.Sequential([\n",
        "    ### START CODE HERE ###\n",
        "    tf.keras.layers.Dense(256, activation='relu'),\n",
        "    tf.keras.layers.Dense(128, activation='relu'),\n",
        "    tf.keras.layers.Dense(num_outputs, activation='linear'),\n",
        "    ### END CODE HERE ###\n",
        "])\n",
        "\n",
        "item_NN = tf.keras.models.Sequential([\n",
        "    ### START CODE HERE ###\n",
        "    tf.keras.layers.Dense(256, activation='relu'),\n",
        "    tf.keras.layers.Dense(128, activation='relu'),\n",
        "    tf.keras.layers.Dense(num_outputs, activation='linear'),\n",
        "    ### END CODE HERE ###\n",
        "])\n",
        "\n",
        "# create the user input and point to the base network\n",
        "input_user = tf.keras.layers.Input(shape=(num_user_features,))\n",
        "vu = user_NN(input_user)\n",
        "vu = keras.layers.Lambda(lambda x: tf.linalg.l2_normalize(x, axis=1))(vu)\n",
        "\n",
        "# create the item input and point to the base network\n",
        "input_item = tf.keras.layers.Input(shape=(num_item_features,))\n",
        "vm = item_NN(input_item)\n",
        "vm = keras.layers.Lambda(lambda x: tf.linalg.l2_normalize(x, axis=1))(vm)\n",
        "\n",
        "# compute the dot product of the two vectors vu and vm\n",
        "output = tf.keras.layers.Dot(axes=1)([vu, vm])\n",
        "\n",
        "# specify the inputs and output of the model\n",
        "model = Model([input_user, input_item], output)\n",
        "\n",
        "model.summary()"
      ],
      "metadata": {
        "colab": {
          "base_uri": "https://localhost:8080/",
          "height": 459
        },
        "id": "empEqTNwwZiR",
        "outputId": "6272f1bf-b896-4cf2-d6ce-0e75ddee4bfd"
      },
      "execution_count": 89,
      "outputs": [
        {
          "output_type": "display_data",
          "data": {
            "text/plain": [
              "\u001b[1mModel: \"functional_15\"\u001b[0m\n"
            ],
            "text/html": [
              "<pre style=\"white-space:pre;overflow-x:auto;line-height:normal;font-family:Menlo,'DejaVu Sans Mono',consolas,'Courier New',monospace\"><span style=\"font-weight: bold\">Model: \"functional_15\"</span>\n",
              "</pre>\n"
            ]
          },
          "metadata": {}
        },
        {
          "output_type": "display_data",
          "data": {
            "text/plain": [
              "┏━━━━━━━━━━━━━━━━━━━━━┳━━━━━━━━━━━━━━━━━━━┳━━━━━━━━━━━━┳━━━━━━━━━━━━━━━━━━━┓\n",
              "┃\u001b[1m \u001b[0m\u001b[1mLayer (type)       \u001b[0m\u001b[1m \u001b[0m┃\u001b[1m \u001b[0m\u001b[1mOutput Shape     \u001b[0m\u001b[1m \u001b[0m┃\u001b[1m \u001b[0m\u001b[1m   Param #\u001b[0m\u001b[1m \u001b[0m┃\u001b[1m \u001b[0m\u001b[1mConnected to     \u001b[0m\u001b[1m \u001b[0m┃\n",
              "┡━━━━━━━━━━━━━━━━━━━━━╇━━━━━━━━━━━━━━━━━━━╇━━━━━━━━━━━━╇━━━━━━━━━━━━━━━━━━━┩\n",
              "│ input_layer_36      │ (\u001b[38;5;45mNone\u001b[0m, \u001b[38;5;34m14\u001b[0m)        │          \u001b[38;5;34m0\u001b[0m │ -                 │\n",
              "│ (\u001b[38;5;33mInputLayer\u001b[0m)        │                   │            │                   │\n",
              "├─────────────────────┼───────────────────┼────────────┼───────────────────┤\n",
              "│ input_layer_38      │ (\u001b[38;5;45mNone\u001b[0m, \u001b[38;5;34m16\u001b[0m)        │          \u001b[38;5;34m0\u001b[0m │ -                 │\n",
              "│ (\u001b[38;5;33mInputLayer\u001b[0m)        │                   │            │                   │\n",
              "├─────────────────────┼───────────────────┼────────────┼───────────────────┤\n",
              "│ sequential_42       │ (\u001b[38;5;45mNone\u001b[0m, \u001b[38;5;34m32\u001b[0m)        │     \u001b[38;5;34m40,864\u001b[0m │ input_layer_36[\u001b[38;5;34m0\u001b[0m… │\n",
              "│ (\u001b[38;5;33mSequential\u001b[0m)        │                   │            │                   │\n",
              "├─────────────────────┼───────────────────┼────────────┼───────────────────┤\n",
              "│ sequential_43       │ (\u001b[38;5;45mNone\u001b[0m, \u001b[38;5;34m32\u001b[0m)        │     \u001b[38;5;34m41,376\u001b[0m │ input_layer_38[\u001b[38;5;34m0\u001b[0m… │\n",
              "│ (\u001b[38;5;33mSequential\u001b[0m)        │                   │            │                   │\n",
              "├─────────────────────┼───────────────────┼────────────┼───────────────────┤\n",
              "│ lambda_5 (\u001b[38;5;33mLambda\u001b[0m)   │ (\u001b[38;5;45mNone\u001b[0m, \u001b[38;5;34m32\u001b[0m)        │          \u001b[38;5;34m0\u001b[0m │ sequential_42[\u001b[38;5;34m0\u001b[0m]… │\n",
              "├─────────────────────┼───────────────────┼────────────┼───────────────────┤\n",
              "│ lambda_6 (\u001b[38;5;33mLambda\u001b[0m)   │ (\u001b[38;5;45mNone\u001b[0m, \u001b[38;5;34m32\u001b[0m)        │          \u001b[38;5;34m0\u001b[0m │ sequential_43[\u001b[38;5;34m0\u001b[0m]… │\n",
              "├─────────────────────┼───────────────────┼────────────┼───────────────────┤\n",
              "│ dot_2 (\u001b[38;5;33mDot\u001b[0m)         │ (\u001b[38;5;45mNone\u001b[0m, \u001b[38;5;34m1\u001b[0m)         │          \u001b[38;5;34m0\u001b[0m │ lambda_5[\u001b[38;5;34m0\u001b[0m][\u001b[38;5;34m0\u001b[0m],   │\n",
              "│                     │                   │            │ lambda_6[\u001b[38;5;34m0\u001b[0m][\u001b[38;5;34m0\u001b[0m]    │\n",
              "└─────────────────────┴───────────────────┴────────────┴───────────────────┘\n"
            ],
            "text/html": [
              "<pre style=\"white-space:pre;overflow-x:auto;line-height:normal;font-family:Menlo,'DejaVu Sans Mono',consolas,'Courier New',monospace\">┏━━━━━━━━━━━━━━━━━━━━━┳━━━━━━━━━━━━━━━━━━━┳━━━━━━━━━━━━┳━━━━━━━━━━━━━━━━━━━┓\n",
              "┃<span style=\"font-weight: bold\"> Layer (type)        </span>┃<span style=\"font-weight: bold\"> Output Shape      </span>┃<span style=\"font-weight: bold\">    Param # </span>┃<span style=\"font-weight: bold\"> Connected to      </span>┃\n",
              "┡━━━━━━━━━━━━━━━━━━━━━╇━━━━━━━━━━━━━━━━━━━╇━━━━━━━━━━━━╇━━━━━━━━━━━━━━━━━━━┩\n",
              "│ input_layer_36      │ (<span style=\"color: #00d7ff; text-decoration-color: #00d7ff\">None</span>, <span style=\"color: #00af00; text-decoration-color: #00af00\">14</span>)        │          <span style=\"color: #00af00; text-decoration-color: #00af00\">0</span> │ -                 │\n",
              "│ (<span style=\"color: #0087ff; text-decoration-color: #0087ff\">InputLayer</span>)        │                   │            │                   │\n",
              "├─────────────────────┼───────────────────┼────────────┼───────────────────┤\n",
              "│ input_layer_38      │ (<span style=\"color: #00d7ff; text-decoration-color: #00d7ff\">None</span>, <span style=\"color: #00af00; text-decoration-color: #00af00\">16</span>)        │          <span style=\"color: #00af00; text-decoration-color: #00af00\">0</span> │ -                 │\n",
              "│ (<span style=\"color: #0087ff; text-decoration-color: #0087ff\">InputLayer</span>)        │                   │            │                   │\n",
              "├─────────────────────┼───────────────────┼────────────┼───────────────────┤\n",
              "│ sequential_42       │ (<span style=\"color: #00d7ff; text-decoration-color: #00d7ff\">None</span>, <span style=\"color: #00af00; text-decoration-color: #00af00\">32</span>)        │     <span style=\"color: #00af00; text-decoration-color: #00af00\">40,864</span> │ input_layer_36[<span style=\"color: #00af00; text-decoration-color: #00af00\">0</span>… │\n",
              "│ (<span style=\"color: #0087ff; text-decoration-color: #0087ff\">Sequential</span>)        │                   │            │                   │\n",
              "├─────────────────────┼───────────────────┼────────────┼───────────────────┤\n",
              "│ sequential_43       │ (<span style=\"color: #00d7ff; text-decoration-color: #00d7ff\">None</span>, <span style=\"color: #00af00; text-decoration-color: #00af00\">32</span>)        │     <span style=\"color: #00af00; text-decoration-color: #00af00\">41,376</span> │ input_layer_38[<span style=\"color: #00af00; text-decoration-color: #00af00\">0</span>… │\n",
              "│ (<span style=\"color: #0087ff; text-decoration-color: #0087ff\">Sequential</span>)        │                   │            │                   │\n",
              "├─────────────────────┼───────────────────┼────────────┼───────────────────┤\n",
              "│ lambda_5 (<span style=\"color: #0087ff; text-decoration-color: #0087ff\">Lambda</span>)   │ (<span style=\"color: #00d7ff; text-decoration-color: #00d7ff\">None</span>, <span style=\"color: #00af00; text-decoration-color: #00af00\">32</span>)        │          <span style=\"color: #00af00; text-decoration-color: #00af00\">0</span> │ sequential_42[<span style=\"color: #00af00; text-decoration-color: #00af00\">0</span>]… │\n",
              "├─────────────────────┼───────────────────┼────────────┼───────────────────┤\n",
              "│ lambda_6 (<span style=\"color: #0087ff; text-decoration-color: #0087ff\">Lambda</span>)   │ (<span style=\"color: #00d7ff; text-decoration-color: #00d7ff\">None</span>, <span style=\"color: #00af00; text-decoration-color: #00af00\">32</span>)        │          <span style=\"color: #00af00; text-decoration-color: #00af00\">0</span> │ sequential_43[<span style=\"color: #00af00; text-decoration-color: #00af00\">0</span>]… │\n",
              "├─────────────────────┼───────────────────┼────────────┼───────────────────┤\n",
              "│ dot_2 (<span style=\"color: #0087ff; text-decoration-color: #0087ff\">Dot</span>)         │ (<span style=\"color: #00d7ff; text-decoration-color: #00d7ff\">None</span>, <span style=\"color: #00af00; text-decoration-color: #00af00\">1</span>)         │          <span style=\"color: #00af00; text-decoration-color: #00af00\">0</span> │ lambda_5[<span style=\"color: #00af00; text-decoration-color: #00af00\">0</span>][<span style=\"color: #00af00; text-decoration-color: #00af00\">0</span>],   │\n",
              "│                     │                   │            │ lambda_6[<span style=\"color: #00af00; text-decoration-color: #00af00\">0</span>][<span style=\"color: #00af00; text-decoration-color: #00af00\">0</span>]    │\n",
              "└─────────────────────┴───────────────────┴────────────┴───────────────────┘\n",
              "</pre>\n"
            ]
          },
          "metadata": {}
        },
        {
          "output_type": "display_data",
          "data": {
            "text/plain": [
              "\u001b[1m Total params: \u001b[0m\u001b[38;5;34m82,240\u001b[0m (321.25 KB)\n"
            ],
            "text/html": [
              "<pre style=\"white-space:pre;overflow-x:auto;line-height:normal;font-family:Menlo,'DejaVu Sans Mono',consolas,'Courier New',monospace\"><span style=\"font-weight: bold\"> Total params: </span><span style=\"color: #00af00; text-decoration-color: #00af00\">82,240</span> (321.25 KB)\n",
              "</pre>\n"
            ]
          },
          "metadata": {}
        },
        {
          "output_type": "display_data",
          "data": {
            "text/plain": [
              "\u001b[1m Trainable params: \u001b[0m\u001b[38;5;34m82,240\u001b[0m (321.25 KB)\n"
            ],
            "text/html": [
              "<pre style=\"white-space:pre;overflow-x:auto;line-height:normal;font-family:Menlo,'DejaVu Sans Mono',consolas,'Courier New',monospace\"><span style=\"font-weight: bold\"> Trainable params: </span><span style=\"color: #00af00; text-decoration-color: #00af00\">82,240</span> (321.25 KB)\n",
              "</pre>\n"
            ]
          },
          "metadata": {}
        },
        {
          "output_type": "display_data",
          "data": {
            "text/plain": [
              "\u001b[1m Non-trainable params: \u001b[0m\u001b[38;5;34m0\u001b[0m (0.00 B)\n"
            ],
            "text/html": [
              "<pre style=\"white-space:pre;overflow-x:auto;line-height:normal;font-family:Menlo,'DejaVu Sans Mono',consolas,'Courier New',monospace\"><span style=\"font-weight: bold\"> Non-trainable params: </span><span style=\"color: #00af00; text-decoration-color: #00af00\">0</span> (0.00 B)\n",
              "</pre>\n"
            ]
          },
          "metadata": {}
        }
      ]
    },
    {
      "cell_type": "code",
      "source": [
        "tf.random.set_seed(1)\n",
        "cost_fn = tf.keras.losses.MeanSquaredError()\n",
        "opt = keras.optimizers.Adam(learning_rate=0.01)\n",
        "model.compile(optimizer=opt,\n",
        "              loss=cost_fn)"
      ],
      "metadata": {
        "id": "U7sfUYAN2tCs"
      },
      "execution_count": 90,
      "outputs": []
    },
    {
      "cell_type": "code",
      "source": [
        "tf.random.set_seed(1)\n",
        "model.fit([user_train[:, u_s:], item_train[:, i_s:]], ynorm_train, epochs=30)"
      ],
      "metadata": {
        "colab": {
          "base_uri": "https://localhost:8080/"
        },
        "id": "j66iLVXL2w5D",
        "outputId": "72fc4f9f-ac3e-455c-adb7-f233ab30edef"
      },
      "execution_count": 91,
      "outputs": [
        {
          "output_type": "stream",
          "name": "stdout",
          "text": [
            "Epoch 1/30\n",
            "\u001b[1m1455/1455\u001b[0m \u001b[32m━━━━━━━━━━━━━━━━━━━━\u001b[0m\u001b[37m\u001b[0m \u001b[1m10s\u001b[0m 5ms/step - loss: 0.1300\n",
            "Epoch 2/30\n",
            "\u001b[1m1455/1455\u001b[0m \u001b[32m━━━━━━━━━━━━━━━━━━━━\u001b[0m\u001b[37m\u001b[0m \u001b[1m9s\u001b[0m 4ms/step - loss: 0.1172\n",
            "Epoch 3/30\n",
            "\u001b[1m1455/1455\u001b[0m \u001b[32m━━━━━━━━━━━━━━━━━━━━\u001b[0m\u001b[37m\u001b[0m \u001b[1m6s\u001b[0m 4ms/step - loss: 0.1150\n",
            "Epoch 4/30\n",
            "\u001b[1m1455/1455\u001b[0m \u001b[32m━━━━━━━━━━━━━━━━━━━━\u001b[0m\u001b[37m\u001b[0m \u001b[1m10s\u001b[0m 4ms/step - loss: 0.1138\n",
            "Epoch 5/30\n",
            "\u001b[1m1455/1455\u001b[0m \u001b[32m━━━━━━━━━━━━━━━━━━━━\u001b[0m\u001b[37m\u001b[0m \u001b[1m5s\u001b[0m 4ms/step - loss: 0.1128\n",
            "Epoch 6/30\n",
            "\u001b[1m1455/1455\u001b[0m \u001b[32m━━━━━━━━━━━━━━━━━━━━\u001b[0m\u001b[37m\u001b[0m \u001b[1m11s\u001b[0m 4ms/step - loss: 0.1118\n",
            "Epoch 7/30\n",
            "\u001b[1m1455/1455\u001b[0m \u001b[32m━━━━━━━━━━━━━━━━━━━━\u001b[0m\u001b[37m\u001b[0m \u001b[1m11s\u001b[0m 5ms/step - loss: 0.1108\n",
            "Epoch 8/30\n",
            "\u001b[1m1455/1455\u001b[0m \u001b[32m━━━━━━━━━━━━━━━━━━━━\u001b[0m\u001b[37m\u001b[0m \u001b[1m10s\u001b[0m 4ms/step - loss: 0.1101\n",
            "Epoch 9/30\n",
            "\u001b[1m1455/1455\u001b[0m \u001b[32m━━━━━━━━━━━━━━━━━━━━\u001b[0m\u001b[37m\u001b[0m \u001b[1m10s\u001b[0m 4ms/step - loss: 0.1094\n",
            "Epoch 10/30\n",
            "\u001b[1m1455/1455\u001b[0m \u001b[32m━━━━━━━━━━━━━━━━━━━━\u001b[0m\u001b[37m\u001b[0m \u001b[1m10s\u001b[0m 4ms/step - loss: 0.1087\n",
            "Epoch 11/30\n",
            "\u001b[1m1455/1455\u001b[0m \u001b[32m━━━━━━━━━━━━━━━━━━━━\u001b[0m\u001b[37m\u001b[0m \u001b[1m7s\u001b[0m 5ms/step - loss: 0.1077\n",
            "Epoch 12/30\n",
            "\u001b[1m1455/1455\u001b[0m \u001b[32m━━━━━━━━━━━━━━━━━━━━\u001b[0m\u001b[37m\u001b[0m \u001b[1m9s\u001b[0m 4ms/step - loss: 0.1066\n",
            "Epoch 13/30\n",
            "\u001b[1m1455/1455\u001b[0m \u001b[32m━━━━━━━━━━━━━━━━━━━━\u001b[0m\u001b[37m\u001b[0m \u001b[1m10s\u001b[0m 4ms/step - loss: 0.1056\n",
            "Epoch 14/30\n",
            "\u001b[1m1455/1455\u001b[0m \u001b[32m━━━━━━━━━━━━━━━━━━━━\u001b[0m\u001b[37m\u001b[0m \u001b[1m10s\u001b[0m 4ms/step - loss: 0.1049\n",
            "Epoch 15/30\n",
            "\u001b[1m1455/1455\u001b[0m \u001b[32m━━━━━━━━━━━━━━━━━━━━\u001b[0m\u001b[37m\u001b[0m \u001b[1m10s\u001b[0m 4ms/step - loss: 0.1043\n",
            "Epoch 16/30\n",
            "\u001b[1m1455/1455\u001b[0m \u001b[32m━━━━━━━━━━━━━━━━━━━━\u001b[0m\u001b[37m\u001b[0m \u001b[1m6s\u001b[0m 4ms/step - loss: 0.1037\n",
            "Epoch 17/30\n",
            "\u001b[1m1455/1455\u001b[0m \u001b[32m━━━━━━━━━━━━━━━━━━━━\u001b[0m\u001b[37m\u001b[0m \u001b[1m6s\u001b[0m 4ms/step - loss: 0.1030\n",
            "Epoch 18/30\n",
            "\u001b[1m1455/1455\u001b[0m \u001b[32m━━━━━━━━━━━━━━━━━━━━\u001b[0m\u001b[37m\u001b[0m \u001b[1m11s\u001b[0m 4ms/step - loss: 0.1024\n",
            "Epoch 19/30\n",
            "\u001b[1m1455/1455\u001b[0m \u001b[32m━━━━━━━━━━━━━━━━━━━━\u001b[0m\u001b[37m\u001b[0m \u001b[1m5s\u001b[0m 4ms/step - loss: 0.1019\n",
            "Epoch 20/30\n",
            "\u001b[1m1455/1455\u001b[0m \u001b[32m━━━━━━━━━━━━━━━━━━━━\u001b[0m\u001b[37m\u001b[0m \u001b[1m10s\u001b[0m 4ms/step - loss: 0.1015\n",
            "Epoch 21/30\n",
            "\u001b[1m1455/1455\u001b[0m \u001b[32m━━━━━━━━━━━━━━━━━━━━\u001b[0m\u001b[37m\u001b[0m \u001b[1m12s\u001b[0m 5ms/step - loss: 0.1009\n",
            "Epoch 22/30\n",
            "\u001b[1m1455/1455\u001b[0m \u001b[32m━━━━━━━━━━━━━━━━━━━━\u001b[0m\u001b[37m\u001b[0m \u001b[1m10s\u001b[0m 5ms/step - loss: 0.1005\n",
            "Epoch 23/30\n",
            "\u001b[1m1455/1455\u001b[0m \u001b[32m━━━━━━━━━━━━━━━━━━━━\u001b[0m\u001b[37m\u001b[0m \u001b[1m9s\u001b[0m 4ms/step - loss: 0.1001\n",
            "Epoch 24/30\n",
            "\u001b[1m1455/1455\u001b[0m \u001b[32m━━━━━━━━━━━━━━━━━━━━\u001b[0m\u001b[37m\u001b[0m \u001b[1m6s\u001b[0m 4ms/step - loss: 0.0997\n",
            "Epoch 25/30\n",
            "\u001b[1m1455/1455\u001b[0m \u001b[32m━━━━━━━━━━━━━━━━━━━━\u001b[0m\u001b[37m\u001b[0m \u001b[1m11s\u001b[0m 4ms/step - loss: 0.0994\n",
            "Epoch 26/30\n",
            "\u001b[1m1455/1455\u001b[0m \u001b[32m━━━━━━━━━━━━━━━━━━━━\u001b[0m\u001b[37m\u001b[0m \u001b[1m10s\u001b[0m 4ms/step - loss: 0.0990\n",
            "Epoch 27/30\n",
            "\u001b[1m1455/1455\u001b[0m \u001b[32m━━━━━━━━━━━━━━━━━━━━\u001b[0m\u001b[37m\u001b[0m \u001b[1m9s\u001b[0m 4ms/step - loss: 0.0987\n",
            "Epoch 28/30\n",
            "\u001b[1m1455/1455\u001b[0m \u001b[32m━━━━━━━━━━━━━━━━━━━━\u001b[0m\u001b[37m\u001b[0m \u001b[1m7s\u001b[0m 4ms/step - loss: 0.0983\n",
            "Epoch 29/30\n",
            "\u001b[1m1455/1455\u001b[0m \u001b[32m━━━━━━━━━━━━━━━━━━━━\u001b[0m\u001b[37m\u001b[0m \u001b[1m5s\u001b[0m 4ms/step - loss: 0.0980\n",
            "Epoch 30/30\n",
            "\u001b[1m1455/1455\u001b[0m \u001b[32m━━━━━━━━━━━━━━━━━━━━\u001b[0m\u001b[37m\u001b[0m \u001b[1m6s\u001b[0m 4ms/step - loss: 0.0977\n"
          ]
        },
        {
          "output_type": "execute_result",
          "data": {
            "text/plain": [
              "<keras.src.callbacks.history.History at 0x7ec4b0440bd0>"
            ]
          },
          "metadata": {},
          "execution_count": 91
        }
      ]
    },
    {
      "cell_type": "code",
      "source": [
        "model.evaluate([user_test[:, u_s:], item_test[:, i_s:]], ynorm_test)"
      ],
      "metadata": {
        "colab": {
          "base_uri": "https://localhost:8080/"
        },
        "id": "pZlVRgoi28-v",
        "outputId": "5fa1cf0e-8074-4092-f7a6-3feeab0da33a"
      },
      "execution_count": 92,
      "outputs": [
        {
          "output_type": "stream",
          "name": "stdout",
          "text": [
            "\u001b[1m364/364\u001b[0m \u001b[32m━━━━━━━━━━━━━━━━━━━━\u001b[0m\u001b[37m\u001b[0m \u001b[1m1s\u001b[0m 2ms/step - loss: 0.1063\n"
          ]
        },
        {
          "output_type": "execute_result",
          "data": {
            "text/plain": [
              "0.10686907917261124"
            ]
          },
          "metadata": {},
          "execution_count": 92
        }
      ]
    },
    {
      "cell_type": "markdown",
      "source": [
        "##Predictions for new user"
      ],
      "metadata": {
        "id": "MQZftmj53ZBH"
      }
    },
    {
      "cell_type": "code",
      "source": [
        "new_user_id = 5000\n",
        "new_rating_ave = 1.0\n",
        "new_action = 1.0\n",
        "new_adventure = 1\n",
        "new_animation = 1\n",
        "new_childrens = 1\n",
        "new_comedy = 5\n",
        "new_crime = 1\n",
        "new_documentary = 1\n",
        "new_drama = 1\n",
        "new_fantasy = 1\n",
        "new_horror = 1\n",
        "new_mystery = 1\n",
        "new_romance = 5\n",
        "new_scifi = 5\n",
        "new_thriller = 1\n",
        "new_rating_count = 3\n",
        "\n",
        "user_vec = np.array([[new_user_id, new_rating_count, new_rating_ave,\n",
        "                      new_action, new_adventure, new_animation, new_childrens,\n",
        "                      new_comedy, new_crime, new_documentary,\n",
        "                      new_drama, new_fantasy, new_horror, new_mystery,\n",
        "                      new_romance, new_scifi, new_thriller]])"
      ],
      "metadata": {
        "id": "m2NCdIZK3bVY"
      },
      "execution_count": 93,
      "outputs": []
    },
    {
      "cell_type": "code",
      "source": [
        "# generate and replicate the user vector to match the number movies in the data set.\n",
        "user_vecs = gen_user_vecs(user_vec,len(item_vecs))\n",
        "\n",
        "# scale the vectors and make predictions for all movies. Return results sorted by rating.\n",
        "sorted_index, sorted_ypu, sorted_items, sorted_user = predict_uservec(user_vecs,  item_vecs, model, u_s, i_s,\n",
        "                                                                       scaler, scalerUser, scalerItem, scaledata=scaledata)\n",
        "\n",
        "print_pred_movies(sorted_ypu, sorted_user, sorted_items, movie_dict, maxcount = 10)"
      ],
      "metadata": {
        "colab": {
          "base_uri": "https://localhost:8080/",
          "height": 261
        },
        "id": "rAcAgbaX3jSi",
        "outputId": "573533ef-0f05-4b53-8922-8c09a58a2f2a"
      },
      "execution_count": 94,
      "outputs": [
        {
          "output_type": "stream",
          "name": "stdout",
          "text": [
            "\u001b[1m59/59\u001b[0m \u001b[32m━━━━━━━━━━━━━━━━━━━━\u001b[0m\u001b[37m\u001b[0m \u001b[1m0s\u001b[0m 4ms/step\n"
          ]
        },
        {
          "output_type": "execute_result",
          "data": {
            "text/plain": [
              "'<table>\\n<thead>\\n<tr><th style=\"text-align: right;\">    y_p</th><th style=\"text-align: right;\">  movie id</th><th style=\"text-align: right;\">  rating ave</th><th>title                      </th><th>genres                         </th></tr>\\n</thead>\\n<tbody>\\n<tr><td style=\"text-align: right;\">4.75026</td><td style=\"text-align: right;\">     89864</td><td style=\"text-align: right;\">     3.63158</td><td>50/50 (2011)               </td><td>Comedy|Drama                   </td></tr>\\n<tr><td style=\"text-align: right;\">4.74848</td><td style=\"text-align: right;\">     76251</td><td style=\"text-align: right;\">     3.65116</td><td>Kick-Ass (2010)            </td><td>Action|Comedy                  </td></tr>\\n<tr><td style=\"text-align: right;\">4.73877</td><td style=\"text-align: right;\">     69122</td><td style=\"text-align: right;\">     3.63158</td><td>Hangover, The (2009)       </td><td>Comedy|Crime                   </td></tr>\\n<tr><td style=\"text-align: right;\">4.73181</td><td style=\"text-align: right;\">     69784</td><td style=\"text-align: right;\">     3.65   </td><td>Brüno (Bruno) (2009)       </td><td>Comedy                         </td></tr>\\n<tr><td style=\"text-align: right;\">4.72223</td><td style=\"text-align: right;\">    117590</td><td style=\"text-align: right;\">     3.63636</td><td>Horrible Bosses 2 (2014)   </td><td>Comedy|Crime                   </td></tr>\\n<tr><td style=\"text-align: right;\">4.71803</td><td style=\"text-align: right;\">     69757</td><td style=\"text-align: right;\">     3.66667</td><td>(500) Days of Summer (2009)</td><td>Comedy|Drama|Romance           </td></tr>\\n<tr><td style=\"text-align: right;\">4.71803</td><td style=\"text-align: right;\">     70183</td><td style=\"text-align: right;\">     3.66667</td><td>Ugly Truth, The (2009)     </td><td>Comedy|Drama|Romance           </td></tr>\\n<tr><td style=\"text-align: right;\">4.71345</td><td style=\"text-align: right;\">    112138</td><td style=\"text-align: right;\">     3.68421</td><td>22 Jump Street (2014)      </td><td>Action|Comedy|Crime            </td></tr>\\n<tr><td style=\"text-align: right;\">4.70894</td><td style=\"text-align: right;\">     79091</td><td style=\"text-align: right;\">     3.68421</td><td>Despicable Me (2010)       </td><td>Animation|Children|Comedy|Crime</td></tr>\\n<tr><td style=\"text-align: right;\">4.70452</td><td style=\"text-align: right;\">     63131</td><td style=\"text-align: right;\">     3.625  </td><td>Role Models (2008)         </td><td>Comedy                         </td></tr>\\n</tbody>\\n</table>'"
            ],
            "text/html": [
              "<table>\n",
              "<thead>\n",
              "<tr><th style=\"text-align: right;\">    y_p</th><th style=\"text-align: right;\">  movie id</th><th style=\"text-align: right;\">  rating ave</th><th>title                      </th><th>genres                         </th></tr>\n",
              "</thead>\n",
              "<tbody>\n",
              "<tr><td style=\"text-align: right;\">4.75026</td><td style=\"text-align: right;\">     89864</td><td style=\"text-align: right;\">     3.63158</td><td>50/50 (2011)               </td><td>Comedy|Drama                   </td></tr>\n",
              "<tr><td style=\"text-align: right;\">4.74848</td><td style=\"text-align: right;\">     76251</td><td style=\"text-align: right;\">     3.65116</td><td>Kick-Ass (2010)            </td><td>Action|Comedy                  </td></tr>\n",
              "<tr><td style=\"text-align: right;\">4.73877</td><td style=\"text-align: right;\">     69122</td><td style=\"text-align: right;\">     3.63158</td><td>Hangover, The (2009)       </td><td>Comedy|Crime                   </td></tr>\n",
              "<tr><td style=\"text-align: right;\">4.73181</td><td style=\"text-align: right;\">     69784</td><td style=\"text-align: right;\">     3.65   </td><td>Brüno (Bruno) (2009)       </td><td>Comedy                         </td></tr>\n",
              "<tr><td style=\"text-align: right;\">4.72223</td><td style=\"text-align: right;\">    117590</td><td style=\"text-align: right;\">     3.63636</td><td>Horrible Bosses 2 (2014)   </td><td>Comedy|Crime                   </td></tr>\n",
              "<tr><td style=\"text-align: right;\">4.71803</td><td style=\"text-align: right;\">     69757</td><td style=\"text-align: right;\">     3.66667</td><td>(500) Days of Summer (2009)</td><td>Comedy|Drama|Romance           </td></tr>\n",
              "<tr><td style=\"text-align: right;\">4.71803</td><td style=\"text-align: right;\">     70183</td><td style=\"text-align: right;\">     3.66667</td><td>Ugly Truth, The (2009)     </td><td>Comedy|Drama|Romance           </td></tr>\n",
              "<tr><td style=\"text-align: right;\">4.71345</td><td style=\"text-align: right;\">    112138</td><td style=\"text-align: right;\">     3.68421</td><td>22 Jump Street (2014)      </td><td>Action|Comedy|Crime            </td></tr>\n",
              "<tr><td style=\"text-align: right;\">4.70894</td><td style=\"text-align: right;\">     79091</td><td style=\"text-align: right;\">     3.68421</td><td>Despicable Me (2010)       </td><td>Animation|Children|Comedy|Crime</td></tr>\n",
              "<tr><td style=\"text-align: right;\">4.70452</td><td style=\"text-align: right;\">     63131</td><td style=\"text-align: right;\">     3.625  </td><td>Role Models (2008)         </td><td>Comedy                         </td></tr>\n",
              "</tbody>\n",
              "</table>"
            ],
            "application/vnd.google.colaboratory.intrinsic+json": {
              "type": "string"
            }
          },
          "metadata": {},
          "execution_count": 94
        }
      ]
    },
    {
      "cell_type": "code",
      "source": [
        "uid =  36\n",
        "# form a set of user vectors. This is the same vector, transformed and repeated.\n",
        "user_vecs, y_vecs = get_user_vecs(uid, scalerUser.inverse_transform(user_train), item_vecs, user_to_genre)\n",
        "\n",
        "# scale the vectors and make predictions for all movies. Return results sorted by rating.\n",
        "sorted_index, sorted_ypu, sorted_items, sorted_user = predict_uservec(user_vecs, item_vecs, model, u_s, i_s, scaler,\n",
        "                                                                      scalerUser, scalerItem, scaledata=scaledata)\n",
        "sorted_y = y_vecs[sorted_index]\n",
        "\n",
        "#print sorted predictions\n",
        "print_existing_user(sorted_ypu, sorted_y.reshape(-1,1), sorted_user, sorted_items, item_features, ivs, uvs, movie_dict, maxcount = 10)"
      ],
      "metadata": {
        "colab": {
          "base_uri": "https://localhost:8080/",
          "height": 278
        },
        "id": "pDPDolKJ3mOO",
        "outputId": "acf7bb9d-1d27-4944-9040-45d062ecd93e"
      },
      "execution_count": 97,
      "outputs": [
        {
          "output_type": "stream",
          "name": "stdout",
          "text": [
            "I am here\n",
            "\u001b[1m59/59\u001b[0m \u001b[32m━━━━━━━━━━━━━━━━━━━━\u001b[0m\u001b[37m\u001b[0m \u001b[1m0s\u001b[0m 2ms/step\n"
          ]
        },
        {
          "output_type": "execute_result",
          "data": {
            "text/plain": [
              "'<table>\\n<thead>\\n<tr><th style=\"text-align: right;\">  y_p</th><th style=\"text-align: right;\">  y</th><th style=\"text-align: right;\">  user</th><th style=\"text-align: right;\">  user genre ave</th><th style=\"text-align: right;\">  movie rating ave</th><th>title                   </th><th>genres   </th></tr>\\n</thead>\\n<tbody>\\n<tr><td style=\"text-align: right;\">  3.0</td><td style=\"text-align: right;\">3.0</td><td style=\"text-align: right;\">    36</td><td style=\"text-align: right;\">            3.00</td><td style=\"text-align: right;\">              2.86</td><td>Time Machine, The (2002)</td><td>Adventure</td></tr>\\n<tr><td style=\"text-align: right;\">  2.8</td><td style=\"text-align: right;\">3.0</td><td style=\"text-align: right;\">    36</td><td style=\"text-align: right;\">            3.00</td><td style=\"text-align: right;\">              2.86</td><td>Time Machine, The (2002)</td><td>Sci-Fi   </td></tr>\\n<tr><td style=\"text-align: right;\">  2.8</td><td style=\"text-align: right;\">3.0</td><td style=\"text-align: right;\">    36</td><td style=\"text-align: right;\">            3.00</td><td style=\"text-align: right;\">              2.86</td><td>Time Machine, The (2002)</td><td>Action   </td></tr>\\n<tr><td style=\"text-align: right;\">  2.0</td><td style=\"text-align: right;\">1.5</td><td style=\"text-align: right;\">    36</td><td style=\"text-align: right;\">            1.75</td><td style=\"text-align: right;\">              3.52</td><td>Road to Perdition (2002)</td><td>Crime    </td></tr>\\n<tr><td style=\"text-align: right;\">  2.0</td><td style=\"text-align: right;\">2.0</td><td style=\"text-align: right;\">    36</td><td style=\"text-align: right;\">            1.75</td><td style=\"text-align: right;\">              3.52</td><td>Gangs of New York (2002)</td><td>Crime    </td></tr>\\n<tr><td style=\"text-align: right;\">  2.0</td><td style=\"text-align: right;\">1.0</td><td style=\"text-align: right;\">    36</td><td style=\"text-align: right;\">            1.50</td><td style=\"text-align: right;\">              4.00</td><td>Beautiful Mind, A (2001)</td><td>Drama    </td></tr>\\n<tr><td style=\"text-align: right;\">  1.8</td><td style=\"text-align: right;\">1.0</td><td style=\"text-align: right;\">    36</td><td style=\"text-align: right;\">            1.00</td><td style=\"text-align: right;\">              4.00</td><td>Beautiful Mind, A (2001)</td><td>Romance  </td></tr>\\n<tr><td style=\"text-align: right;\">  1.7</td><td style=\"text-align: right;\">1.5</td><td style=\"text-align: right;\">    36</td><td style=\"text-align: right;\">            1.50</td><td style=\"text-align: right;\">              3.52</td><td>Road to Perdition (2002)</td><td>Drama    </td></tr>\\n<tr><td style=\"text-align: right;\">  1.7</td><td style=\"text-align: right;\">2.0</td><td style=\"text-align: right;\">    36</td><td style=\"text-align: right;\">            1.50</td><td style=\"text-align: right;\">              3.52</td><td>Gangs of New York (2002)</td><td>Drama    </td></tr>\\n</tbody>\\n</table>'"
            ],
            "text/html": [
              "<table>\n",
              "<thead>\n",
              "<tr><th style=\"text-align: right;\">  y_p</th><th style=\"text-align: right;\">  y</th><th style=\"text-align: right;\">  user</th><th style=\"text-align: right;\">  user genre ave</th><th style=\"text-align: right;\">  movie rating ave</th><th>title                   </th><th>genres   </th></tr>\n",
              "</thead>\n",
              "<tbody>\n",
              "<tr><td style=\"text-align: right;\">  3.0</td><td style=\"text-align: right;\">3.0</td><td style=\"text-align: right;\">    36</td><td style=\"text-align: right;\">            3.00</td><td style=\"text-align: right;\">              2.86</td><td>Time Machine, The (2002)</td><td>Adventure</td></tr>\n",
              "<tr><td style=\"text-align: right;\">  2.8</td><td style=\"text-align: right;\">3.0</td><td style=\"text-align: right;\">    36</td><td style=\"text-align: right;\">            3.00</td><td style=\"text-align: right;\">              2.86</td><td>Time Machine, The (2002)</td><td>Sci-Fi   </td></tr>\n",
              "<tr><td style=\"text-align: right;\">  2.8</td><td style=\"text-align: right;\">3.0</td><td style=\"text-align: right;\">    36</td><td style=\"text-align: right;\">            3.00</td><td style=\"text-align: right;\">              2.86</td><td>Time Machine, The (2002)</td><td>Action   </td></tr>\n",
              "<tr><td style=\"text-align: right;\">  2.0</td><td style=\"text-align: right;\">1.5</td><td style=\"text-align: right;\">    36</td><td style=\"text-align: right;\">            1.75</td><td style=\"text-align: right;\">              3.52</td><td>Road to Perdition (2002)</td><td>Crime    </td></tr>\n",
              "<tr><td style=\"text-align: right;\">  2.0</td><td style=\"text-align: right;\">2.0</td><td style=\"text-align: right;\">    36</td><td style=\"text-align: right;\">            1.75</td><td style=\"text-align: right;\">              3.52</td><td>Gangs of New York (2002)</td><td>Crime    </td></tr>\n",
              "<tr><td style=\"text-align: right;\">  2.0</td><td style=\"text-align: right;\">1.0</td><td style=\"text-align: right;\">    36</td><td style=\"text-align: right;\">            1.50</td><td style=\"text-align: right;\">              4.00</td><td>Beautiful Mind, A (2001)</td><td>Drama    </td></tr>\n",
              "<tr><td style=\"text-align: right;\">  1.8</td><td style=\"text-align: right;\">1.0</td><td style=\"text-align: right;\">    36</td><td style=\"text-align: right;\">            1.00</td><td style=\"text-align: right;\">              4.00</td><td>Beautiful Mind, A (2001)</td><td>Romance  </td></tr>\n",
              "<tr><td style=\"text-align: right;\">  1.7</td><td style=\"text-align: right;\">1.5</td><td style=\"text-align: right;\">    36</td><td style=\"text-align: right;\">            1.50</td><td style=\"text-align: right;\">              3.52</td><td>Road to Perdition (2002)</td><td>Drama    </td></tr>\n",
              "<tr><td style=\"text-align: right;\">  1.7</td><td style=\"text-align: right;\">2.0</td><td style=\"text-align: right;\">    36</td><td style=\"text-align: right;\">            1.50</td><td style=\"text-align: right;\">              3.52</td><td>Gangs of New York (2002)</td><td>Drama    </td></tr>\n",
              "</tbody>\n",
              "</table>"
            ],
            "application/vnd.google.colaboratory.intrinsic+json": {
              "type": "string"
            }
          },
          "metadata": {},
          "execution_count": 97
        }
      ]
    },
    {
      "cell_type": "markdown",
      "source": [
        "\n",
        "\n",
        "![image.png](data:image/png;base64,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)\n",
        "\n"
      ],
      "metadata": {
        "id": "SQwCs6OP4qA6"
      }
    },
    {
      "cell_type": "code",
      "source": [
        "def sq_dist(a,b):\n",
        "    \"\"\"\n",
        "    Returns the squared distance between two vectors\n",
        "    Args:\n",
        "      a (ndarray (n,)): vector with n features\n",
        "      b (ndarray (n,)): vector with n features\n",
        "    Returns:\n",
        "      d (float) : distance\n",
        "    \"\"\"\n",
        "    ### START CODE HERE ###\n",
        "    d = sum(np.square(a-b))\n",
        "    ### END CODE HERE ###\n",
        "    return (d)"
      ],
      "metadata": {
        "id": "cQQdZpfx4iPC"
      },
      "execution_count": 98,
      "outputs": []
    },
    {
      "cell_type": "code",
      "source": [
        "a1 = np.array([1.0, 2.0, 3.0]); b1 = np.array([1.0, 2.0, 3.0])\n",
        "a2 = np.array([1.1, 2.1, 3.1]); b2 = np.array([1.0, 2.0, 3.0])\n",
        "a3 = np.array([0, 1, 0]);       b3 = np.array([1, 0, 0])\n",
        "print(f\"squared distance between a1 and b1: {sq_dist(a1, b1)}\")\n",
        "print(f\"squared distance between a2 and b2: {sq_dist(a2, b2)}\")\n",
        "print(f\"squared distance between a3 and b3: {sq_dist(a3, b3)}\")"
      ],
      "metadata": {
        "colab": {
          "base_uri": "https://localhost:8080/"
        },
        "id": "5kiPYB_s5H7S",
        "outputId": "51437292-613c-40fe-89f1-f1e87edcf63a"
      },
      "execution_count": 99,
      "outputs": [
        {
          "output_type": "stream",
          "name": "stdout",
          "text": [
            "squared distance between a1 and b1: 0.0\n",
            "squared distance between a2 and b2: 0.030000000000000054\n",
            "squared distance between a3 and b3: 2\n"
          ]
        }
      ]
    },
    {
      "cell_type": "code",
      "source": [
        "input_item_m = tf.keras.layers.Input(shape=(num_item_features,1))    # input layer\n",
        "vm_m = item_NN(input_item_m)                                       # use the trained item_NN\n",
        "vm_m = keras.layers.Lambda(lambda x: tf.linalg.l2_normalize(x, axis=1))(vm_m) # incorporate normalization as was done in the original model\n",
        "model_m = Model(input_item_m, vm_m)\n",
        "model_m.summary()"
      ],
      "metadata": {
        "collapsed": true,
        "colab": {
          "base_uri": "https://localhost:8080/",
          "height": 238
        },
        "id": "5xrBMv1p5NLW",
        "outputId": "c34c72e3-ec1b-436b-bf29-8edd676ddd3f"
      },
      "execution_count": 104,
      "outputs": [
        {
          "output_type": "display_data",
          "data": {
            "text/plain": [
              "\u001b[1mModel: \"functional_16\"\u001b[0m\n"
            ],
            "text/html": [
              "<pre style=\"white-space:pre;overflow-x:auto;line-height:normal;font-family:Menlo,'DejaVu Sans Mono',consolas,'Courier New',monospace\"><span style=\"font-weight: bold\">Model: \"functional_16\"</span>\n",
              "</pre>\n"
            ]
          },
          "metadata": {}
        },
        {
          "output_type": "display_data",
          "data": {
            "text/plain": [
              "┏━━━━━━━━━━━━━━━━━━━━━━━━━━━━━━━━━┳━━━━━━━━━━━━━━━━━━━━━━━━┳━━━━━━━━━━━━━━━┓\n",
              "┃\u001b[1m \u001b[0m\u001b[1mLayer (type)                   \u001b[0m\u001b[1m \u001b[0m┃\u001b[1m \u001b[0m\u001b[1mOutput Shape          \u001b[0m\u001b[1m \u001b[0m┃\u001b[1m \u001b[0m\u001b[1m      Param #\u001b[0m\u001b[1m \u001b[0m┃\n",
              "┡━━━━━━━━━━━━━━━━━━━━━━━━━━━━━━━━━╇━━━━━━━━━━━━━━━━━━━━━━━━╇━━━━━━━━━━━━━━━┩\n",
              "│ input_layer_43 (\u001b[38;5;33mInputLayer\u001b[0m)     │ (\u001b[38;5;45mNone\u001b[0m, \u001b[38;5;34m16\u001b[0m, \u001b[38;5;34m1\u001b[0m)          │             \u001b[38;5;34m0\u001b[0m │\n",
              "├─────────────────────────────────┼────────────────────────┼───────────────┤\n",
              "│ sequential_43 (\u001b[38;5;33mSequential\u001b[0m)      │ (\u001b[38;5;45mNone\u001b[0m, \u001b[38;5;34m16\u001b[0m, \u001b[38;5;34m32\u001b[0m)         │        \u001b[38;5;34m41,376\u001b[0m │\n",
              "├─────────────────────────────────┼────────────────────────┼───────────────┤\n",
              "│ lambda_8 (\u001b[38;5;33mLambda\u001b[0m)               │ (\u001b[38;5;45mNone\u001b[0m, \u001b[38;5;34m16\u001b[0m, \u001b[38;5;34m32\u001b[0m)         │             \u001b[38;5;34m0\u001b[0m │\n",
              "└─────────────────────────────────┴────────────────────────┴───────────────┘\n"
            ],
            "text/html": [
              "<pre style=\"white-space:pre;overflow-x:auto;line-height:normal;font-family:Menlo,'DejaVu Sans Mono',consolas,'Courier New',monospace\">┏━━━━━━━━━━━━━━━━━━━━━━━━━━━━━━━━━┳━━━━━━━━━━━━━━━━━━━━━━━━┳━━━━━━━━━━━━━━━┓\n",
              "┃<span style=\"font-weight: bold\"> Layer (type)                    </span>┃<span style=\"font-weight: bold\"> Output Shape           </span>┃<span style=\"font-weight: bold\">       Param # </span>┃\n",
              "┡━━━━━━━━━━━━━━━━━━━━━━━━━━━━━━━━━╇━━━━━━━━━━━━━━━━━━━━━━━━╇━━━━━━━━━━━━━━━┩\n",
              "│ input_layer_43 (<span style=\"color: #0087ff; text-decoration-color: #0087ff\">InputLayer</span>)     │ (<span style=\"color: #00d7ff; text-decoration-color: #00d7ff\">None</span>, <span style=\"color: #00af00; text-decoration-color: #00af00\">16</span>, <span style=\"color: #00af00; text-decoration-color: #00af00\">1</span>)          │             <span style=\"color: #00af00; text-decoration-color: #00af00\">0</span> │\n",
              "├─────────────────────────────────┼────────────────────────┼───────────────┤\n",
              "│ sequential_43 (<span style=\"color: #0087ff; text-decoration-color: #0087ff\">Sequential</span>)      │ (<span style=\"color: #00d7ff; text-decoration-color: #00d7ff\">None</span>, <span style=\"color: #00af00; text-decoration-color: #00af00\">16</span>, <span style=\"color: #00af00; text-decoration-color: #00af00\">32</span>)         │        <span style=\"color: #00af00; text-decoration-color: #00af00\">41,376</span> │\n",
              "├─────────────────────────────────┼────────────────────────┼───────────────┤\n",
              "│ lambda_8 (<span style=\"color: #0087ff; text-decoration-color: #0087ff\">Lambda</span>)               │ (<span style=\"color: #00d7ff; text-decoration-color: #00d7ff\">None</span>, <span style=\"color: #00af00; text-decoration-color: #00af00\">16</span>, <span style=\"color: #00af00; text-decoration-color: #00af00\">32</span>)         │             <span style=\"color: #00af00; text-decoration-color: #00af00\">0</span> │\n",
              "└─────────────────────────────────┴────────────────────────┴───────────────┘\n",
              "</pre>\n"
            ]
          },
          "metadata": {}
        },
        {
          "output_type": "display_data",
          "data": {
            "text/plain": [
              "\u001b[1m Total params: \u001b[0m\u001b[38;5;34m41,376\u001b[0m (161.62 KB)\n"
            ],
            "text/html": [
              "<pre style=\"white-space:pre;overflow-x:auto;line-height:normal;font-family:Menlo,'DejaVu Sans Mono',consolas,'Courier New',monospace\"><span style=\"font-weight: bold\"> Total params: </span><span style=\"color: #00af00; text-decoration-color: #00af00\">41,376</span> (161.62 KB)\n",
              "</pre>\n"
            ]
          },
          "metadata": {}
        },
        {
          "output_type": "display_data",
          "data": {
            "text/plain": [
              "\u001b[1m Trainable params: \u001b[0m\u001b[38;5;34m41,376\u001b[0m (161.62 KB)\n"
            ],
            "text/html": [
              "<pre style=\"white-space:pre;overflow-x:auto;line-height:normal;font-family:Menlo,'DejaVu Sans Mono',consolas,'Courier New',monospace\"><span style=\"font-weight: bold\"> Trainable params: </span><span style=\"color: #00af00; text-decoration-color: #00af00\">41,376</span> (161.62 KB)\n",
              "</pre>\n"
            ]
          },
          "metadata": {}
        },
        {
          "output_type": "display_data",
          "data": {
            "text/plain": [
              "\u001b[1m Non-trainable params: \u001b[0m\u001b[38;5;34m0\u001b[0m (0.00 B)\n"
            ],
            "text/html": [
              "<pre style=\"white-space:pre;overflow-x:auto;line-height:normal;font-family:Menlo,'DejaVu Sans Mono',consolas,'Courier New',monospace\"><span style=\"font-weight: bold\"> Non-trainable params: </span><span style=\"color: #00af00; text-decoration-color: #00af00\">0</span> (0.00 B)\n",
              "</pre>\n"
            ]
          },
          "metadata": {}
        }
      ]
    },
    {
      "cell_type": "code",
      "source": [
        "scaled_item_vecs = scalerItem.transform(item_vecs)\n",
        "vms = model_m.predict(scaled_item_vecs[:,i_s:])\n",
        "print(f\"size of all predicted movie feature vectors: {vms.shape}\")"
      ],
      "metadata": {
        "colab": {
          "base_uri": "https://localhost:8080/"
        },
        "id": "K7C4lKxe5Snp",
        "outputId": "c8f563c6-2317-4cc8-e893-581e59268cfb"
      },
      "execution_count": 105,
      "outputs": [
        {
          "output_type": "stream",
          "name": "stdout",
          "text": [
            "\u001b[1m59/59\u001b[0m \u001b[32m━━━━━━━━━━━━━━━━━━━━\u001b[0m\u001b[37m\u001b[0m \u001b[1m0s\u001b[0m 3ms/step\n",
            "size of all predicted movie feature vectors: (1883, 32)\n"
          ]
        }
      ]
    },
    {
      "cell_type": "code",
      "source": [
        "count = 50\n",
        "dim = len(vms)\n",
        "dist = np.zeros((dim,dim))\n",
        "\n",
        "for i in range(dim):\n",
        "    for j in range(dim):\n",
        "        dist[i,j] = sq_dist(vms[i, :], vms[j, :])\n",
        "\n",
        "m_dist = ma.masked_array(dist, mask=np.identity(dist.shape[0]))  # mask the diagonal\n",
        "\n",
        "disp = [[\"movie1\", \"genres\", \"movie2\", \"genres\"]]\n",
        "for i in range(count):\n",
        "    min_idx = np.argmin(m_dist[i])\n",
        "    movie1_id = int(item_vecs[i,0])\n",
        "    movie2_id = int(item_vecs[min_idx,0])\n",
        "    genre1,_  = get_item_genre(item_vecs[i,:], ivs, item_features)\n",
        "    genre2,_  = get_item_genre(item_vecs[min_idx,:], ivs, item_features)\n",
        "\n",
        "    disp.append( [movie_dict[movie1_id]['title'], genre1,\n",
        "                  movie_dict[movie2_id]['title'], genre2]\n",
        "               )\n",
        "table = tabulate.tabulate(disp, tablefmt='html', headers=\"firstrow\", floatfmt=[\".1f\", \".1f\", \".0f\", \".2f\", \".2f\"])\n",
        "table"
      ],
      "metadata": {
        "colab": {
          "base_uri": "https://localhost:8080/",
          "height": 244
        },
        "id": "vOTHgz8H5XNC",
        "outputId": "b3feb54c-e195-44f3-8051-6df648d38865"
      },
      "execution_count": 106,
      "outputs": [
        {
          "output_type": "execute_result",
          "data": {
            "text/plain": [
              "'<table>\\n<thead>\\n<tr><th>movie1                                </th><th>genres   </th><th>movie2                                </th><th>genres   </th></tr>\\n</thead>\\n<tbody>\\n<tr><td>Save the Last Dance (2001)            </td><td>Drama    </td><td>John Q (2002)                         </td><td>Drama    </td></tr>\\n<tr><td>Save the Last Dance (2001)            </td><td>Romance  </td><td>Sweetest Thing, The (2002)            </td><td>Romance  </td></tr>\\n<tr><td>Wedding Planner, The (2001)           </td><td>Comedy   </td><td>Spy Kids (2001)                       </td><td>Comedy   </td></tr>\\n<tr><td>Wedding Planner, The (2001)           </td><td>Romance  </td><td>Mr. Deeds (2002)                      </td><td>Romance  </td></tr>\\n<tr><td>Hannibal (2001)                       </td><td>Horror   </td><td>Mothman Prophecies, The (2002)        </td><td>Horror   </td></tr>\\n<tr><td>Hannibal (2001)                       </td><td>Thriller </td><td>Panic Room (2002)                     </td><td>Thriller </td></tr>\\n<tr><td>Saving Silverman (Evil Woman) (2001)  </td><td>Comedy   </td><td>Cats &amp; Dogs (2001)                    </td><td>Comedy   </td></tr>\\n<tr><td>Saving Silverman (Evil Woman) (2001)  </td><td>Romance  </td><td>Mona Lisa Smile (2003)                </td><td>Romance  </td></tr>\\n<tr><td>Down to Earth (2001)                  </td><td>Comedy   </td><td>Joe Dirt (2001)                       </td><td>Comedy   </td></tr>\\n<tr><td>Down to Earth (2001)                  </td><td>Fantasy  </td><td>Haunted Mansion, The (2003)           </td><td>Fantasy  </td></tr>\\n<tr><td>Down to Earth (2001)                  </td><td>Romance  </td><td>Joe Dirt (2001)                       </td><td>Romance  </td></tr>\\n<tr><td>Mexican, The (2001)                   </td><td>Action   </td><td>Knight&#x27;s Tale, A (2001)               </td><td>Action   </td></tr>\\n<tr><td>Mexican, The (2001)                   </td><td>Comedy   </td><td>Knight&#x27;s Tale, A (2001)               </td><td>Comedy   </td></tr>\\n<tr><td>15 Minutes (2001)                     </td><td>Thriller </td><td>Mothman Prophecies, The (2002)        </td><td>Thriller </td></tr>\\n<tr><td>Heartbreakers (2001)                  </td><td>Comedy   </td><td>Animal, The (2001)                    </td><td>Comedy   </td></tr>\\n<tr><td>Heartbreakers (2001)                  </td><td>Crime    </td><td>Charlie&#x27;s Angels: Full Throttle (2003)</td><td>Thriller </td></tr>\\n<tr><td>Heartbreakers (2001)                  </td><td>Romance  </td><td>Joe Dirt (2001)                       </td><td>Romance  </td></tr>\\n<tr><td>Spy Kids (2001)                       </td><td>Action   </td><td>Lara Croft: Tomb Raider (2001)        </td><td>Action   </td></tr>\\n<tr><td>Spy Kids (2001)                       </td><td>Adventure</td><td>Lara Croft: Tomb Raider (2001)        </td><td>Adventure</td></tr>\\n<tr><td>Spy Kids (2001)                       </td><td>Children </td><td>Princess Diaries, The (2001)          </td><td>Children </td></tr>\\n<tr><td>Spy Kids (2001)                       </td><td>Comedy   </td><td>Wedding Planner, The (2001)           </td><td>Comedy   </td></tr>\\n<tr><td>Along Came a Spider (2001)            </td><td>Action   </td><td>Swordfish (2001)                      </td><td>Action   </td></tr>\\n<tr><td>Along Came a Spider (2001)            </td><td>Crime    </td><td>Phone Booth (2002)                    </td><td>Thriller </td></tr>\\n<tr><td>Along Came a Spider (2001)            </td><td>Mystery  </td><td>Ring, The (2002)                      </td><td>Mystery  </td></tr>\\n<tr><td>Along Came a Spider (2001)            </td><td>Thriller </td><td>Signs (2002)                          </td><td>Thriller </td></tr>\\n<tr><td>Blow (2001)                           </td><td>Crime    </td><td>Training Day (2001)                   </td><td>Crime    </td></tr>\\n<tr><td>Blow (2001)                           </td><td>Drama    </td><td>Training Day (2001)                   </td><td>Drama    </td></tr>\\n<tr><td>Bridget Jones&#x27;s Diary (2001)          </td><td>Comedy   </td><td>Super Troopers (2001)                 </td><td>Comedy   </td></tr>\\n<tr><td>Bridget Jones&#x27;s Diary (2001)          </td><td>Drama    </td><td>Others, The (2001)                    </td><td>Drama    </td></tr>\\n<tr><td>Bridget Jones&#x27;s Diary (2001)          </td><td>Romance  </td><td>Punch-Drunk Love (2002)               </td><td>Romance  </td></tr>\\n<tr><td>Joe Dirt (2001)                       </td><td>Adventure</td><td>Bulletproof Monk (2003)               </td><td>Adventure</td></tr>\\n<tr><td>Joe Dirt (2001)                       </td><td>Comedy   </td><td>Dr. Dolittle 2 (2001)                 </td><td>Comedy   </td></tr>\\n<tr><td>Joe Dirt (2001)                       </td><td>Mystery  </td><td>Crocodile Dundee in Los Angeles (2001)</td><td>Drama    </td></tr>\\n<tr><td>Joe Dirt (2001)                       </td><td>Romance  </td><td>Down to Earth (2001)                  </td><td>Romance  </td></tr>\\n<tr><td>Crocodile Dundee in Los Angeles (2001)</td><td>Comedy   </td><td>Heartbreakers (2001)                  </td><td>Comedy   </td></tr>\\n<tr><td>Crocodile Dundee in Los Angeles (2001)</td><td>Drama    </td><td>Crocodile Dundee in Los Angeles (2001)</td><td>Comedy   </td></tr>\\n<tr><td>Mummy Returns, The (2001)             </td><td>Action   </td><td>Swordfish (2001)                      </td><td>Action   </td></tr>\\n<tr><td>Mummy Returns, The (2001)             </td><td>Adventure</td><td>Rundown, The (2003)                   </td><td>Adventure</td></tr>\\n<tr><td>Mummy Returns, The (2001)             </td><td>Comedy   </td><td>American Pie 2 (2001)                 </td><td>Comedy   </td></tr>\\n<tr><td>Mummy Returns, The (2001)             </td><td>Thriller </td><td>Fast and the Furious, The (2001)      </td><td>Thriller </td></tr>\\n<tr><td>Knight&#x27;s Tale, A (2001)               </td><td>Action   </td><td>Mexican, The (2001)                   </td><td>Action   </td></tr>\\n<tr><td>Knight&#x27;s Tale, A (2001)               </td><td>Comedy   </td><td>Mexican, The (2001)                   </td><td>Comedy   </td></tr>\\n<tr><td>Knight&#x27;s Tale, A (2001)               </td><td>Romance  </td><td>Monster&#x27;s Ball (2001)                 </td><td>Romance  </td></tr>\\n<tr><td>Shrek (2001)                          </td><td>Adventure</td><td>Monsters, Inc. (2001)                 </td><td>Adventure</td></tr>\\n<tr><td>Shrek (2001)                          </td><td>Animation</td><td>Monsters, Inc. (2001)                 </td><td>Animation</td></tr>\\n<tr><td>Shrek (2001)                          </td><td>Children </td><td>Monsters, Inc. (2001)                 </td><td>Children </td></tr>\\n<tr><td>Shrek (2001)                          </td><td>Comedy   </td><td>Monsters, Inc. (2001)                 </td><td>Comedy   </td></tr>\\n<tr><td>Shrek (2001)                          </td><td>Fantasy  </td><td>Monsters, Inc. (2001)                 </td><td>Fantasy  </td></tr>\\n<tr><td>Shrek (2001)                          </td><td>Romance  </td><td>Monsoon Wedding (2001)                </td><td>Romance  </td></tr>\\n<tr><td>Animal, The (2001)                    </td><td>Comedy   </td><td>Heartbreakers (2001)                  </td><td>Comedy   </td></tr>\\n</tbody>\\n</table>'"
            ],
            "text/html": [
              "<table>\n",
              "<thead>\n",
              "<tr><th>movie1                                </th><th>genres   </th><th>movie2                                </th><th>genres   </th></tr>\n",
              "</thead>\n",
              "<tbody>\n",
              "<tr><td>Save the Last Dance (2001)            </td><td>Drama    </td><td>John Q (2002)                         </td><td>Drama    </td></tr>\n",
              "<tr><td>Save the Last Dance (2001)            </td><td>Romance  </td><td>Sweetest Thing, The (2002)            </td><td>Romance  </td></tr>\n",
              "<tr><td>Wedding Planner, The (2001)           </td><td>Comedy   </td><td>Spy Kids (2001)                       </td><td>Comedy   </td></tr>\n",
              "<tr><td>Wedding Planner, The (2001)           </td><td>Romance  </td><td>Mr. Deeds (2002)                      </td><td>Romance  </td></tr>\n",
              "<tr><td>Hannibal (2001)                       </td><td>Horror   </td><td>Mothman Prophecies, The (2002)        </td><td>Horror   </td></tr>\n",
              "<tr><td>Hannibal (2001)                       </td><td>Thriller </td><td>Panic Room (2002)                     </td><td>Thriller </td></tr>\n",
              "<tr><td>Saving Silverman (Evil Woman) (2001)  </td><td>Comedy   </td><td>Cats &amp; Dogs (2001)                    </td><td>Comedy   </td></tr>\n",
              "<tr><td>Saving Silverman (Evil Woman) (2001)  </td><td>Romance  </td><td>Mona Lisa Smile (2003)                </td><td>Romance  </td></tr>\n",
              "<tr><td>Down to Earth (2001)                  </td><td>Comedy   </td><td>Joe Dirt (2001)                       </td><td>Comedy   </td></tr>\n",
              "<tr><td>Down to Earth (2001)                  </td><td>Fantasy  </td><td>Haunted Mansion, The (2003)           </td><td>Fantasy  </td></tr>\n",
              "<tr><td>Down to Earth (2001)                  </td><td>Romance  </td><td>Joe Dirt (2001)                       </td><td>Romance  </td></tr>\n",
              "<tr><td>Mexican, The (2001)                   </td><td>Action   </td><td>Knight&#x27;s Tale, A (2001)               </td><td>Action   </td></tr>\n",
              "<tr><td>Mexican, The (2001)                   </td><td>Comedy   </td><td>Knight&#x27;s Tale, A (2001)               </td><td>Comedy   </td></tr>\n",
              "<tr><td>15 Minutes (2001)                     </td><td>Thriller </td><td>Mothman Prophecies, The (2002)        </td><td>Thriller </td></tr>\n",
              "<tr><td>Heartbreakers (2001)                  </td><td>Comedy   </td><td>Animal, The (2001)                    </td><td>Comedy   </td></tr>\n",
              "<tr><td>Heartbreakers (2001)                  </td><td>Crime    </td><td>Charlie&#x27;s Angels: Full Throttle (2003)</td><td>Thriller </td></tr>\n",
              "<tr><td>Heartbreakers (2001)                  </td><td>Romance  </td><td>Joe Dirt (2001)                       </td><td>Romance  </td></tr>\n",
              "<tr><td>Spy Kids (2001)                       </td><td>Action   </td><td>Lara Croft: Tomb Raider (2001)        </td><td>Action   </td></tr>\n",
              "<tr><td>Spy Kids (2001)                       </td><td>Adventure</td><td>Lara Croft: Tomb Raider (2001)        </td><td>Adventure</td></tr>\n",
              "<tr><td>Spy Kids (2001)                       </td><td>Children </td><td>Princess Diaries, The (2001)          </td><td>Children </td></tr>\n",
              "<tr><td>Spy Kids (2001)                       </td><td>Comedy   </td><td>Wedding Planner, The (2001)           </td><td>Comedy   </td></tr>\n",
              "<tr><td>Along Came a Spider (2001)            </td><td>Action   </td><td>Swordfish (2001)                      </td><td>Action   </td></tr>\n",
              "<tr><td>Along Came a Spider (2001)            </td><td>Crime    </td><td>Phone Booth (2002)                    </td><td>Thriller </td></tr>\n",
              "<tr><td>Along Came a Spider (2001)            </td><td>Mystery  </td><td>Ring, The (2002)                      </td><td>Mystery  </td></tr>\n",
              "<tr><td>Along Came a Spider (2001)            </td><td>Thriller </td><td>Signs (2002)                          </td><td>Thriller </td></tr>\n",
              "<tr><td>Blow (2001)                           </td><td>Crime    </td><td>Training Day (2001)                   </td><td>Crime    </td></tr>\n",
              "<tr><td>Blow (2001)                           </td><td>Drama    </td><td>Training Day (2001)                   </td><td>Drama    </td></tr>\n",
              "<tr><td>Bridget Jones&#x27;s Diary (2001)          </td><td>Comedy   </td><td>Super Troopers (2001)                 </td><td>Comedy   </td></tr>\n",
              "<tr><td>Bridget Jones&#x27;s Diary (2001)          </td><td>Drama    </td><td>Others, The (2001)                    </td><td>Drama    </td></tr>\n",
              "<tr><td>Bridget Jones&#x27;s Diary (2001)          </td><td>Romance  </td><td>Punch-Drunk Love (2002)               </td><td>Romance  </td></tr>\n",
              "<tr><td>Joe Dirt (2001)                       </td><td>Adventure</td><td>Bulletproof Monk (2003)               </td><td>Adventure</td></tr>\n",
              "<tr><td>Joe Dirt (2001)                       </td><td>Comedy   </td><td>Dr. Dolittle 2 (2001)                 </td><td>Comedy   </td></tr>\n",
              "<tr><td>Joe Dirt (2001)                       </td><td>Mystery  </td><td>Crocodile Dundee in Los Angeles (2001)</td><td>Drama    </td></tr>\n",
              "<tr><td>Joe Dirt (2001)                       </td><td>Romance  </td><td>Down to Earth (2001)                  </td><td>Romance  </td></tr>\n",
              "<tr><td>Crocodile Dundee in Los Angeles (2001)</td><td>Comedy   </td><td>Heartbreakers (2001)                  </td><td>Comedy   </td></tr>\n",
              "<tr><td>Crocodile Dundee in Los Angeles (2001)</td><td>Drama    </td><td>Crocodile Dundee in Los Angeles (2001)</td><td>Comedy   </td></tr>\n",
              "<tr><td>Mummy Returns, The (2001)             </td><td>Action   </td><td>Swordfish (2001)                      </td><td>Action   </td></tr>\n",
              "<tr><td>Mummy Returns, The (2001)             </td><td>Adventure</td><td>Rundown, The (2003)                   </td><td>Adventure</td></tr>\n",
              "<tr><td>Mummy Returns, The (2001)             </td><td>Comedy   </td><td>American Pie 2 (2001)                 </td><td>Comedy   </td></tr>\n",
              "<tr><td>Mummy Returns, The (2001)             </td><td>Thriller </td><td>Fast and the Furious, The (2001)      </td><td>Thriller </td></tr>\n",
              "<tr><td>Knight&#x27;s Tale, A (2001)               </td><td>Action   </td><td>Mexican, The (2001)                   </td><td>Action   </td></tr>\n",
              "<tr><td>Knight&#x27;s Tale, A (2001)               </td><td>Comedy   </td><td>Mexican, The (2001)                   </td><td>Comedy   </td></tr>\n",
              "<tr><td>Knight&#x27;s Tale, A (2001)               </td><td>Romance  </td><td>Monster&#x27;s Ball (2001)                 </td><td>Romance  </td></tr>\n",
              "<tr><td>Shrek (2001)                          </td><td>Adventure</td><td>Monsters, Inc. (2001)                 </td><td>Adventure</td></tr>\n",
              "<tr><td>Shrek (2001)                          </td><td>Animation</td><td>Monsters, Inc. (2001)                 </td><td>Animation</td></tr>\n",
              "<tr><td>Shrek (2001)                          </td><td>Children </td><td>Monsters, Inc. (2001)                 </td><td>Children </td></tr>\n",
              "<tr><td>Shrek (2001)                          </td><td>Comedy   </td><td>Monsters, Inc. (2001)                 </td><td>Comedy   </td></tr>\n",
              "<tr><td>Shrek (2001)                          </td><td>Fantasy  </td><td>Monsters, Inc. (2001)                 </td><td>Fantasy  </td></tr>\n",
              "<tr><td>Shrek (2001)                          </td><td>Romance  </td><td>Monsoon Wedding (2001)                </td><td>Romance  </td></tr>\n",
              "<tr><td>Animal, The (2001)                    </td><td>Comedy   </td><td>Heartbreakers (2001)                  </td><td>Comedy   </td></tr>\n",
              "</tbody>\n",
              "</table>"
            ],
            "application/vnd.google.colaboratory.intrinsic+json": {
              "type": "string"
            }
          },
          "metadata": {},
          "execution_count": 106
        }
      ]
    },
    {
      "cell_type": "markdown",
      "source": [
        "![image.png](data:image/png;base64,iVBORw0KGgoAAAANSUhEUgAAAtkAAALKCAYAAADnD02rAAAAAXNSR0IArs4c6QAAAARnQU1BAACxjwv8YQUAAAAJcEhZcwAADsMAAA7DAcdvqGQAAN1hSURBVHhe7P1dbxPZ2i/8XnMf8gmeLSWgaQytJHyGJDxw46YDVuhIOUYBGmUh5Y5mZDadDxDYWF6KIvWKmpeI40g0kTuh2wgWIcfPYeIICNaCRNrfgNPe4xovVWOUq8plp+zYyf835YntcqrKVTWucY2XctM/ACfat3+e5v79z7///V//PP0/7//573/z83//81+/fxPL/Nf//s979XHJel8+/lu8w8y6/v3Pf7+Vb/zzz/95+s9/8WdyT//5Zj/Xi73l+qG2a7P3T7/VDez9/s/T+u8dPEbm+NnH4O1/e8vDjtf73/9LLDPfO2J9wvv/WO9323ECgAS6PQ4rJtb4ce6I2fuNONyV/l8EANLq3Skq6+d7j27RlR/91/RqgZ595SebNJux3pfKNJWZFUv6KfdzVr3zelP+u19ZpT3xb/bnnFga8PUZXbm4IJcbe49GaPadftG1xDGw91scm4VP+rkUcoxeTdGVJ/v6BVulW3f8T5Tv8PGzrdLCI7OF6PXtP7lCU6/0ewDQ87o2Dr+b1bEmT+OX5DtHDHG4FyDJBpBEIPn5A9VqH2j+fPjrbfHW/pMFFWRurIhlNWt5mdZEUO7PTZIM7zt7JEIPVf7gAJWlyVxdaKfNJRUgsw94O2JdT/PyfVMxdKv6Y7Aiqh1f3fL38/KY7P1REUdEE5XB5Hv7b6u0JytPzVv+hnKV6PX9//h9dn6ePsh9eUO3z+j3AKDHdGcc5iQyI5PRLM2/X6RR9faRQhzuDUiyASQTgPspO6TeGTzrvrZlfzirn/m9JtUvInSdydEkB/tPq1T5+oW2uWfh/CTlYgIO95pkMhkdxHuHfwxGafyGfmp7NaW+V6CXSPKOyVm6ICvHgLBjFrK+//cv86py+LRAI7xM9mQBQG/qvji8OZehEdmbm6eVLkweEYe7G5JsgBbsffyin5leEr8yUMF+j1bvqpZ/6BClxetBMY9SN/STNOYfg01aCxsq9HpY9OPv27HHoaHQ9Y3Sonzt92QtOMOhAHBctT0Omykisoe2O3qwgxCHuxuSbIAm9JsWu2nNZ0bUPDgRhOf0PD0zVLn3iYN++BAlG/1JDdB5PSjycUXPOexe3lCsdwzceXr1y9Wj1bnmceuTw7jytT4PgqpkAeC46lQc3v9Slcv8Hlr16Ib7ZhCHewOSbICmiBa7novm4V4Ou3fADFWyuCHKS4ve/L+ecuY2vbH2O/tgRfdeZOkCHxheHjxGh9HE+rg3arErbkoCgPbpTBz+8tFMiOhCiMM94V/8EyP6OQBA897N6nmMPGexO4dUAQCONcThroQkGwCaFPbzWar34s0vGCIEAGg/xOFegOkiAHBoCOwAAEcLcbj7oCcbAAAAACBl6MkGAAAAAEgZkmwAAAAAgJQhyQYAAAAASBmSbAAAAACAlCHJBgAAAABIGZJsAAAAAICUeT/h97//9/+WbwAAAAAAtMP//X//3/rZ8YffyQYAAAAASBmmiwAAAAAApAxJNgAAAABAypBkAwAAAACkDEk2AAAAAEDKkGQDAAAAAKQMSTYAAAAAQMqQZAMAAAAApAxJNgAAAABAypBkAwAAAACkDEn2sbVJs5kr9OyrfgkAAHAYX5/RlcysqF0AIAkk2W2wOZehTMY8OpToti34cbKeznr5uFx5sq9fBe3Tsx/t46Yes+/04m7wblbskz4W8nhH76d9DQS/c9wyppZbx9zebtfh68P/PuqBxh1A70gvxjctEEcTxY52x+GodSIOQwuQZKeMC+4UrVCtVlOP95NEe3ohNJCl+ff6uMnHCtEdESzmuiGsiUZAsSr2b5FGxavNpW2a987xPFXv+AFt/8kV6xpYocFHI16gjltmgvvaD/PiSFguLdKHB1VaiGygHLU8rZhjIY/HJK1ejGtQAcCJx0nrxVWatGO+jh3BZNnX/jgcuU7EYWgBkuw2yP/ExV87c5tuX9LPA61Nc/FzYu4WBLdnIa41LslgtSBy+TJNBT+zZ7XKf3wmQpSv4XobsP/eXbf9PTlAqV7qqVdid0QwS94bMEqLIgDmXy04gdPbpr0emaCK17K3QS13v5PbU+4vC+6rfjvoXYkWaJJyZ9TL0ZIK8tKZHE2e36Nt2Zjap8ofRPMzZukozT3IUvk172ncMkFcK29EcFzMqZe2/pxorD0qJTxuR4y/h6icvP3V5+aZPneyMovsgeLzIc7DE/88ymXWefU/K0SuBwBa49ZToZ0cVnn0l+uy+84qk5EdJOKzdzhZfkO3dUyVOHY8zVO56NZVng7E4eh1Ig4jDjcPSXbKRn8SAcJqTTverRE99VvI9OiW/Bz/zd4fFT+oiM+Vb4zLgu62uD/Q5B9Wz6chWti8vqxuyb75pV8v2KOFItFz+bciWf20QCX9t4nWG2uT1qy/nxeh75ZMXDmZnfK/Z42DaD/d/rtGKzeIsg8+iPesINbQKI3f2KPVilp35eMkfZDr5fWJRoUTxMXr1+Nqu9bxVfs0Qqs/87b5b1dEmDbvW/sqW/7hDYDN12XK/pwjc2RdX2j7U57GZWOKnw9S1qo4+s8OEu3sia3FLWtABvsq7UU1ArqN3N8yrXnXVJlW6bk8zoviOO1Xtv0eLK5U79jHXVy3H/V5lMtE4DbnNfDZ+PUAQHNUTKzKOK3K1YqoKdwOCzfOZq1OkLo659VUeL3Cddx5P1l2XBoXddUqVUJiXefjsL1OAXE49LOIw9GQZKdNJrxqmKauZ1Qs4wtbkhe/fi6DyrYozgoHEtUbvkmlR3aLu59yP2ep+qVhSqZlaf732zogcbJK+m8Pu142Sosl9+/N8+yQ2U46zv7gr/t2yXwf1ThxiUaG2Sd5fHUPxNeKCCzz9NxrfIzSbX4ue0XmaS5hAB08GxbaTaU0pxoOX/eoKt+3ZC+o6R9xyxri4+r3qHQ/dR348jTvHX+x9JdFvweLr3/9VBHXrbk25bLga/8cxa8HAJqiY6IfK0W0nJknsjuBRCkLjbNSVJ3TjLN0wdSNIToXhwPrlBCH/deIw0kgyW4HPexfP7+MC60ZUhmhhU/6bRmMdGvz6zNa2LESP25NyoRdPUYe7dHeR5OON8dPVtnh12tP3eC/N0ZLqmec329lGkrQl497fmC1hynvlNV7oazgsrdNe0NZHfgDPi3QiFmfPCdhAXSf9nb0U5scIrtF9Ls1enAmS4PqmY+3z//GLTt2+Jhl6UJkC8Iekp6iuDMZL631AIAUjJUct6xOIFcwiXO5dU5S3Husnzo6GIfD1tmTEIePGpLsdjLzy/Q8MJ6ysF3QQyo8xcJqrctpJuJz+5VVImc4LHAzAz+8HuTDONx6OcEe+Tjv/e2HB3YpVtNDWpuGEsCNjld6uI4T7OIFb7oID0slFjUl44aZ8uI/vNEGT0hFwkH4Lg+LBuYUSm5v+P6XqlVxxS07RgJzJ10ckBfognfD00qLPR9prQfgBAv27AZjJS8/f4HO6pep4N7OiCkh0VNJOhSHY9fZYxCHjxyS7FSJRHoucHPha9Om49a51aLkKQx2a52Dzqs1Kn0kmsyZlEv1cLvzjtNw+PVy73L2BxN2+UaSsP5YFRRbnjrCwe7iAg0+VXO4gwmpf2wbkAHdzBlnm/SMn8tjHjFnMIT/PcR5vrtKk96wqI1voiFaWDLH1p6aE7eskUY9El2EG0N8U1Po8RFkpW7NieRKVT9tSlrrATjBuGNnT98DVB8rRZRaWgh0/KRBx8KLgSmVHPPvlClfiIgdQnvjcNw6GeJwHcThWEiyU9VPt3/atqYf6J/zkz3Eo7T4dNCfonF3mwadeWcq8S3vuK1OnnoxvzPlrS/yFzDO3KZ5TpzFZ5JM0Ui8Xkmt1/vsj8/obEn97JF67xZti+RX4R57/7P8/c1wm5zbF/vrIu4UlsxF9VNKpme5/5fnzj6vJW4vq18p8fd3irbl9BPx/nv+iSZrm4FfYDHkzanedBpuMAX2lR+60eLuJ99Y6feIxC2LJRtl7s063SNwfcjRhpjvJa7V5w+q/t+85nGVFqS1HoCTSE+9G3k06M+xrouVGVr44UNbpkz0//KGanadyA/+lazz9nRJV/vjcPw6EYdDIA7H+tc/gn4OAJG48cBz9BImxSnj6Tm36HmPzw8EAIgn/1sTr8QTkWx/+DvYC4s4DL0FSTZAUnL4jWilqZ8gTMFRbRcAoNsgDkMPQZINAAAAAJAyzMkGAAAAAEgZkmwAAAAAgJQhyQYAAAAASBmSbAAAAACAlCHJBgAAAABIGZJsAAAAAICUIckGAAAAAEiZ9zvZ379/l28AAAAAALTDqVOn9LPjDz3ZAAAAAAApQ5INAAAAAJAyJNkAAAAAAClDkg0AAAAAkDIk2QAAAAAAKUOSDQAAAACQMiTZAAAAAAApQ5INAAAAAJAyJNkAAAAAAClDkn1sbdH9oev04pt+CQBwWN9e0PUOx5WtX4do6Nct+fxg5br3/CSTx2H8BR3wC3lO7ouIDwDdBkl2G8hKYcg8OlQhtS3QcrKeznr5uFxfkdVCiAN6MW4fN/W4v6kXd4PN+2Kf9LGQxzt6P+1rIPid45Yxtdw65vZ224LPsb9P8oFE5vgIXKuHOrenb9KfO3/SzdP6dYqi4ubwwx3aeTisXhwj8vvKc9F8+eub+pN21m5Sn34dKrROUNty45WKvd0Qa/1jEgNxGHoIkuyUccGcpmXa2REVAz/+miCq6YXQQIYKf+njJh/LRPe6JdCIimhxV+zfY+Lqfmu5SgXvHBdo956fFHAvk38NLNNAKecF/7hlpsJYP1cQR8Iy+pgqc7tUjGygpGGMls332alQYXe6KypdOCS+pq6+pAmrXC2fq6ke0C5y4uKmOC/F3QJVvMaDXf7EI41GxenLNHFug9btcvytRrvin42KHVNrVP08RtdG9csjNPyQY08xpmMKcRh6C5LsNhjLWQHy9E266QUvt6VqWs9cwbgtaf6c32Ju1OKWLeyrRREqN2g6+Jma1dI3w4taw/U2YP+9u277e3LQUz0l02WxOyKYJe8NGKbHIgCOlf2gK4dJvXVb65GBUbyWvQ1qufud3J5yf1lwX/XbQZtLVKQJuqx78IYfqiAvycpMVFQyKTigt+J7FqbN0mGamcvoSi1umSB7CXfo8WX10tZ3WSQdpaWEx+2w+uhyPkO7NeuM2uc65Li/8M6LOob+eXKPadT5k++LxpS/neC5OOT5O8nO+dctG57ye0BDy7ApS/ITCp8fecztZQ3LnLv++5tuXAuKipu8juB6Y/eRyeVm29bn9N+Z65UTGLX+F/51JBv11nVlN/Kd9do9p/x5cf1tWstjOge2lotE+ctN90Sb72jKS7z6cnzw9qXY7hhldq2G1uY6bZwb1AmlXZ4C3yFw7NpT1nmfiYrLEd8NcTj0mHbm3DDE4WYhyU7ZcG6MNqzWtEMEM/pNt1JFq5tK0/Jz/De18ls36OWvyeDBF73f4q7QRNlqcRuihc3ry+hW8J9TJnTXqLhIumUsktXPRVrSf5tovbG2aN36+4IIfdOywHEhnPa/pxxa7qObazu0LIJnZq4i3rMCY0PDdC1fo5dv1brffp6gilwvr080KpyKRryuXFPbtY6v2qccvczztvlvl0WYNu9b+/rXBL286lZqxlZlgzKRlaLdE8TPByhjJTV9mQESkVJsLW5ZA7IC2aVaR4LXFi2ViCYuq28rrxXuddPHfec3ommnUbVBL/W1UJkTFeRVv1dSvp4xn21w/srTtJ5Ty4J/d9jzd2LxdSPKZs4pJ0ZEGa7rAVVJibkeXFFlTl833vp36FplWnw6XGzcDBO7j6LCt3vvY67XxzqRr5WqdE3uJzfqp0WisO68NrHx4G3VWi/vs329BeKt9XcucdzLmYjjaWnqPITj+OLXLfrvp2fENfGS3upj7cc2VZ52ZYxW33FZnEG3gdPusq4SWacRYEEcRhzuNUiy0yYTXr7IQlp0YpkJ6qqw6uej10QCXBVFX+FAonp1VCHzW9z1Ldt4GSosmV4rTlY5jvDfHna9bJgee0Oa6u/NcxWvmllXvMw5f903H/q9cFwxu0Qjw+yTPL4imPJB/fZWBJ8CLXuNj2G6yc9lr0iBZpxzEh1ABzLm722mYppRDQc9HOvI6F6iuGUN8XHV36ctRKD1eiI4wTDzbvW14l1HwuiMOGp+Jc3HvaCPrawgg6+9a7vB+csve+XD+buUzt/JpBu4orqV59ZJtqPLsBMP5PF3e8N9EWWuLsaIrT0Uiad+XicuboaK3seDlSJt5Av+vPFAfLWvVyNjyq/4f46TwddmO31Tj9316qdKVLwN4yZ5bvkzPeTNnIcI8rvrsur9vYolpuOitqsTfl2e/HImvsV0QSRdVgdQsGwHXx+2rLPTGRpwzpcLcVhDHO4JSLLbQQ83mUrD783gQGAKUI6Kn/XbMiDrHotvaq6ed8GKy5tbpCb45ko1qn1urYT7ySo7/Hq5ZW3/vcHz6rhnnN+vG+ZtAe+XF1itoemhe1H9Ykwl+1JNBImBjB+cbJ+LlDPrk+ckLIByRaSf2uQQnWjBL1mjB1xBqGc+3j7/G7fsyJm5gBUqnNsIzDsMJgSHqGiSnj/7WB36/IG8eVCcX5lsW71fUWWYK1eTXPHUhoFZq3KPZJU5KXjdNBAZN8PF7qPsjTbXBfegp1Xp28Pi0T3zzI23lrAkzyt/6mEnOc2fBxvXLbpMWOWIEysZ7zlxsnt1g+WsQcIbq5WyHgtxGHG49yDJbieuNHhIUc8D46GW6qwJpFyI1McYBz3+nJozZw+HucFXPtK4KeaQ6+XKOfe54P1tZc6uUFTvGX/H5qehBHCjo6yHADkwLA5aw2WR/WL1ooYCRavd+/764Y02eILJg8CBfYaHhsN+acGt0A+4ZvCCU9yybiDO3VIhMO8wmKCo3q/BZF0/viM7f2DIG8t071dsGebeKPk5ntrQ6k1xgesmNLkM4cTNGDH7qKal2ddFGr+Iwgl2kQa9m0hjeubjJE4qhRTOg6lb/BFSgXu4y+u0xYmTnpooBcsZnzNvvnYTDlPWIyEOIw73HiTZqRKJ9K/2HCkRlkVgU0TL7rNVIGQPgn7OdNBbEu/5c+5UD7c77zgNh18v94L4PTU81y+s2aqCYvSQaQMcQK8WaeA3NYc7GAj9Y9uAHDI1c8bZFr3g5/KYJ7972/8e4jzPvKQJe+jOwzfRkHXjjj1sHreskRYDaitEkrM8t6uvD9UTZs+ZDN58lNRRn78TSVSozvGx4k58GeapCkQvl9dp107CEtPXjXUDG/fEhnduxcXNOOH7KHt/rbnhqZGNBKs3ke+d0U+bF0yYohz2PAg8FUKUk2knSdd1wL1A4u2UM3XOGt6gGaLlss4aJPaIwxricE9Akp0q0frMVa1hE33jgewhHqbHvw34UzRmqjRg9WSboLex6xYa9ZNG9tBnxHxFUSALHDTFZ5JM0Ui8XsmeJyYe4y8o81D97JF6b5qqotAq3GPvf5a/vxnCk/P7Yn9dxJ3CMnRV/TyTN3Q6tezs83rifiT1KyXO/srpJ+J9+bNP1jadG0l83vCqxA2mwL7yQzda3P3kG0L8Xpa4ZbGCw7pt1jdVkIGTryWearA8YA0Hci9Io9/oDXGU5+/EGp2hwUXr+MgbAtU1x3Okw8uwoqYqbNCA/asfTQjGmPVcVM9vXNyMF7qPsifcirX8SKOjwiQ9Zp0VHg9shUqY3OH0+hhrruPDngc1R1b8G0jSVQPLTbzdcjZExXMV60b65Fov66IGefsycloC4jDicK/51z8CP/n+/bt8AwDCcOOB5/0lDMYpk3eWWw0WgJ5jhvZbSAyOHRyLCI3iLOLwcXDq1Cn97PhDTzZAIn10c5Z7x47gp4k271OuNFD3iwgAvYOH9lubenAs8cgj90qm0cN+jGz9mqPigPXLMHUQh6G3oCcbAABSx/9BC/4PUHn45qhUbtoGgF52knqykWQDAAAAQEdguggAAAAAALQMSTYAAAAAQMqQZAMAAAAApAxJNgAAAABAypBkAwAAAACkDEk2AAAAAEDKvJ/wAwAAAACAdKAnGwAAAAAgZUiyAQAAAABShiQbAAAAACBlSLIBAAAAAFKGJBsAAAAAIGVIsgEAAAAAUoYkGwAAAAAgZUiyAQAAAABShiQbAAAAACBlSLKP1CbNZmbF/0d4N0uZOb306zO6krlCz76qlx0htxmzf73gOHwHcOw/uUJXnuzrV9BeHKMyNPtOv2wHlNGexOUw8+MzkiWxwTlEmT1+cE6TQZLdwOZcpu5CcoKLwQlx8L00nblNb2pv6PYZ/TotvN+iEvUfHU7kD00lAe53UI/UEwN5rHRFIiuV6G3xdWOWBa+fuGVMLbcqLHu7R8DeX360NeGCQ5GxKawM8/WaKD7t07Mf7XM8Sou1Gi1e0i87ze5oOE4Snw8WPCc+eb7TOD6hSXJYA8vfl/5f3lDt79vUr5d0TLvjcNQ6EYehBUiyGxj9KU97f1ScYPjl4x7Rp1WqWBXZ/pcqZX/OdT7gpOHGCtVERSofTwdp4eLRBZLmqSRA7Xue6Pw8fdCv000MROVSrNL8+0WxRRHwlrZp3mz3/TxV7/iJDVd8U2SO6QoNPhrxAmLcMhPc136Yp6x+S7q0SB8eVGkhJCFvL1XJ+vvLjw904XUbG5NwaNnzRAt3cY6Oj37K/Zyl8utgVN6nyh9E8zMckQ7pTI4mz5dpzU7cvu5RVfzjbvcLbX/K0/hRNbo6EIcj14k4DC1Akt3IpXHKf9oWocXYpLVXecrf2KNtkWsrHOz2aPCsSrFl74JubQZ7GezWaH1L1O6VDSS6dk+DeS5b1urzca302Xe83oSJ86U5mj9fpb1gT5jgtKStXhj5fcX39JdbPWlN7qu/jPdZrOeJ+rvg3zTN2r57Tuxjbu130LsSLdAk5fRIwmhJBXlJVlDmeghWfKM098BUkHHLBDlaIRoHOfXS1p+bJHpUSnYOU7I5N0XVBx+oVrIr8X66XfJ7r5xrwr7G9Hl/5pUFdWz9shE81jHnQTc+5DJx3Xll0S4TmrkWT7Sfn9PK0ALdiikzTozyjiGfgxFa+CQSqzvqWO/L99zz0eicR5Z1+zyKR338a4Z9vbjb4f278uSZv1xeD9bnreujPnYF98vdTt21FfhO9fuxKXt+1XL3WrXZ2w+LdVz+s6/W3L+3YpJzTpLGZodK5Ktf/G3vV1aJbuQpu7PnrY/erVH5/AU6K57GlrWoMqs515+1DnXM9LmzvoenA3E4ep2Iw4jDzUOS3dBZumC38DnI3BinxZ/yfnL0tUKrpnUvKpiRPya93tQV0f40QZMvPLs1Ov56ispyCeNhuCmip6alOk5rd/yl9co09XpcfVa0tunRLa9AxG+nVaJx4a3zA82LUOdU4q+maO0ntb0PD4I9aUn39QNN/mH17NIeLXxUf/fml8OMEbjbz75a0NsPHPP3k7Qa0Yu/+bocM1Jh9+7w80HKWtN6+s8OEsmKKm5ZAzLYhzd+2oMbk1mazEUfd3nudvyRg9pToimnYizTKj2Xy+Q1cTFDt+zX3jUSdx5E0L+4SpPv9bLfxd890jVeXe9bsPI8uUZL3DvnlzOXOE4frRh1Q5QPWSHyqJAo2+eJ8nwuQqYCJDnnkWW9su2fx6cift6JTjobEnHYv17c7bC9R9s0LvdxhfIiNmUya85rJ5G2Yhevy+8NVdelTHDk37rxXF2bCzRo9qMufvF+LBD9rv/WO84CN6j18Q3G69BYV3et2zHpMLHZx7HIH7VVZWlyZk6ktP6obXwcNGLKLIupI5l37kKuv87HYXudAuKwWoY4nBiS7IbcoTou5PmfxMWTveD3LOxt055IvEf5Ii2K5QU/OMjpJh+5zbdJpUfuhccVYV4/Vy30eZrzhuFEhcfTHyLlacW0bOVFblrbDbbTwP6TW05PgU/sj9eSVsfEcWPFm54he12c3v+k+xrsTcmmVFAjth885g0CqBmpcJmKeE71fughVgdfK/xv3LKG+ik75PeodIZbEbn0ufvdqgh5FMSqkPm4z+uEQV4TwdfmGok5D/tPFkSjdt6/F0EkJ88fmCMWuF64sRt67Z5EHD8GIxIqtxeMY1Qyyc55eFkXW/1l0T+PPEKon7bk0qI/HUxuRz/XsqY8iv8fv1H/2u6xtWMXX1/zN/ZotSKW6+vyuZX0js6IhF4nouratP6Wj2vB6nwRsg+ee99ZHueQRC5ZQzu4bjv5OkxstshRW30uvbKk4o48HmIP93biEz4WX2bj6kjFP1fhOheHA+uUEIfVMsThpJBkJyAvRBkEVZC5wNeWdQHK1vUPPICmyKFWM6zCvdFeAI0rLMJQ1i8oTeGCr59KDbYTJHt61P7KHoaIm1m4xex9zu6ZCDqTFXsQJbive7Jlba/XDrjpC2z/0wKN6G1n5FB5WADl866f2uQw2S3ZU+X1PoV9d26E8b9xy7pSox6b4HV2iAoo5jzYZSuIy6aX9PDwdq/eF9EOIhGNnDZiT5+KHTELauacB8u6PRR92NE1ToDMutQUl7Sc/cFKt4IxmcuwlaTWXZucrEUlzFENap7r+/Oquv6dHsgAToLNKJwcUfWTnnRiMzdA9LnkuKS/u5cEyxHbZHVLXJll0XVknA7G4bB1HhnE4V6GJDsJTqi5ZfjObqFx641EC38z0LrP0rwZUjEPL2kNFJZgizoQaPhmytY02E6QfeNjTII98nHe+9wHrxV7WHlaMds2D69XpgPs764ffs+UEUwWBA7Cd4meh/7ii3v85Xn0Kuu4Zd1EVbiqBytKMPhbjdBmxZyHYKNL3nhscM/jEPfa6OHtBr1sJ403bcSucDnBLl6whpeb6VNu9Zxzgr1AF7zYmHx0rR4n2CO0XTDrUlNc0sLXl9dbGkz+OJbqOcmsrkPASk6bIX+pQ3wXmWxHzmX1y6Q3oiqkGZs5oebecnv9Krlfo03+bnLEtrHYMhtbR8bpUByOXWenIQ73OiTZiaiW4cKdBaeFJltvj6as6RUq8Q4folWFZWHJD6CbSwt+61kO1S1QyZvXxMNAdmBKqsF2WsQFym/JckE67BoZ76s1T7HTZOURmJ8Zwx9iFpX8XdHcsofoPHwTjbgGvONvT4mJW9bIIQJni+TQ+KORwI1Y4rvP8fWtrzP7WpfDjS0ME8acBzmK5M2hF0QFuPBKP9dGfxqk1aUSrQ5Zw5mg6WkjInaZEhts2HFClcwhzrls6Fs9btwTq582j+fJWmVB9rDq562wry/RAJl6pefg6phsjwRwLDV1gLo27etWlA2eCmGS0xY0mjoie5X/uCXKgD9PONXYzL3t4jt5x0DScfpOsu8WX2bj6shk2huH49bJEIclxOHEkGQnJOfTiRa400LTw072jRjcI8FDtP6Qi3+3+mjpA83v+FMz1n6ye3NEZShvujF/t0bjTfUw+eK30xrVIzai13mLtkUlnYbgvkbf/S5C4dxhf5EgKHjMxSNiuNadN8iVvAhs1jQX+dCNhf5fnlvfiW8k8XtE4pbFamKoNjVn+NdO7PPOj1tEM6oCGi3V3Gude0cT9UgFxZwH3gf5s5L6/buiMgz21InKYfBVmQYPkdwcazxt5IZ+LrjXoIgPTnTQc3/5XISUhZbPuZzDWaUp83eveQwrIVHxm33lx5UnZ1XDwbsmtmnwMD3ZNyaJ7up13fF/Hk5el4Hrf+GHD9aUBHFtOtet6l2vHwmLZ0/1yNwhWok7njLx33N6lFONzWZ+e6DHWk2hsRPvGA3KbFwd2Uj743D8OhGH9fuIw4n96x9BP4fjygx/tVTwuoVouf9Youzf1s8rdRRvn+foHc0QIlfEfEf40c8P7EY8FYF/PeKorg3oVd5Ui05OUYNDQBzuXojDYdCTfezx8Jc7zaUncQ/CULL5gO3BPXzckj/Ez461in/y6tGgd0c4uPjOd/cXAADgeEIc7laIw+HQk30M8bSKKXu+FN/MgJ4aOG54hObiAu3xf+Wzp0dp4KigJxvgkBCHYyHJBgAAAABIGaaLAAAAAACkDEk2AAAAAEDKkGQDAAAAAKQMSTYAAAAAQMqQZAMAAAAApAxJNgAAAABAyryf8Pv+/bt8AwAAAACgHU6dOqWfHX/oyQYAAAAASBmSbAAAAACAlCHJBgAAAABIGZJsAAAAAICUIckGAAAAAEgZkmwAAAAAgJQhyQYAAAAASBmSbAAAAACAlCHJBgAAAABIGZLsI7VF94fui/+PsHmfhn7VS7+9oOtD1+nFN/WyI+Q2Y/avFxyH7wAAcAwdrFyn6ysH+hXA8YMku4GtX4fqggAHhqHxF+S8ywlx8L00nb5Jf+78STdP69dp4f0eGrIeHU7kD40bKvb++4/7m/ojaZHHSifsMnmP3hZfN2ZZ8PqJW8bUcqthYG+3LUKOoWncAUDXkXVQTKyWMaSl+uiAXowHYoF4pB5LD6PdcThqnYjD0AIk2Q0M58aoVn7rBKva5xrR55f01gpwB7VdyuQvU59+3VPyy7Szs6Mevw1Q8Wo7A0nahumxt+9jROcKVNGvH4/qj6RCVD6Lu1T467HYogiHy1UqmO3+VaDde36FxxXgNJljukwDpZwXqOOWmeC+Lr5DRr8ljT6mytwuFUMS8vSM0bL5PjsVKuxOd1fFCgCOzDmi4nJIpBZxpFjWz1uSEXHOxAIVp+hetyR87Y/DketEHIYWIMluZPQajX2ukkirtS1aL4/RWL5GVe/NA3pbrtFARqXYqpchvCVqt57rC4/dkg0kujIBs1vv4rnVCx3XSr+/2WBaim10hgrndqkW0kNir9PuJZHfV3xPf7nVw9LkvvrLeJ/FelbU3wX/pmnW9t1zYh9za7+DNpeoSBN0WY8kDD9UQV46fZkmzpnrga8FosK0WTpMM3MZ2qjwNuOWCXK0QjQOLquXtr7LE0SlpWTn8ND66HI+Q7s1/5g7596+lvT5feFd8+oY+mXAPaZO2bDWE3sNSW4Pm3udRP0NwDGWn6Cx8npdTNhaLtLAnN1QP2ws5Y6MZbGtolW+YsqdjAlmWaDesZeJOsSvV4W4vzM6EIej14k4zMcOcbg5SLIbytDguQ1aNwnx5jpt5K/R49yYnxx9e0svP4/RNe45Fclcrjzh9aYui/ayuRD5AvZbzzt0rTJNG3IJ44t3mug304q9Ruv3/KX1Nmi6ck19VrS2qTTtXdjx22mVaFx46xQtbBHqpu1gXZ6m9ZzaXmWOqDhjD1Um3dcKTZStnl0Rgouf1d/9OXWYMQJ3+xmvsggc878m6GVEL/5WZSNmpEIEYXP+5fMByljTevoyAyQipdha3LIGZLAPb/ykb4uWSkQTl/1G4/SuP0Kw8xvRtDMUvUEv9TmU5/7qkHdO3WtBVG6frbKRF+fFbvBEXkN8nnL0Ml9R2xcVvqjq9PvJzh/A8XNZJIeBnlWRbBXLIhbVNdQPG0uH6Vq+Ri/f8rbiyp1Itq6+pAnTE+7EisCyJVHGSybNDizbsRJdS+fjsL1OAXEYcbhJSLIbUq1Jk1BzIR/LieKfGRTJmu5FqFWpJhLvYb7YFsXy2ZteEJDTTXh6iS4wfuuZW8zLNKafqxZ6gWa8KQ7D9JinP0Qao+WHel1Oa7vBdho4WJl2egp8Yn/M9vQxceSXvekZ3NrPOL3/Sfc12HLPON+jdRHbDx7zBgHUjFS4VIDZnZtRlcK3Gu3K9y18rfC/ccsa6qPMgDlu7SACrdcTsU7XvPn/+hwt+de0HO0Q4dyfLjVGBV1xy3MffO1dC31086FbNhxR1xA3YsUWl73kYJhu8vMmzx/AcRPsWT14+5LIxCLH4WNp5pyOVDHl7mClSBv5gn/vkDUSXLfs9E1anjPRjzuzksW3zsXhwDolxGHE4eYgyU5AXmiylSvawLsiGHBptC4k2bo2AUjY4PlrpqBwb7TXQnZbz3UGMn4BagoXfP1UarCdINFyNfsre+HXrIJs4Za09zmvByLE6YzYgyjBfa3JFre9XtUoaZfA9j8XKae3PTSUo6LYdn0A5fOun9rkEJ1owS9ZvUNh350bYfxv3LIjZ+YCVqhwbiMw7zB4PR2iorGn7cSN1NjHio9RVNlIdP4AjimRqBbyZqSVE7EBL7FKG8dlL8GNK3dWfTIk4uOGSGlNwmXXky6R+K3pud/i78LnIXcwDoetsyMQh48bJNlJcELNLcZNbsmZXl7udSV6+XZLJt5mSIdb5O5NI+LhJa2B1l2wRR0YruKbKVvTYDtB9o2PMQl27nPB+1zF64E4LBNUrIfXY94B9nfXj/obJoMNA4GD8AyJfQ/7xRf3+Mvz6AWnuGXdQFR2S4XAvMPA9WQ3NpvBgX1x0BruTDq+IoQO5QqJzh/A8TU8XaDdxRe0tVIM9LqmyExDMWUrptxl5sx0AvPwY2SwA8V9bW5i52Q7bF5vh+Jw7Do7BXH4uECSnYhqMRbvFcXF5M8HU0N19vQKlXi785ENNafNvhucb1DxQowcVivSkteC516JVpqCDbbTIg6Gfi8E3zhy2DUy3tfAfLBO4mNeTn73tj+N5YBezIjmlj105+GbaMQ14B1/e0pM3LJGWgyorZDDuLv6vOjryb6m5fBg2JSieMEGBY8AJaLLhn8PwBa94OdNnj+AY0l2AonyIWKJ39kTj29sS3wDJCedV4s08JueJx1T7kydGHbjmxwRtm+elIm7fu6InzrS3jgct06GOIw43Bwk2QmpeUt2j7Wgh1LsGzH6pv6k5QF76MQf+hp+qH6Sx7y/nrPnSotWvPy5IPN363StmRamJX47reF53fwzR2qd01QVhTQNwX2NuzOZK4Z0C3LwmIuHcyOJz59bz0QFIJ7b01zkQzcW+qaWre/EN4T4PSJxy2LJm2ubnAZ0CH1TBRk4uSIefrjjXtPcCxIx4hHH/e7iukx8VXIPV+D6k8PWyc8fwPHVRzdnRVmy5zsfSiC2XVU/aef3TMaUO/6FJPkzsNYy04kSXDYjEltvRNT+dQp1c11YT2j743D8OhGHEYeb9a9/BH7y/ft3+QYcQ2b4q4UC2T34JpQlyqyF33XefuomGFo6miFE8yssnZ0fCADQTRCHj4NTp07pZ8cferKPPR7+cqe59CTuQRjgX3A5KtxbdET/oR7+Wcg23tAEANAbEIeht6An+xjiaRXT9lw3vimhkzcTAgAAAIQ4ST3ZSLIBAAAAoCMwXQQAAAAAAFqGJBsAAAAAIGVIsgEAAAAAUoYkGwAAAAAgZUiyAQAAAABShiQbAAAAACBl3k/4AQAAAABAOtCTDQAAAACQMiTZAAAAAAApQ5INAAAAAJAyJNkAAAAAAClDkg0AAAAAkDIk2QAAAAAAKUOSDQAAAACQMiTZAAAAAAApQ5INAAAAAJAyJNlwLGzOZSgztymf7z+54j1vytdndCUzSy38JQAcC5s0m8nQ7Dv9siW8jiv07Kt+eQRkDPzxGe3r1+lI49gAnCxIsiFFHIRDklROXlMP+K7RUo1qpVH9qk3ezVLGfD+ZkIvEXj+CFY9M+vWyK0/cbx63jKnl1nG0t9t1ju6cA7RMlim/HPJDleFRWqzVaPGS/FQbqETV3XYKCTl/H6u89f/yhmp/36Z+/bo1+/TsRzu2te/Y2DGxYeOg3XE4ap2Iw9ACJNkAiYgKp1il+feLoqoRIW1pm+ZFhVPjx/t5qt7xK0ruRZqiFbWstkKDj0a8QB23zAT3tR/mKavfki4t0ocHVVoIScgBoEU3TDlUj/Yl1kF5WrG2W3s/SasXwxvcJ4KIe2s/fPCOx8rQAo1EjkS2Pw7vV8hf59M8le/o5BVxGFqAJBs6Tg5lej0Ffutbvi+Cq9/DYPfwcEtdvH5n9TJYgZj/Jq6nwktkhajtx3pXogWapNwZ9XK0pIK8dCZHk+f3aHuPX+xT5Q8RpGfM0lGae5Cl8mveStwy4cxteiMC+2JOvbT15yaJHpWS7WtXCvTgWedOnfdnstdMnQ99rp+o3kZzXt3zZl8b5vw/U9tAzw20TF978tqKjznBa7rlJJnLvUgQnfLt9Ka6MSrYAyvLxZ0y0SeRnIr3ONaZWCrJdYl1WL339r6Gx0P+biO08IlEkinel2XKPjaKvS/ufjY6dhbx/Rd/8fvcR3/KE+3shZfhDsTh/l9u++u8NC6aRD7E4eD1Un89IA67kGRDh4kA93GSPuiegpUbZZqyg++rKVr7SS378IBo4a5dUPdooUj0XP7tCuXFZ+3k2WGtx+3haLD9CJuvy5T9ORcx/PqFtj/laVz2hPHzQcrqSoD1nx3UlUbcsgZkBVKlPSug9Q4edp6i6gOrt4qm3KTk1SrR77zMVJriXH8cl599wxWwSBBGHg36PYCy989NPvYebdM4Lzv0MDmAERNz3q0RPTXXIyfJt5yEoymyfJdpTa5bJDcXV2nyvV73U6IpnbBwguP3wKqyIaeGPBWp4Pl5GdfCe+RFnHutypO7r1HxkKeGfKD580R5/o4hZUruy47aZnA/lSbitWX/SzUy1nY8DotzXL4x7ifdiMOIw01Ckg0pE0Haa+Xqx8UFUVSNfrpd8guf7LWw3VjxKgnuNch+2hYh0cjS/O/mb0dp/AZR9UtdWFSs9XBPyfyNPVqt8GcbbD/G4NmwkGEC15wKSl/3qCrft2QvqOkfccsa6qfskOml6TYNzrnsfZqn53Zv1Yyo6P+o+JXajXm6bVV68lx7PU08RFwWlb3da8Xn1CQlStacA4AkRNLnX7Nuj5wvJuZcWrRiDCdf+nlLuHyrZ/tPFkRiZ5UH7k3VcTBxo7xOnlbMPStOj2+r8XCTSo/IOjbCpTlRylep4h3HJuK1oZO4eStWBLU/Dlu9vdwwce71QRxGHG4OkmxIWWC+oWztBuYYW8OWcpgzypksiSol0tkfkqWnzPls0u179mlvRz+1yWHYW7LlL1v5LGyf97ZVoItb1tMSnPOhrF8ZMz4WTgOqkSxdCJxuPqcNK22AKM6c7DeB5CKcG3M4sdNxRE+taB3HGOsadxoAUyJ90r2nPC/451U5LaT14Xg/oZeajoeG2xvcKAFtFK/l1BPZ224lcY5OxWF1g6e8Ln5aE8clqgHWbRCHuxGSbOgsDujFC9YQY/Ke5MP48nFP9YC0tP1ApcQ4sN/lodCwytkdTuThTz+4xS07xoK9b9ybdP4CndUvG6uvvL1zCtBxnGCP0HZBxxE9taJlgbnGWWtIXz38OCOnh4j3ZLKdYKpbrEPF4+C0iUBDoQmcYMvpfbG/EHUEcVg0alZudGvPdQsQhzsOSTZ0VDCY8Ry7tni14Pc+iIpk6pWaq3eY7futdVHB3l2lSXuo1MM30RAtLJnKTw+ryiG3uGWNtF6BHTk53L1At6y5f5tLC0SRcyuD+in3c9a/y5+JynVBn1OAzuN5vVZ5/Fqh1VZ7sjnRvVP1plaom+saz+9ufeqIr/V4yNM/9tx7ZgINhcQ4PpM1va+B9sZhsc4nXpTRccaOu4jDiMPNQZINHdX/y3Oa3/GHQtece7dTdENUVHfNEKj/k0+tbp/nKu59NINqXMGKCuaiXr956F4ldxtTRE/tXqjoZbFkJR4cnu0VPPyqfibLHKuFHz74Q7sJcO8d/3yWN+fwIv90V9SwMkC7iWv66aAfA+5u02DinuzA3FnZk2zFAf61EXvd/NCxxfllhztEK+bmMjkf2v91kaTi42E/3S7wT9iJZSFTU/i/TSB/bs/sD3+PFm52k4m+Mz2GH+FTNNofh/sp+9HaF3kDqnVuEIcRh5v0r38E/RwAIvHwMM/7S5gUp4wr11v0vKmACABwvCAOQ29Bkg2QlBzWJVrpdMv9qLYLANBtEIehhyDJBgAAAABIGeZkAwAAAACkDEk2AAAAAEDKkGQDAAAAAKQMSTYAAAAAQMqQZAMAAAAApAxJNgAAAABAypBkAwAAAACkzPud7O/fv8s3AAAAAADa4dSpU/rZ8YeebAAAAACAlCHJBgAAAABIGZJsAAAAAICUIckGAAAAAEgZkmwAAAAAgJQhyQYAAAAASBmSbAAAAACAlCHJBgAAAABIGZJsAAAAAICUIcmGY2Hr1yEa+nVLPj9Yue49b8q3F3R96D618Jfg2KL7Q9fpxTf9siH+/BDd39SvxLm8vnJQ9xygZ8hYImJSU+VAc+JQs2WpSyG2HgHE4W6AJBtSxIU0JJBygB1/Qe0sosMPd2jn4bB+1Sab90Wlqb+fV4mqhwlMhkz69bJgcIpbxtRy6zja2+0SsiGjv4PzaOk8D9PjnR16PKpfAjTlgF6M29fh0ZeVreUi0VyFdnb+pJun9Zt1VFLTevKi/t4pf610LqQiZF/0IxgbD63dcThqnYjD0AIk2QCJiIp8cZcKfz0WoUgE6OUqFURA2uHHXwXavef3GHDgm6ZltWxnmQZKOS9Qxy0zwX39XIEy+i1p9DFV5nap2HJlnL6+qT/1d6hQ4RzR2G/6WKzdpD79GYD24wQ7Ry/znNDqa/C3Qap1Qc/vQCa+JBysFGk3P0ZUfttCQmSM0bL53vxod0dDJJWgqeMvvpOIYRX9Ot2krf1xOHKdiMPQAiTZ0HFu69vvGZDv/7pl9TDYQ13cUyJeb1q9DFavDf9NXE+Fl8gKUduPtblERZqgy7pXavihCvLS6cs0ca5G1Rq/OKC3ZaLCtFk6TDNzGdqo8Fbilgmnb9KfIkA+vqxe2vouTxCVlrqqF6WhmnWurJ4VdZ5f6N5HPv763CZIjJxzV3f+X6jetDaPmkC3ydDEZSulGL2pe4/5unLLN18ndqLlX4fmurF6xRtcR3Z88eOI+vtpUc437sWtQ8WCiekZEVVe0tvUGwV2z7Jbtpz9ji2X0eWtZbI3OGx90fvr6EAcjl4n4rCBOJwckmzoMBHgPk94vRzL+Q2atoNteZrWc2pZZY6oOGMX1BoVF0n33CzTmPisnTw7rPW4PRwNth9hq7JBmfzliN4BEYQ/j9E12WPDzwcoYw0R92UGiHZrYstxyxqQwX63K3rokgmcq89FWrLPVfkl0RIvsyq0RkQFnStb546mnYZVrVSla7wMvTgnSB9dzos4cdVNphPzrsMKFUT6lhuadl5PR/RacpIxvev31u78RjQtk4o+urnGcUX3KkZdi9/eitSak0W9/8tppm2c6IvvYXo1/xJpvHd8tmjd68EN+Y52uQyUt8P3kotYW7mm96lAmXLRi8nR++vqfBy21ykgDiMONwlJNqRMBFLTwjWPq0VR1A1RCT30C99wbkw/0/LL3vAi9xpkPletv81QYcn87TBdE5XTbi28ErTXwz3EhXyNXr7lzzbYfozw4V9VQezOzagg9a1Gu/J9S2ZQTf+IW9ZQH2UGRMD3D0aXa3Cu8oWYuaphxHFe3KCxWffc1T5bV4c5B3CiyCFzTnJlvGky2fauQ052RUkMvLavL98WLZXIur6F0RmRsCbvkZZztnWyKONceb25/fa48VYmO7K3t0AzoYnhMD32kmX9nW12ueTY5MTfwxqjZbNtu4c4dn/rdS4OB9YpIQ4jDjcHSTakLDBHkB/ca6GXSvaQ4b0N/WaI0xka0E/DZM7Vh8UozmeTbt9zQLW6qCzIOdSq5+vPKR1ywva5piuquGXHXDPnKo4cgrfPXZJRADj+Rh+rWCOT7WRD3ofj9oQ2l3xt0XrZmuIiOwE2aD1qVC6WG2+9OPSZe+VNWclRUSRBZt/sof5cKWaHefpaq42Xhvh46acsZn99HYzDYes8BhCHOw9JNnQWJ7iLg9Ywa/Ke5MPglrbsAWlp+4EKgXEQnuFhuLBfD3B7YQ64ZhjI6JZ/3DKIl6HCX/q8mQeGJMEmb04jPWrVTsGeVk4AMzSYJIfZXKcNkdIVr/qJipzDvZjiHNa8mRLiP3hkjxPs3OeC915lrsEO242Xds6xjdhfV4ficOw6AXG4OUiyoaOCSSXPsWsLb76fIBLr6bKaV3eY7fvDbAf0YuYlTdjDxR6+icaeY6mHluVNNnHLGmmiEj+W9NxVZ44+wBbdd+6p4JvaTJ+kKC/nrB5iGQf080PhYXeRJNvXYuCGvGh6uN3MP/YePF82pRsgR69F3q/CnQ1+b6Z9rBpIfeqIJWZ/w7Q3DsetkyEOIw43B0k2dFTf1DIVdqe9Hpx1alNPdn6CaMYMZ/k/+dTq9t15ZzWqiud2T5R86Mre3Qbf0OP3iMQti8U3SgVu1jlpeO7t8oA9rNyG3+CFHiMSpnNF73rgqQb8c35qiL+Pbs6O+UPblWvyhsQ08O/yO9cij44l6c2T5di6kc6jE/dUboAcpsfyZm+9b/zQvdDDD9XP1an3p6k6EJMt2tPqrorE0/xsnvULLemI3t+g9sfh+HUiDiMON+tf/wj85Pv37/INAAhzoO6AXzqaIUT5awa0fKzmBwJAr+E4uESZtSZ+jSJViMPHwalTp/Sz4w892QCJcK/YQOs/FXYYm/cpVxqgAgI7ABwl7skduHZECTZDHIbegp5sAAAAAOgI9GQDAAAAAEDLkGQDAAAAAKQMSTYAAAAAQMqQZAMAAAAApAxJNgAAAABAypBkAwAAAACkDEk2AAAAAEDKvN/JBgAAAACAdKAnGwAAAAAgZUiyAQAAAABShiQbAAAAACBlSLIBAAAAAFKGJBsAAAAAIGVIsgEAAAAAUoYkGwAAAAAgZUiyAQAAAABShiQbAAAAACBlvZNkf31GVzJX6NlX/boDNucylJnblM/3n1zxnp9k8jj8+Iz2+YU8J7OEowKdxNfglSfyCgQAgCOAOJxMe5NsmYSJRNU8DpOknrlNb2pv6PYZ/TpFMpn29tNP5EdLNaqVRtWLY8RvPGzSrH1++NHgHPX/8oZqf9+mfv06VGjyrbY1+06/lPbp2Y/B946G3aCK9G5WHCP9vQLXdvA72NdUMBDFLWNquXX87O0eAXt/+dEN5wvgWAnWlaYjI84hOjlkZ0kz29Kx2vsb/TiSWIA4LB+Iw72hfUk2X/wXV2nyvUhUa+qx8sNegsLcWXzhTtGKt4+195NEe3rhcSTOy8LOPH3wGg95WjHfnR9pNCrO5GjyfJnW7CDwdY+q4p/yaztEfaHtT3kav6RfHqHR0gea31mIGSkRlUyxSvPvF4mP0ObSNs1718w8Ve/4jTOuwPxraoUGH414ATFumakw1n6Yp6x+S7q0SB8eVGmh470GqmHklI/aB7rwOkmlDABJyIQ3UFfWCttUalcSJeLMrUeDXtxfGVpIuK2siH/WPor4RXdEwtfREV7EYfVAHO4V7e3JPj9JOavnefQXvwfUaZXFTD/gwiBbmfYy81y2LNU64lqps+/4Io1ugeZ/shLLM7fptk76eB11Ldy4fWS6gKptW5/Tf/eMA6rcJ7P+Z35vcrB32Q5eznrtVix/XgSWd9bymKC3ubRA9HOu6Z5o8x3538ZBtZ9yP2ep+sU/dvuVVaIbecruWA2td2tUPn+BzsoX1vcOfofAsTOjDXJfrNeG/z4//O9h9t2/Nuy/430mWliK+G7vSrRA/vU8WlJBXpKNij3alo2zfar8QTQ/Y5aO0tyDrG5cxC0T5GhNjRZz6qWtPycaf49Kzjlpt825Kao++BBoePXT7VJEOY653hudM/f8B5bZ176IFV/021HXaePrE6BLiGtYJbyBUVqR0C1a9ZAqF+r6l/GT676LC7RHZZoS75v6x/5sXd1l8+KujXurg+UyzigtigQ1/8runIiJ4yxQljdFeW1Yd9oQhzXE4V7RviSbL3hRHEZCD/QmrXmtsg80Lz53iwtaXQ+oKgyTubCUUASX1+NqHaIFS49ueRcEn2C71Tf+ekp8OtzoT3kqW63fhmL3UVygdo/EU6IpExSlMq3Sc7nMBNC9R9s0LveTg9WUuIDXnNdey7uyba2X99m+qPdooUj0POTvXOK4v8pGHE9LU+chXP/ZQdr7o6K/u/77mTlxTaxSRR/rzddlysqEn4O7DiTyO9TE2ZsKVBL+sfvwQCTDFzN0y3591xxnsa2Pk/TBrOeGuE7sa1Acm7Wf1DL371QAdRoBFn9fw9g98vx8kLJWhcnHguR645Y1IM9JlfaSXqeH1vhakeWMR0X0sY673hudMz7/9FSv5724Si6a6ztQpn4Xf/dIDzVFXKd+5QnQ3bjzYe/GuJ8o1omoK0USzvVeVo9EvvlFRNFAvcfvhRJJ5POfV2lEJ0wcD0191LxRGr+xR6sVLsmN4nhMWQ4uq1nJswVxuB7icHdrY0+2aGn9rQqZbPk4ybZoAXutMtXraT/3ekC/VsTF4faG+0RwMeuQJ9m0YDep9Mg9waMlkXjq53VksOKLKaTlFip6H/efLFD5xrzfI3FpnPKftkWRNvI0Hwh82QdzOphwsKp/bbbT/8uiu179VMnS/O+mVev+XT03uMjGimmdiodKzps5DxHkd9cJtff3/ZQd8gPy3o4OHrJ3Yp6eW8dmdEY0nLwknfnHTibDwdfecXZb+NyIctxY8SoU9++EM1kadM6Xa/Csv38+U7Ho86anxTiyF9SwY9yyhtSxU9d4pwSvFZsuZ951J1yaE2fRb0QlPmf6/M+Zit6qyOrKFCcID1qJFwDdKftDfZ+yL6qurJc4UXw3SyNcdt+LpP28qAGKJsmqTz6TOPuD3qcGcTy+LJ+lC14dHg9x2IY43O3aO11EkDcPipaPTLat1pUcTtCJ3YjXmlUn3RRKntowWLAunkh84eunUpOBQg8PmWQ7vBfYF7uPsjfaJK3cg55Wq1e0JJ31RvOCXlBYcBEFzp6TbSegzZ8Hm+rhkMFob5v2hrLy7znp3fsoijQXRDug6+WeBglvLGsaUeZOzJHibein8bhBoJ/a5DDZLaLfrV6jsHXy9+d/45Z1pUbXbrCcHaIC+rTg9axlMiO08MlfT1wSYl+nckpSo6lQAF1GxsMYUXVlHZ4zbHqonZ5Mm6hH7pCenqI6wuTfiM9vikTKS1Kb8OXjnp/4Nojj0WWZ90XP8Rb7H14HIw6HQxzuZm1Psg15Y5luXXHQGPk47yV2H7wWkcCtJ/k5HiZp9aa4wEUZmlyG4GSbp2I4N+eFiNnHrDVUph5p/CIKJ9gLdMEbSovpmY8TFlyipHAe5FQccSx5iM+b98493K/WaJODmj1MGuyB4XMWOm+wAU6wixesobOWjlRAsBEncGC/y1N0ws6ve/3tfxFXn1f5xC3rJvYwcJRg8FejExeSdQm5btg39aiHN6UqkIRwpe4RZXZ+iK/T5qc0ARw1Tk6yHA/166DYujKE/PUn/hwnzmFTNZ37YBT+G775cerRoNfDmZiIgwt2/dAgjseWZRFzFuX35GQ7bFQZcTgc4nA3a1+SLZIdpzUqey7VUz45fquIT4pd0HjogWh1aY2qsXPVoqiL0r6BjXti7S349unZnNvi54SwsfB9lK05a254amQjwWqtcqDUT5sXLJBRDnseBB6CezVFU06SzuenTFN3Aom3aEHLuYZaohs0QwSDZbLzqTVI7P0pOOK6ubtKk/YQnYdvoiHr+rOnL8Uta+QQgbNFcqj30UhgbrwpM7qcWXPagzclJSYbXuH3EagkxLqxSlbq+rk2+tOguE5LtDpkDWcC9AJOTjgeBm/00/VnfF0ZLXLqiI61zq+JeGXKnlebACe4Fxdo8KmeP90gjicpy0r81BHEYYY43Cval2RfmqMLRTPsIB5y0rxqbfIcaf7JHLXsFm2LpMgmk9VXZRq0f/WjCern2PxpG2s/RfX89tPtn7at4RH9MznOXbzhQvdR9oQPyhsLzPpSucNWrPf5g6oIxHqdr3mSRytUgXSDlzsn2x5mPOx5UHO6xL+BJF1NZ3ETb75L3b8mMrTww4foG3di9P/y3D33TRwpeRNSRG+GN81F4rmLIrDZ55kf+ly7+8A3kvi9LHHLYgWn13QCX8+B88LllWZUpcZTwbgHzCs/PILQ6DfUQ4nzL39+y2xDPMx1GCxTd0VlGOzNE5XD4GGuU4AjxOWIfxrOicOvx2UPYmxd6SXo6pdE7GklGZ4SEloWQ8raRf0zeN77UfcmBWKe/jvT0ynXHRfHY8uyPR1yhFZ//mCt14c4bL4n4nCv+Nc/gn5+fHGLm4eUWrrwjhkciwj79OxHntcXFWwbLW8vrkD5jvBWGh7HH1fQ/Ks84b9IAADdiX96rrlfN0Ec7l6Iw2E6Nif76PCQUmtTD44l7v3gVm8aPezHyObcCC3EDnP10+0Ct+QDw7qdIH8NoIX5kicE3/neyg1bAHCERFxzpxImgTjcrRCHwx3LnmxuHU/Z84V4Mn+CKSAA0EP0nNC98/MtDo8CQMeY8qpfEvF/QfJoeqQhRYjDsU7GdBEAAAAAgA46AdNFAAAAAAA6C0k2AAAAAEDKkGQDAAAAAKQMSTYAAAAAQMqQZAMAAAAApAxJNgAAAABAyryf8Pv+/bt8AwAAAACgHU6dOqWfHX/oyQYAAAAASBmSbAAAAACAlCHJBgAAAABIGZJsAAAAAICUIckGAAAAAEgZkmwAAAAAgJQhyQYAAAAASBmSbAAAAACAlCHJBgAAAABIWe8k2d9e0PWh6/Tim37dAVu/DtHQr1vy+cHKde/5SSaPw/gLOuAX8pzcJxwVAIAwW3S/w/UWAHSP9ibZMgkTiap5HCZJPX2T/tz5k26e1q9TJJNpbz/9gDj8cId2Hg6rF8eI33jgCsD+7ub9aH1Tf9LO2k3q069DhSbfalv3N/VL6YBejAffOxp2gyrS5n1xjPT3Clzbwe9gX1PXV2STxBO3jKnl1vGzt9sWzV8HAN3OLmd2XG+rtnU8cBlNZ718XMLijqJishMLxKMbYrQHcRh6SPuSbL74r76kib9EorqjHsvnaqoHtItwQZqmZW8fd/6aIKrphceROC/F3QJVvMbDGC2b786PNBoVpy/TxLkNWrcD3rca7Yp/Nip20KhR9fMYXRvVL4/Q8MMKFXaLMRWxqHwWd6nw12PiI7S1XKWCd80UaPeeX4lzb79/TS3TQCnnBf+4ZabCWD9XoIx+Sxp9TJW5XSpGVoxpsK8DPhbT3VWxAjThxMX1VGVEnDOxgB/LRPe6JeFDHIbe0t6e7HMTdNnqeR6e8ntA7VZk3PQDLgyylWkvM89ly1KtI66Ven8zvhdgLGcllqdv0k2d9PE66lq4cfvIdAFV27Y+p//uhfis2iez/hd+61UGMas1awc1Z712i50/LwLLprU8JhhuLReJ8peb7ok235H/bRxs++hyPkO7Nf/YHbx9KbY7Rpldq6G1uU4b5wZ1IAu04uu+u3/sTK+U3BfrteG/zw//e5h9968N++94n4mKyxHfbXOJiuRfz8MPVZCXZKNCNBhkJX5Ab8tEhWmzdJhm5jK6cRG3TJCjNTv0+LJ6aeu7LJKE0pJzTtqn/vw55TXmum7PuWFuD5tfLu3rJvg3cJJFxfVgrDHXUn2858/516hdBtzPaVwfXS2KXH6DpoOfqVnx2dR3WsP1NuCUTWfdwbKhytC0iEE1kVQm75UdpsciER0r+50QUeXYqzsi6+ZDlmPEYe/YIQ73hvYl2XzBi+KQC03Itmjda0WK1pr43DSfrLoeUFUYJi6HpYQikFWuqXWIFiyVpr0TyxeK3YtxrTItPh1uODdGG1brt6HYfRQXmt17/xvRtBP0Nuil3q/HOuDXSlW6JveTg9i0uEDXnddey/tt1Vov77MdIGtUXCTdAnb/ziWOezkTcTwtTZ2HcH2ZAaqV3+rvrv9+ekZcEy/prT7WW5UNysiEnwvuNO3OVdT3E49lcQbd4Owfu8qcSIav+j1V8vWMOc5iW58nqGLWkxfXiX0NimOznlPL3L9TAdRpBFj8fQ1j98jz8wHKWI1LPhYiUor1xi1rQJ6TXap1JHht0VLJP9+yPPHohz6mcdd1e84NXx85epk318eyuI7M+9NEv+n9+ktcXVftcgEnVWxcF417/5rx6w7+Gz9mCdwJkL8mkzi3TqnQRNnq+TRGH8v1ZXRv5J9TJloE4vPnIi2ZuJ5kvbEi6tJg2ZBTLfvo5hqXO6KMjLVWgtrQMF3L1+jlW7Xu2HIcWTcfvhwjDiMO95o29mTrAi1Os2zdOIVQtIy9aQmqtWY/91pu396Ki8btDfeJQGbWIS98UXBkC1ZdmH4rVWztoQhs+nkdGRj5okjaAovex4OVogjKBX/e+Og1EVCrokgbY1TwAq+SmZvRgY6DWP1rs52+qcfuevVTJUOFJTNK4P5dPTe4yIDotUBND3kz5yGC/O46ofb+vo8yA36gru3qhF/2ThRo2To2w9MiONsVnnXsZDIcfO0dZ3HdPfRHTLjidOSXvQaO+3fC6QwNOOfLNZDx98+nAsyuOW96Wowjo3vr45Y1pI6dusbbwb4OuKFn7n/Q5cm7voTRGXG2/MZS28+NvH7s62OYbvJzfd3M6L/pbAUIXS0urotl5jpT14x+HojXnNCp3vBgnVLfwxgvKj4fdr0sui5VeWMz64qXOeevO7Yci/IfWjenVI4RhzXE4Z7Q3ukigrx5kFtLnGxbrS5ulZnELlfyr1g+qSa54qkNA7PWRRVJBRRfMJFsQA8PmaDcqCchdh9FK9B8r6Eh7kFP62Kzh2Oie+aZHwwDwoILB0TZKlUPu3A1fx5squdDBqOaKKQDGfn3srfos3iTC6zdm6CXexokvLGsocqhezFHirehn8bjBoF+apNDdKIFv2T1WoWtk78//xu37MiZ66BChXMbgXmHwfJ0iIqmlXNjXT91PhcpZ9Y3lKOiuLbaVwFCT4mM65yQ2deMflvGLD2CJ8o237viJQ6ilHLPoLl2uc6ScawFbnw+/Hqj6lK+z4R7xvn9VqahBPF+eQlu0nIsY4V+euhyjDiMONx72p5kG/LGMt3q4qCQ+1zwErvKnBV0uBUkP8dTG1q9KS6Q2IYmlyE4KPNUDOfmvBAx+6iG4dT3Uo80fhGFE+wiDXo3o8T0zMcJCy5RUjgPnFDzsfR7hATuLSqv0xYXWD0UKwWH6vicefO1m8DBY3HQGlJr6UgFBBtxAgf2GR4CDju/7vV3wDWDF5zilnWDPrq5VAjMOww2FNUoxGCzJ+cw5yZqKDdvhsr9h9dLCcCcuK6GvKuz5nrhZEZ9jJmYpe4hsacluJ0R8pHGTeKHXG9sXcpleY3fb2UaSgA3Okw9cGTlGHEYcbj3tC/JFifSKdSy51I95Rax35rn+bp2k4eHvIheLq/Trp2EJaZ6UO0b2LgnNrxRJQLur/acJvFZkRA2Fr6PsvfXmhueGtlIsFqxPFdQP21esKBGOex5EHgIrjxN006SrnqLpkXr2Um8RUtYzSVUEt2gGSIYLJOdT61BYu8PvYrrZuYlTdhDdx6+iYas688eEo5b1kiLAbUVIilZntvV8/R0ebLmrgdvPkqq5XNTd31s0Qt+LhtsuPseguLieo2qn61yZNVLku4EWBLv+feg6JjlTHlMw+HXG1+XGio5bXnqCCeyV4s08Juaw33U5RhxWEMc7gntS7JHZ2hw0QwfiIe8IVC1NnmONP9kjlo2TVVxwm1qqsIGDdh3hzdB/RybP21jPRfV8ytai7mqNcyhbxRI0JMQuo+yx2TAGf5z56K3yBQ2s84K93+0QhVUdxjHngMmHtaUnsOeBzU3S/wbSNJVpeAm3nz3un9NDFHxXMW6cSi5vqll99w3caS49ypqOMyb5iJxRe0O88qHPtfuPvANIX4vS9yyWMHpNW3WN1WQgZOHmXnK1/KANRzIvSCNfis9ROvnJnh9iJghh63F+/Jnu/R+8cO5EQhOpri4Lq4ZO0bPVGnA6snm5Zz4buy6yUuwTom8f0fE6gInzuIzSaZoJF6vVB+rM5F1KffY+5/l72/iqbzfJfbXRQKx7ar6mTxvKuERlmPEYcThXvOvfwR+8v37d/nGsWSGlFq4II8dHIsIXCnxvL6oYNtoeXvJO8utihIA4ORBHD4OTp06pZ8dfx2bk310eEiptakHxxL3tHBrOI0e9mNk69ccFQesX4ap00c3Z7kH7Ah+mmjzPuVKA96d4gAAJxPiMPSWY9mTzT+kzj+47+FJ+ancpAIAAAAArTpJPdknY7oIAAAAABw5TBcBAAAAAICWIckGAAAAAEgZkmwAAAAAgJQhyQYAAAAASBmSbAAAAACAlCHJBgAAAABImfcTfgAAAAAAkA70ZAMAAAAApAxJNgAAAABAypBkAwAAAACkDEk2AAAAAEDKkGQDAAAAAKQMSTYAAAAAQMqQZAMAAAAApAxJNgAAAABAypBkAwAAAACkDEk2nFj7T65QZm5Tv4JeweftypN9/QoAesbXZ3Qlc4WefdWvoWchDieDJPvY2aTZTIYyzuOog9o+PfsxQ7Pv9MsmyWQ4he+zOZc5XFB4Nyu2PSuOsCArC3+fgt+Nt2WWBbcZt4yp5Xo7zN7uEbD3lx+tnkcA6A5tSZBknHJjRebHZyL6W87cpje1N3T7jH4dJONqg1iHOCwfiMO9AUn2sZSnlVqNaubxfpJWLx4ywTxi2Qcf/O8TF6TbRjQUilWaf79Io+LV5tI2zXvHd56qd/zEnyuwKVrR+7pCg49GvIAYt8xUGGs/zFNWvyVdWqQPD6q00PHzpxps/v7y4wNdeB2oOAEA2A07VtTow8+rNJJqJw/isHogDvcKJNknAfceiABEj0p+KzzQA+Al4Py+3fsQbL3za55iIf9evG/1XoQn8RwgRmjhE1H5jvictW63Zd5aDwEHy7B1yPfnnske9EzmFhXEv1OviPZEMA1uy96PyN6BdyVaoEnK6eR+tKSCvHQmR5Pn92h7j1/sU+UPovkZs3SU5h5kqfyatxi3TJC9PDVazKmXtv7cpHv+OmBzboqq3Lgped9U6Kfbpdvi/5XIc6ivj2fe+VGVn3++ghWvPQITWGZfq+L6+aLf9q5B/ZKp897JowRwDNhlTDya7fWN0v/LG5GYEi0s6TLplFku86KsP1F1yJX/3KbMxQXaozJNRW0HcVhDHO4VSLJPChmAyrQmk0hRkEQwG3zqt4on/9Atef4crVJFF659UZKy56u0p19vvi5T/idT2EUwfD2u1iGT+FuBAstGaVGsf/48UZ6397cKDFwIp3bm6YPcvng8JZqyk/tERLD8OOmtY+WG2B+7YL9aJfqdlz2n4t+83PSIW4H51RSt/aT+/gMH2mL4PvD3zv6c84Ka6wttf8rT+CXzfJCyVk97/9lBop09sd64ZQ3I8+efh/bbpLVXWZrMhX9j1vgclsWV9FwfW1HRXszQLfv1XfNZnk40RWSuRznyYlXEF1dp8r1e9rv4u0eyFg1c0yxYeQJAYzH1gSDLudeL6i5LghPT7Ks1XZ6D9mjho6pD3vzPZ7IeyeqR2De/1McexOF6iMPdDUn2idFP2SH1bP/JApVvrNCiDEZMtIoLed2S58/t0WqFi50qLJM/k/d6b8cEMSaCoWldy4JmehEa2aTSI1EIf/db4nRpjuat5D5I9UD7rWgVFNzW/OhPef1MuzHfeFqJdRxkZfBpW4TgcINnwwKdCkzVB3Mqcf+6R1X5viV7QQ07xi1rSJ2XZMc3LW5F5EpyDvM0rytKeWyDr82xlr1T8zRnriurIlPXqnUez9ym56IxpPRT7ucsVb/o6uRrRWzd7+UCgMbi6wNdzr2EKVDmkjiTFZEkSrbpZAxx2IY43O2QZJ8YnCBn6YIuF9kfzqonBgcZ3ZLnZHXvoyh2XFiGxum2KIhkXtMFCvyl5ifxyQQDR3zwcuZk695wyZqukrlT1m+2KLIy4GOnn9rkMNkt2Vvu9bqErWNvm+TXilvWlRr12DR3DmN9WqARcx7l9CJ/PXXXqoUrCfqjIq/b/coqUWQvFwBEiasPZG/zRVM2MzTyaE/VD0lxUns+qt5oBuJwOMThboYk+6QIzGWrC5IcZIayqmBcGqc8D++J9wZ5aggHJf06vcITDBxuIyARTrCLF6xhskBPdmpCGhAc2O8SPQ+9CdP9bvtfqkTm2MYu6yajNH7DjGhESeEcGoEbpvhhetaC1+qXj1btceY2zQ9xr40edYkZVgUAxSlDQmx9wCOWgbLpzg+Ot7m0kFK9gTgcDnG4myHJPgk4Gb1T9YaU5BDRqylrXh3fsW3PtT5LF85XaaFY1QWVC7p6nU7hUYHDnwsmBBoBSQQDI8/Xayd/iFQcr7urNGkP0Xn4Jhryb/RxhlvjljVyiMDZotEZnmc/ErgBSXz3OT5v6ZxDSTbq7OvRp67VBX+uv6hUF17p59roT4O0ulSi1aEE04MATjx3nm98fcDlPHCvSxP4hjyeL/zc9DCnAHGYIQ73CiTZx5K6O9sM76neXqulz3dPy5878oeFtgt+i5V7DHI/i5arVVC5AO0FbhZJTs/xs35dZLRUo5Uha2iK99GeBhLgzMkWDw4E/b88p/mdKe+9NYrvyTbBqpVfMvGm0Eh844w7hCofuiJy94tvJPGPfdyyWDxVp+Xj3yK+TvTPW/nf8xbRjDpPzZ7DaKO06FyP4mHm3fM+PB30j/VdURl6cwE1UTkMviqrURcAiCASM/lrSzx3+Xni+mC09MGJs/W/SGERSZr/uQwt/PDBnd7XCPeIclIv/jbs10UQh833RBzuFf/6R9DPASASV1A87y9hME4Z30HOd4SH3XEP/LNTazRu/2oMABxDiMPdC3E4DJJsgKTktBuilU4HkaPabo9AxQdwgiAOdyXE4XBIsgGgN/FNT/wfrzg/3+LwKAAAHAricCwk2QAAAAAAKcONjwAAAAAAKUOSDQAAAACQMiTZAAAAAAApQ5INAAAAAJAyJNkAAAAAAClDkg0AAAAAkDLvJ/y+f/8u3wAAAAAAaIdTp07pZ8cferIBAAAAAFKGJBsAAAAAIGVIsgEAAAAAUoYkGwAAAAAgZUiyAQAAAABShiQbAAAAACBlSLIBAAAAAFKGJBsAAAAAIGVIsgEAAAAAUoYkG06sg5XrNPTrln4FAJCCzftdGVe2fh06uv369oKuD90nRFs4aZBkHztbdH9IBFPncZ1efNOLj8QBvRgfovub+mWTZDKcwvfhSub6yoF+1QKuPE1FISsNf5+C301WaHpZcJtxy5hablVI9naPlDqPZt/lY/yFeLd1hz4ncGxxuY8qH63GkmQOF6/iqFgWHb9k2T9kmYoy/HCHdh4O61dpC6t31CP149juOBy1TsRhaAGS7GNpjJZ3REA1j78m6OXV3i5EmbmK/312/qSbp/WCjhGBbXGXCn89Jq6mtparVPCOb4F27/kVJ1ek07Ss93WZBko5L1DHLTPBff1cgTL6LWn0MVXmdqnYFecvI46B/t78WLtJfXoJADSWOUdUXA5J1UT5L5b1854zTI9NTPhtjEjEsIp+/XhUfyQV7Y/DB2/JX6f4Lhv3dGKNOAwtQJJ9Epy+SX+KAESlJb8VHmitewk4v2+3ioOtd37NQ47y78X7cnlgHQ7u4chR8TOJYOW2uO2ehFZ7CFTPUP065Pu/vtAt/v9B8+LfaVGB1UQwDW7L3g8v4Q3aXKIiTdBlndwPP1RBXjp9mSbO1aha4xcH9FZspzBtlg7TzFyGNiq8xbhlAp8nETAfX1YvbX2XJ9zz12Xiz8OWdYxNJah6Y+rOSeC6tM+Hsw37GtTLmdkenBRuD6ofg/j9+nJuJ1nh12WyeOXGOnsf3G2Gyk/QWHm97nNby0UamHMb2PY27X2J3n8lbF/5PXu/nfLk/D1/H/F60yqLaZUpq75w12kfQ/e7ODoQh/umbvrrHL1GosngQRwObIPPIeJwLCTZJ4UMQBu0LguLCGhXRUD/zbSEKzRR1i15/hy9pLc6yB2IgJU5t0s1/XqrskFjOROCNmi6ck2tQybx0yHBkXs4KlQ4RzTG29Mtbi6E07t+b8fOb0TTTQ95iWD5ecJbx3Je7I9dsMsviZZ42f+ihTVebnrErcBcnqb1nPr7CgfaxfB94O+dyV+O6C0Qgf3zGF2TPTb8fIAyVk97X2aAaLcm1hu3rAF5/vzz0F0anQf7GBMVZ/gY99HNkHNy8LZKE6aHxu5FEpVzruxvQw57O9c0C1aecOxtrhOZOBYZgyKEXpcx8crr+bTipfiLF+PT/j7sXKP1exu8IMZlkdQFekRFolIsixjiNLC3aN3aZkGkl9P234Tuf3Bfd+jPqZCoxeWpNOCPeMrRTjtRqlFxkfTyZdEomHYSrda49UWmXLQSPesY1u2Lr+NxWFxfG/lrfn2BOIw43CQk2SdGH3EcYQcrRRE4lq1hPFHQZkVBki15/lyNXr6V4VoWlglRAM3r2q4JYmyMls0cP1nQRPCSvQiNbNFSSRTCJWuIa3RGVCJ+ch+kWtm69ewl42K/H/rrGM7ZfQ5CvtB4Wol1HLiXIvO5KkJwuIFMWGhXFcTu3IwKxN9qtCvft2QGVe9U3LKG1HlJdnzbSVS+V/V5MD0ZDc9D8mPcN/XYP2d2LxIfp7q/66PL+YyoG3XV+O2tuIL8Xi7ofU651w/udfOMPvbjmIxB+nkSia9LHa+8pMG67mTPaoFmvJgoknSeLtFAsEf04O1LIhNDPGJd3hxqtU1HxP43briLmLW4IRoRdi/wTSqIpMxPlDJWfB6ma6IO8MpZyyLqi+AxbJDItj8OW73q3CjwzgFDHEYcbg6S7BODE+QMDepIkjkXCNhceHRg5sJZ+yyKEReWgWt0kysE85rsYGTzk/hk3J4E9ffRwcuZk23PP7OHHxv2IDVwOiP2KgwfO/3UJofJpmVvuddbFLaOmg5Kcct6RmAuoKmAkp6HyGNs2MPG0+StiafS8GiHfN/v5ZLJSvmtvG5lohLZywW9yL0XQz24183HyZW5XtQ0j5Y0vC7dpCZXqqkYyQYyzV9zTlLLSfwAFUJ6nO2hed5mJHv/ee5w/iXl+O8iRwf9usDgOiEqka6rLw4tUF98Lqr9lQ8+j2F1QafisDW/PLcu9idm+sqRQRzuFUiyT4rAXDavgjA4yJjKgluuPGdQvDfAU0O4QOrX6RWeYE+F2whIhAPK4qA/dJWgB6k1IQ0IDuwzPJwadhOm+90OuGbwKuK4ZT0qtfPAgb1Ig17lsezMh+TkQa3fmlrEycoAj4DoUZfLCO0nByfYOarOmutFTfNoj8DN5PwwiU2g11iW6QSGpwu0u/iCtlaKfg+shRPs3OeCtz2ezpZU39Sf6m842banDHjqk1iuE8J7iTsg709vMQ9vhMJzBHFYxJzlfDf0XCeAONyVkGSfBFz47u16w39yqMiZY6eHD7251iLZPbdLxcVdnfTycKF6nU7h4fXVvDmEUqARkEQwMPJ8vXbye3nE8Zp5SRP2dBcP30Rj/3qAPdQct6yRFhohHZLaeZDDuNYIB8+H1E8dgSHL4dwAvVxeopcDCaYHwTEikp/PVpngkTavJ5tjmDX9QcRAZ5pJUzheBea3Gtwh8blIS14s5TKdMCPjaRE8z1rEgLC4ykmv34PMyUvzmV741BE1vO/Ns2UiWZVzwusS2w6QnTrJ53y3Nw6Lda5Y51keFzvuIg57EIcTQZJ9LIkKwRvqEQ/ZurVa+jzkI3/uyHxG9Qb5PQcchLkKs+7iFgWoFrhZJDk959u6W59/s3V5wBoi5H2M+Rmi4NxMDsh9U8tU2J323lt329t1uOeI7Duom+BNoZG4cg/MieOHroTd/eIbevxjH7cslkwgWj3+7dXsebA550Rcl8tzu/61W+H+Q40biub9q6Ji1T/hJYlKeqC8oUZd4ATh+c8DfjmcqdKA15NtxRx5LV0LTDOJExavKs417k8hEPvgxNJ1upa4B1FtJ+rekeGH6qfl1HqnqSoSqCTsKSZD94iWQ+Iq93Tzz9F5Ze0q/xSeVaZi8C9UHP4mSFvwGIpHxDSX9sfhPpE4WudZxhorRiMOe+tHHE7mX/8I/OT79+/yDQAIw0PTPO8vYVKcMvOLAaG/FHDi8fCmSG4SJgkA0CqOg0uUWTuqsoY43L2Sx+FTp07pZ8cferIBEuFeJ+41a74X/NA21c9thd0YBVzxhc9pBYCU6Zvhj66sIQ53K8ThcOjJBoDexDc9XS1Sjf/rcjFTjQAAoE1aiMMnqScbSTYAAAAAdASmiwAAAAAAQMuQZAMAAAAApAxJNgAAAABAypBkAwAAAACkDEk2AAAAAEDKkGQDAAAAAKTM+wk/AAAAAABIB3qyAQAAAABShiQbAAAAACBlSLIBAAAAAFKGJBsAAAAAIGVIsgEAAAAAUoYkGwAAAAAgZUiyAQAAAABShiQbAAAAACBlSLIBAAAAAFKGJBtOrP0nVygzt6lfAQBAW319RlcyV+jZV/0a4JhDkn3sbNJsJkMZ53HUQW2fnv2Yodl3+mWTZDKcwvfZnMvQlSf7+lUL3s2Kbc+KIyzIysLfp+B3422ZZcFtxi1jarneDrO32xYh1wwaHwDHFsfUQ8XCMDJOBeLIj89E9LecuU1vam/o9hn9OkjG1QaxDnEYegiS7GMpTyu1GtXM4/0krV48ZIJ5xLIPPvjfJy5It41oKBSrNP9+kUbFq82lbZr3ju88Ve/4iT9XYFO0ovd1hQYfjXjBP26ZqTDWfpinrH5LurRIHx5UaaGt58++Zj7Q/M5Uy40iADihbpjYph4ffl6lkVQ7eRCHobcgyT4JuPdABCB6VPJb4YEeAC8B5/ft3odg651fc+ta/r143+q9CE/iuXU+QgufiMp3xOesdds9Ca32EHCwDFuHfH/umexBz2RuUUH8O/WKaE8E0+C27P2IDGjvSrRAk5TTyf1oSQV56UyOJs/v0fYev9inyh9E8zNm6SjNPchS+TVvMW6ZIHt5arSYUy9t/blJ9/y1VT/lfs5S9Yt/PiPPlb4OnnnnQVVy/nlxK9j487VpbSdYMavREPO3/rVm9/6kWZkDnCBR9YFml/9mOmv6f3kjElOihSVd0k29IV9w2RVl9omqQ6785zZlLi7QHpVpKmo7iMPeeUAc7g1Isk8KGYDKtCaTSFEgRDAbfOq3mCf/0C15/hytUkUXkv0vRNnzVdrTrzdflyn/kwlOIhi+HlfrkEn8rZDCNUqL3CI/L9rovL2/b4vQoQrz1M48fZDbF4+nRFPBocWGRLD8OOmtY+WG2B97eO3VKtHvvOw5Ff/m5aZH3ArMr6Zo7Sf19x840BbD94G/d/bnnNz3el9o+1Oexi+Z54OUtXra+88OEu3sifXGLWtAnj//PLTXJpUeEU3m1LdtfK7K4op5ro+hqFAvZuiW/fqu+Wyj82WfC/fvnv04Qqs/m9GMFXGNmveniMx1LEdsrIoHABKIqQ8EWf69Xl93WRKcmGZfrUWUyz1a+KjqkDf/85msR7K6N/fNL/XRFnEYcbjXIMk+MfopO6Se7T9ZoPKNFVqUwYj10+1CXrfk+XN7tFrhYqVa/JM/k/d6b8cEMSaCYUmnq04vQiMqeMz/rhJu6dIczVvJfZDqgdYtZS+wiP0u+esY/Smvn2k35htPK7GOg6wMPm2LEBxu8GxYaFcBpvpgTiXuX/eoKt+3ZC+oYce4ZQ2p85Ls+LZC9R6pY7xG496UnCTnKk/zukKUxzD42jumjc5XxLn4WhFbm6fnXqU7Srf5uezVmqc5cz12tAIEOB7i6wNd/r1e3/re1YbOZEmksBGy1rqTQRzWEId7ApLsE4MT5Cxd0JEk+8NZ9cTgIKNb8lzo9j6KYsWFamicbouCRuY1XaDAX2p+Ep+M25Og/j46eDlzsnVvuGRNV8ncKes3WxRZGfCx009tcojuluwt93pdwtaxt03ya8UtO3JmLiCPOpQD8w6bO1exkp4v+1jxMRrK+ufc9mmBRsz65LSkdlaAAMdTXH0ge5svmjKWoZFHe6p+SIqT2vNR9UYzEIcRh3sPkuyTIjCXrS5I2gXo0jjleXhPvDfIU0O4oOnXFDlU16xgS9dtBCTCgaJ4wRo+C7TIUxPSgODAfpfoeehNmO532/9SJfKCU9yybtBPt38PzN9P41yxw5yvqKHcG+6NVvzwe+QAIMyXj24GFFsfeImf9TAjmAlsLi2kVG8gDiMO9x4k2ScBF6o7VW+oSQ4BvbLvWt6nZ0V7rvVZunC+SgvFqi7AozR+Q70288MOh9e3Z831EgKNgCSCgZHn67WTP0QqjtfdVZq0h+48fBMN+Tf6OMOtccsaaTGgtuLMbXr+oKrn6aVzrljL54sbfZ8W6JZ1k80zfi4bg7j7HqA5m7T2KuvF8vj6gMt/YM5uE/gGOp5H7E8xODzEYQ1xuCcgyT6W7Hld4iFbrVZLX//aSJV/7UMP72wX7JYnz7sj2rMK8OhPg7QXuFkkOT3Hz/p1kdFSjVaGrCEm3kd7GkiAMydbPLhA9//yXP7EkXlvjeJb5KMz3DNQ/+siSXhTaCS+ccYdQpUPXRG5+8U3hPjHPm5ZLJ6q0/Lxb17/L/MycPLd482eqyjNni8f3zyrfmbLHLdtOS9TvO9cx+LR9M2zACcFz1tW5af64Hni+mC0pH5Kzitjcb8eIWKG/7kMLfzwwZ3e14jYl3lO6sXfhv26COIw4nCv+dc/gn4OAJG4guJ5fwmDccr4znK+UzzsjnsAgJMBcRh6C5JsgKTktBuiFfsnADvhqLYLANBtEIehhyDJBgAAAABIGeZkAwAAAACkDEk2AAAAAEDKkGQDAAAAAKQMSTYAAAAAQMqQZAMAAAAApAxJNgAAAABAypBkAwAAAACkzPud7O/fv8s3AAAAAADa4dSpU/rZ8YeebAAAAACAlCHJBgAAAABIGZJsAAAAAICUIckGAAAAAEgZkmwAAAAAgJQhyQYAAAAASBmSbAAAAACAlCHJBgAAAABIGZJsAAAAAICUIcmGVG39OkRDv27pV13g2wu6PnSfumiPII48X9fpxTf9GuCYO1i5TkPjL+hAv47D8fX6SpJPdsIW3UdZPZ4Qh1ODJPtEOaAX4yIJjgzoHDQPF8SHH+7QzsNh/aoT1D4PhTzub+qPpGXzvlivTthlEIrelmxs6GXB4xm3jKnlVsPA3m6Xk/ueMGGQ+LvZnz99k/7c+ZNuntavAXoBX8dO54KOSwk6HPqm/qSdtZvUp1+3TsV3PxbxPiSNG7pu0HHJfnQmqW+i7kEcbghxuHsgyT5xMuJ/RVoKSUAPVoq0oZ/3jmF6vCMSe378NkZ0rkAV/frxqP5IKkQltLhLhb8eiy2KILZcpYLZ7l8F2r3nt/q5Z2qaltWynWUaKOW84B+3zFQY6+I7ZPRb0uhjqsztUrEjld0hiP0v7o7RGL2kt+gBgROLE9Zp2p2rdLjD4TD66OaaH88yohQv6/j259Th0/9GuO7ZzYv4XX7bIDFEHG4IcbirIMk+gSZEMNuoBNvjW7RUGqDCnBNWZDAyrX2vV0YGIWsoyWrhcwva6RWQy/Tfe70Abu+z/3l+X6x30+qdSGvqib0fYT1O8hEzPLa5JJomE3RZt+yHH6ogL52+TBPnalSt8YsDelsmKkybpcM0I46pOt5xywTZeyAaB5fVS1vf5Qmi0pI+ft3p4O1LovwMzeSJXr6tr4ica2n8Bf0//PqeaNZ9LlJOvCcrOXltWb1FusIzf2dfW3J94lz6PVIx5w+gQ7Z+zdHLfMVJTlVc3LJ6i/1r3FzHHvuaF+VkSyx3e1pr1nrMNc9xLEfFz0Qb99TfBUtgaCxPJCpe1/PLYvznXCouTkzPiAjbIDFEHG4Icbi7IMk+iS7PUGG36BQE2Yudv0ZOXBGJaa484fUML4u2vyxcIggtzxEVl1XAerG4QWO/WcHO4MT2Hnk9IpW5Qf3+OtFv6j3ufaDStLUvNSoumr9ZprHytN/D0LINmq5c87aXKZvvrnqc/H0RIf6qFVgsW5UNyuQvRwzpisD+eYyuyZ5zfj5AGWuYrS8zQLRbE1uLW9aArEB2qda1wUtXlJf7QisiDsTOtSQqgP+Lh8mt0Yf6kQdRuV8t0oA5PzsVmihbPU5MXB/rObW8wtfkTBNDpAAp40SDe0jDen9rpSLRkrn+RUwKTXT5mn9JE3/pa35JXNMlmTV63PWIeCnjMI/oVahwjkQsFsvk9BN+T8flQCxvqoc9Nl77uIz7vcMhZTXKt7citebEuY8ui7igvk84xOFGEIe7DZLsEykYzIIte6aT51l/ruBwboxqn1XA75taVon6yhIVB5ZDp2ZwQLST776pm+r56GP/8zJo6edShgpLZpvDdE3s527tsMV1jJZNpWL3dshekQLNOPsSHUAHMmGh3QwNz6jv9q1Gu/J9S2ZQDTvGLWuojzIDer+7kd3DJI/jBq17QVhfX955FWdWXAvhFaVPNfzsa6uPbs4GRmGs5VypZD5XRRUKcAREojFdtmJNQGZu2ZvjyrE0LKlT13zBnwsrOzTcCJFkPXU4zrRaNmLjtcEjoXYdwnVMJlHs3loWjQadOMsyXF53EsMgxOEYiMNdB0n2CdU3VaAxE8y4YA5Ygd0ihx7NMBEPKXkBnQvaABVFYA2vVA6otpuhwdDIxQHRrFcNcUbJnEsW+pLjIKmfMj1E5u9LWADl76Kf2uQQ2rTsVfJ6rk5nyF69VNMBJ25Zj3N7mIJBuL7nKKm688+VYVRSEXZ8ATpFJBo8Z3c6ZKpGnZikrqmYlzQ55CkQvxFNyzgXPloXLWm8rlHxqvncEOVKNa9TJtoWrZczsudVEvtZyNuJoQ1xuBHE4e6DJPvE4nlofBPHlrqRxOnFNjJUMMOW5uHdBc893bs0lheVSuT8vvCE9cV4jqqzZp1qiPPIiIrR+X7i4bfYjUBizjiwz/C0lrA7sN3e8AOuGQYy+rjFLetVXFGKs13KeRWsbJB503JYa0OsdZU0V4Y9f7zguOJfClkeEA33JIl2hOA13zhRTWj0sYpxnGwn3r9m4rV/s6T3aDQtZXOdNgLJ+bSIJRuLYfuHOBwPcbgbIck+wdScrWnnRhKfnlISMbfqYEX83UCBHj/kHnF3freihgs37tk3+LwQz7k1bfVw83y8mJ7sthq91tScb3/oU1Q8My9pwhp283HjxZ6KYw+jxi1rJG5k4GiZ4USnchUPni+qbrzhaT+iIrWupS1xLYRdVzY1dGyfH27YbdBYLsnxAjga/DOmMtFu6uZCRV3zVjwVSWRRJE6p4l7IxMP5SeM1l/GoeeZRdHn25vqaxzKNfY6+ARJxOBzicHdCkn2SyaE5cuZd27xeGdMqFg9Z0PgmmtKAniYyTI9/G6BiyA2D/Pdy+FT/bU5UFhnv83qdM1UaSNiTzTcVJU2IkxH7In/2yf9+YXflM3s+uqp43N4X+dAVjJqvPq3f5xsr/V6WuGWxZOXW2lBfe/E8v1powJXHTN944yUe+lhNi4pbXnOjM1QQzTzvrnYbD3E750f1qNWPNAB0l+GHFVXOm+3RltM67Pgokr/AnOxoenpA2K+L2L+uJG+sDLlRPVTyeO19Z7Md8ysT3NscdhxkTDM3Ktp0MuglwT7E4SiIw93qX/8I/OT79+/yDYDuJFrP40uUWUtaOaSNt8/z/hIG45SZO/c78Zu1ANA9uHOBf7mhZ5MakeBfr82kFLsQh4+DU6dO6WfHH3qyoTdwD8LAtSNKsJm+0TPiJ/7aSo8cFBDYAU4WUfb5F0vqe3t7x1Zl17+x8dAQh6G3oCcbAACgG/DUiqtFa74033x+NL22AO1yknqykWQDAAAAQEdguggAAAAAALQMSTYAAAAAQMqQZAMAAAAApAxJNgAAAABAypBkAwAAAACkDEk2AAAAAEDKvJ/wAwAAAACAdKAnGwAAAAAgZUiyAQAAAABShiQbAAAAACBlSLIBAAAAAFKGJBsAAAAAIGVIsgEAAAAAUoYkGwAAAAAgZUiyAQAAAABShiQbAAAAACBlSLIhVZtzGcrMbepXXeDrM7qSmaUu2iM4pP0nV+jKk339CqC38fWc+fEZJbmiOb52z7W/SbOZK/Tsq34JJwricDJIsk+UfXr2o0iCIwM6B83DBfHRUo1qpVH9qhPUPmdCHrPv9EfS8m5WrFcn7DJ5j96WbGzoZcHjGbeMqeVWw8De7hGw95cfqR9XgF7HZdTpXNBxKUGHQ/8vb6j2923q169bp+K7Xz55H5LGDV03WOXcPDqTSDVR9yAOywficG9Akn3iZMX/FqgUUkD3nyxQWT/vHaO0WBOJPT+e5onOz9MH/Xrxkv5IKkQlVKzS/PtFsUUR8Ja2ad5s9/08Ve/4PTrcwp+iFbWstkKDj0a8gBi3zFQYaz/Mi3NkubRIHx5UaaEjlZ1NVXz+/vLjA114nazXDeBk4oR1iqoPPnS4w+Ew+un237qMi3iWpTyt6DL/5pfDp/+NcN1TvSHi9x+VBrEFcVg9EId7BZLsE2jy5zyVXwfb45tUejRI8w+csCKDkdd6Nr0yMghZw4RWC59b206vgFxmWt+mF0D38uiH/3l+X6z3ndU7kdbUE3s/wnqc5CNm6PNdSTRNJil3Rr0cLakgL53J0eT5Pdre4xf7VPmDaH7GLB2lOXFM1fGOWyacuU1vRABdzKmXtv7cJNGjkj5+nbE5F5YoiMq45Pe6ub0rVi+PvEZm6Zl3/ahj619PwWMdcx7s3qofn9EX/bbZhn1M5PrTumYAWrA5N0KrP39wklMVFzet3mL/uq27ZgPX+6ZY7va0frHWY8oKl58RWvhEVL6j/i6YgIXG8kSi4nU9Ox7Efc6l4uLkzJyIsKtUiYrBDHFYQxzuFUiyT6LcHM3vLDgFSPZi3xgnJ66IxHTkj0mvZ3hFtKVl4BRB6PkDooUlLkTcs1Cm/FMr2Bmc2N4hr0fkw4ML+v01oqe6Rf5+XgStW9a+7NFCkei5/JsVyr+aSmFYrExTr8e97WVfme+uepz8fREh/qIbLIzN12XK/pzzgprrC21/ytO47Dnn54OU1ZUA6z87SLSzJ7YWt6wBWYFUac8JiO20SWuvsjSZi+7F4kA6teOPHNSeEk05lXtZVJnP5bIPfL1czNAt+/Vd89m48yCC/sVVmnyvl/0u/u6RrEX1MSnTmnd9BCtPgM7iZId7HMN6f/ceLRD9rq7jlRsiJoUmITHXu+auR8RLGYd5RO8DzZ8nEYvFMjn9hN/TcTkQy5vqYY+N1z4ZD7ze1g80+YfVOxzna0XECU6c+yn3s6lXwiEO10Mc7m5Isk+kYDALKxQ6eS74reXRn/K091G1X/t/ea4S9SclWhhaCZ2awQHRTr77f7mtnl9a9D8vC6h+LmVp/nezzVEav0FU/dIw9DWQpxVTqcjt6d4O2SsyT3POvkQH0MGzYYFOBabqgzn13b7uUVW+b8leUMOOccsa6qfskOml6RS3InLxyIe4ZrxzJVwSjTenJypP8zrZ4B4gHoJ2Xn/aFtWdEHMeVONvnm6b/ZANPHPE+DrO+teHV1mrlwAd9WqKpl5ZsSYg++C5dx1zLA1L6uKvdyXJeupwnDHlrVmx8drQ8cCrQwJlM8bmkmg06MRZxoVXazqxC4c4bEMc7nZIsk+o/l/mKW+CGReuIasAWeTQoxkiulO2Ano/3S4MitYsRVQq+7S3k6ULoZGLA6JZrxrijHL2h2ShLzkOkvop+7RAI+b7yX0JC6D8XfRTmxwmuyV7lbyeqzNZERID9rZJrjJuWVdq1GMTDP6HqIBizkP2h7PqSQiuJMw8zv3KqldZA3TcjRXiObtuL2KEmKQu7nqvkzQ55CkQ3MMpy1f4aF20pPF6T/aSqs9laOTRntcpEy3QUyv2c/6G3StqQxwOhzjczZBkn1g8D41v4thUN5KEDu1kad4MD5mHdxc893RXKX9DVCqRc6/CE9ZnP47QdsGsUw1xHhlRMTrfTzzqe+UDiTnjwH6Xp7W8CWmcuEFx/0uVaCirj1vcsm7Cowh7tFqJSxeCwT+uYdVAzHkIVtRfPloXFVfKQ9xro0Zj4oZVAdqNfylkZUgkKkkS7Qix1/thXFpUZatuOkGcZuK1f7Ok92g0LeXdGpUDyfnUK6JyMWz/EIfDIQ53MyTZJ5hsfT6acm4k8ekpJd58Ldf+k1uy93uxxD3i7vxuRQ0hle/4vSb7T56J5zwfzgoAPLQU05PdVpfGm5rz7Q99iorn7ipN2kN0Hm682FNx7GHUuGWNHCJwtmh0hudfjgRuYBLffY6vCRX8nesjcFNSYjHnQQ5n2teXqFQXRCVsG/1pkFaXSrQaMRoD0En8M6Yy0W7hxq8k1/uhNTV1JGm85ngQNc88CnfU8JRCN6mT9+J8ir4BEnGYIQ73CiTZJ5kcmiNn3rXN65Xxho/0b3PyTTSPBvU0kVFafDpICyE3DPLfy+FT/bcjooV71vu8XufdbRpM2JPNNxUlTYiTEfsif/bJ/35RvyFuz0dXFY/b+yIfuoJR89Wn9Pt8I4nfyxK3LJas3OLm5rUBDzHrn7fyv+ctohl1vXjJhFlWvEAfWvq935jzwPvgXC+iMgzMUeXKYfBVmQZ/SlJJArTfaOmDKufN9mgnud4j8RS+fPivi9i/riRvYAu5UT1U8njtfWezHfPrFNzbHHYcZEwzNyradOLoJcE+xGHzPRGHe8W//hH0c4AuJlruP5Yo+3fSyiFtvH2e95cwGKeM7yDnO8I78Zu1vYd/dmqNxs0vKQAcI9y5sPZT2DS2HiES/Ctf5lKKXYjD3QtxOAx6sqE3cA/C0PgRFl59o2fET/y1lR45MHeEg0v+hyzMrwoAHCei7PMvltT39vaOzdfVFOfoIg53K8ThcOjJBoDexMPQFxdoj/8rn6n8Z6kBjpi5pvVLdfP50fTaAiSCOBwLSTYAAAAAQMowXQQAAAAAIGVIsgEAAAAAUoYkGwAAAAAgZUiyAQAAAABShiQbAAAAACBlSLIBAAAAAFLm/YTf9+/f5RsAAAAAAO1w6tQp/ez4Q082AAAAAEDKkGQDAAAAAKQMSTYAAAAAQMqQZAMAAAAApAxJNgAAAABAypBkAwAAAACkDEk2AAAAAEDKkGQDAAAAAKQMSTYAAAAAQMqQZENX2fp1iIZ+3dKvoDdt0f2h6/Tim37ZEH9+iO5v6lfiGri+clD3HKD93GuxNc1e/+k7WLlOQ+MvKN2Sk8axgc5BHO4GSLKhAVXwgomvDOL8vnlEBfTN+3J5VGBW67kvtqIMP9yhnYfD+lXr2hIU5HfR+/rtBV23vn/w+/H2zbLgfsQtY2q5f0yc7XaJuvNvHi1V7MP0eGeHHo/qlwDtpuOS/VBluN3Xoo6nziOFhJy/j1X2+qb+pJ21m9SnX7fmgF6M27GtfcfGjokNY0i743DUOhGHoQVIsiGSKsDrNDiX0e+4MnMV2hGFUj7iAvq5DO0uhhX6LVoq1fTzbicqnMVdKvz1WIQisefLVSqY7/5XgXbv+RUlH7dpWtbHZpkGSjkvUMctM8F9/VyBnCM++pgqc7tUTLvRcAiyEpffoUKFc0Rjv+ljceiKHaBD8qYcqkfnkosxWra2u/PXBL282oZOgV4h4t76Ob8uWR4oUi5yNLP9cfjgLfnr/G2MNu7pxBpxGFqAJBsiqQL8mC7r17ba5xoNZBIW44EJEtUIvQ301hysFGl3riCqHB/3LpjKRj3fkr0pqoVu9SJwQuq01rnXhQOs6n2ZLot9FIHT/hvVaNDrsoO403MR0VOxuURF8S0un1Yvhx+qIC+dvkwT52pUle2FA3ortl2YNkuHaUY0UjYqvNa4ZcLpm/SnCJCPQw543+UJotJS+L51q5p1XK1zJc/Dry/0eeXjnXxYM+ocqmvlheolbKkXB4DZ16J+vmldx07y5/ZKt5wkc7kXCaJTvmNiUrAHVpaJextEn0VyKt7jZFGVMf1Xcl1iHVbvvb2vTpnytsXfLUfFzySSTPG+LFP15dTeF3c/Gx07i/j+j6f8umQ4J2qE3Vp4Ge5AHO6buumvc/SaUz8hDiuIw8khyYaWyeArC5pbCdTL0M3ZASou25/iXmyiicvhveRGrVQkWlKt8+X8Bk1HBWpPH91c48+annYdhEUFkytPUEW2+sVymtYVjQgsV1/SxF+6B8B8PmCrskGZ/OWI3gER2D+P0TXZE8bPByijKwHWlxnQlUbcsgZkBbJLtQQBsDvUqLhIusdumcZEArBkeuxZ+aU+r+HHO1TkOVRqpSpd42XoxYHUBK7j8rQ/8rS5TmR6DmWSPJ0oQQkly/cGrct1B2LSb0TTOmHh5Mbvgd2hP0VyKjtDfhOp4LmCLBvhPfIidlauheyrSDg/W2XKi7E8dcDqHQ0pU3JfdtU2g/upxBy7GAe13chY2/E4LM7xRv6aH6MQhxGHm4QkG1oi507rQsZDaG5wDcE9AuWiXwnJ4FWgm1agC5OZW/Y+E9vDEYuHGDdobNYv9Lwu7o3nBsCg1/sRL7znnnvOp2l3bkYFqW812pXvWzKDYitC3LKG+igzkGw/u0OGCkvmeA/TNdHo2a1ZZy7BuXfFnUMlY84BQBIi6fN64yJ78GKu49HHfkIrky/9vCVcvtUzHuFzYiPHzs9VkS410SivM0bL5l4Xp8e3j24+dMtUMqqTxD82wugMFZwRywYxIAwncKUBKlg920Htj8Pco6uvC26YOPcIIQ4jDjcHSTYcWt/UciC4huEhOaKXb7mAc0HdtYbrEkqckIbze97Fg4dXZWXFPd/LRHpZeE/LAdXqorIgh2GnZU8A9yhJpzOk60pfTVWQscuOucy5w5w5X/g5BGiBMyf7z0TJhnsdc2Jnrkc1taJ1HGNEg9+s3mkATNOGSAtl7ynPC86/lNNCWh+O9xN6yZpGIstUYm5vcKMEtFEMkFNPZG97VK9qp+KwugFQXhe5dXFckk2h6AWIw52HJBtSIAJrggqmb6pAAzyfjefVDTTbgj4s0aL3poTohzecZYIqJ9thATVQKTEO7DM8DBdWObvDiTz8SQMZva24ZRAv7hwCdBIn2DmqzpprUU2taFlgrrFzU7l8+HHG3Owmk+2G0+ca4AR7cdCa8pG0J5sFp00EGgpN4AR7PSe2H/vLUkcQh0WjZjnfSz3XnYA43Awk2dCCLbpvBXc5vHnOryCi8XDVBk2Llu9Y7pADStwb8dnvPT9YmY7pSeqjy3mi4kyjnp/4qSP+MJuoYGde0oQ9VOpRPfb+/HM9rCp77eOWNdJ6BXY8JD2HAJ3AHQtWefz2ll622pPNie69XW9YX91c13h+d+tTR3zB5JLnPCfDsbzmlsdAQyEx8f15nnnSX3dpbxwW61zx6zZO4otlO+4iDiMONwdJNrTGGs6UN0EkbMkOTxcoc65AMwkDajQdKK+qfZimgtOTxNsh69dFuPdH/jSUGeISDzU1xJp/N5Sjl/lKaLB3551xBSsqGL1t76EbHnL6zK45PtNEv9m9UNHLYslKPDg8e7JEn0OAThumx78N+DFgpkoDiXuyN2jauoZVT7IVB/jXRux180PHFudXHe4RLZu4K+dD+78ukpQbj4Zo3f0tDbo5yz9hJ5aFTE3h+3Kc8sjfo4UeTZnoO9Nj+BE+RaP9cbiPMp+tfZE3oFrnBnEYcbhJ//pH4Cffv3+XbwBAGB4e5nl/CZPilJlfFfDmHAIAnDiIw8fBqVOn9LPjDz3ZAIlwrw73LjX6ucI2SHDHPQDA8Yc4DL0FPdkAAAAA0BHoyQYAAAAAgJYhyQYAAAAASBmSbAAAAACAlCHJBgAAAABIGZJsAAAAAICUIckGAAAAAEgZkmwAAAAAgJR5v5MNAAAAAADpQE82AAAAAEDKkGQDAAAAAKQMSTYAAAAAQMqQZAMAAAAApAxJNgAAAABAypBkAwAAAACkDEk2AAAAAEDKkGQDAAAAAKQMSTYAAAAAQMqQZEMbbNJs5go9+6pftsn+kyuUmdvUr+Ck4PN+5cm+fgUAts25TOpxkdd5qDL39RldycyKmgGOC8ThZJBkH1NRBYCD5ew7/SItJyWAvpuljPme8juLykw/gsdUVnR6WfA8xC1jarl1PO3tHgF7f/mR+vUDACG4s6L55Ha0VKNaaVS/6hS1r3acaFu8QByWD8Th3oAkGyCRfXpWrNL8+0Xi6mtzaZvma6Iy48f7eare8XvuuYEzRStqWW2FBh+NeAExbpmpMNZ+mKesfku6tEgfHlRpocnK9vBUxenvLz8+0IXXz8TRAIB22n+yQNUbeaI/Kj1Q3kZp0cSIp2Kfz8/TB/168ZL+SCoQh9UDcbhXIMk+4TjYeK1jZ4jR7ZnwW/r8vghkT7hVL97/z23KXFygPSrTlPM5Yc/qZfjRDwhym3PP6NmPvMz0DNjbc6eaOPsY1ZOgA6O7nyHrk5+bFfuv1ikDq9MbErH+dyVaoEnKnVEvR0sqyEtncjR5fo+29/jFPlX+IJqfMUtHae5Blsqvea1xy4Qzt+mNCKCLOfXS1p+bJHpUCt+3Ntmcm6Lqgw+BXrF+ul26Lf5fcXtXrGMXOM7mHPjn0j3HceffOT/iOvqi3zbbsI+JurY6eZQA2kHFismZORF1VqlSV1ZEGXlnlQvrmucyaeKgG2tV+dkX/3Nf+5zyHFiWCtkbrNcfWd8EY4MFcVhDHO4VSLJPMhHwRv6Y9HocVkRb2UtS360RPdWt5vfzIrDcsgrcHi18HJfL3vzPZ3J5lvK0wq9/McVefKZI9Nyse2iBRuxC92qV6HdexkGSg/6UtT1RrVw0hVYExI/WPt4QyXxd4RWBQST6g+Lv1fbj1sfKotp6LpctXuK/XaXJ9/qzcn/qbb4uU/bnnBfUXF9o+1OexmWPDT8fpKyuBFj/2UGinT2xV3HLGpAVSJX2oiqf1G3S2qssTebCvzHjQDq14/dY1Z4STTkVs3+cPzwgWriYoVv267vms3HnK3B+fhd/90jWovqYlGnN9ECJ9biVJ0CP+loRZYeTyX7K/Syu+aVgzLPj6wrlX035PbFBXqz9QPMiRR3J3HJe37I6Jta83tLgsjSI2P1a1Ruyzni1oOuURvHahzhcD3G4uyHJPsb2Ho3oFqn/mHqlF3KBKpYpX/Bbw6M/5Wnvo26fXlr0h/lkIdLPpWyCAiQ+87u17hkOqmt+4LwxT7dNkJO9E/M052zPBDK3xc776NqTgYFb+t7+xq6P5WneawycpQte70e8wbNhgU4FpuqDOZWcf92jqnzfkr2ghh3jljXUT9mhZPuZHrcicm1S6ZEIpNY5pktz4qjbvW7+ceYeIG6IOa8/bYvqTog5XzxkXravlTO36fkDc8Q4AclS9YuuTrzERL0E6FWbSwtEOpmUZcWOnZIdX0dp/Ab55SDIKz+qvARfezFfrGfR6y3Vn01VnlbM+mUZ1/GsYbx2IQ7bEIe7HZLsYyzLQ0zc6rQeKyIY28p3rCT8TtlqzXPQMstGaOGTfLN1Z7IiVMT4xD0s9vasQGYPMfI+2l4tyMDw3Euatbj1OUQS//cKkT4O4b1B+7S3o5/a5DCZ6hXyevDDvufetmgKCHHLulJ0RacEg/8hKqCY85X94ax6EoIrCTNndb+y6iUmAL0r0HspEpr5G3ZPYb2zP6STEPvTCDI0Ynoq24JjhX7KEsVrxOFwiMPdDEn2iZaleW+ahH78zS1iTrBHaLtg3v9A805Pdgu49+D8BYospjfsmzrUQ/ZMc4JdvGANhQV6ssXf1U1FYVHrC2Vu2uFkO2w+YKBCYBzY7/Jw7Ru/de9xg+L+lyrRUFYHnbhl3YR7x/ZotRLROyYFgz9Xglm60Ep9H3O+/J425ctHq/bgBGSIe23UEGXcsCpAT3i3RmWR8vGwvkl4eQSyXGzDHGkLJ9gjH+e98vfB66nsgETxGnE4HOJwN0OSfWLxEI89H8vGc9asQsrDP033ZItKwptHKJL2u/7wZ51L45FzCoPBj+fkBY2WRCNgZ8q/0SJmffHip474w7H8fVZp0h6i8/BNNPYcSj2cJ6fXxC1r5BCBs0U8xYcejbg3s/J3n+NrRgV/5/qRw40tDBPGnC81VG7mbgqiUl3wpjwpoz8N0upSiVaHrOFMgJ4kyhdP4zPzYr3HCuU/BW+ATBcnTX5vJSdLrXSFtqDJeI04zBCHewWS7BOs/5c3qhfYGx4y0yVGafHpoN+TcnebBuN6svVwpvvrIlma/2FNr3eEFoZWrJsig8T25M8v+fth7mzv/+W5SqD1+2sUnJPN1JQPDhDq76LXV8++m3qEVn+25nZbnPnqshHi9jTJh07y3X3mG0n8Xpa4ZbFkQydubl4biPP6Rv+8lf89bxHNqEqNf4/XuX54xEGOhDQr5nzxPjjXoqgMgz1sonIYfFWmwZ+SVJIAXUyWc3Pznk0nU15imL7Rkl3Wb9H2UHgmyb9k0XwHRpzk8Rpx2HxPxOFe8a9/BP0cACLt07Mfed5fwmCcMh7K5TvCoxsqJxk3lNZoPOKXYQAgLRwHS5T9+6jKGuJw90IcDoOebIBE+ul2gVvy4T8t1Vb8U4uPBq1fRAGb/I92mF8VAID24Z7cofEjLGuIw90KcTgcerIBoDfxTU/8H0Li/7pcS8OjAABwKIjDsZBkAwAAAACkDNNFAAAAAABShiQbAAAAACBlSLIBAAAAAFKGJBsAAAAAIGVIsgEAAAAAUoYkGwAAAAAgZd5P+H3//l2+AQAAAADQDqdOndLPjj/0ZAMAAAAApAxJNgAAAABAypBkAwAAAACkDEk2AAAAAEDKkGQDAAAAAKQMSTYAAAAAQMqQZAMAAAAApAxJNgAAAABAypBkAwAAAACkDEk2tMEW3R+6Ti++6ZdtcrBynYZ+3dKvoFfJ8zj+gg70a+hOW78O0fWVFM7Stxd0fei+iBKMY8UQ3d+UL46F1I5TYna8bS32djyWOtcAdAPE4fZAkn1McYEJC/RcAaReoZ2UgLl5n4bM95TfeUi8Vo/gMeXjbJYFz0PcMqaWW8fT3m7PUMmT+Z5x+9839SftrN2kPv0ajpZ9ffKjvQnwMD3e2aHHo/plFC5vLSYAMnnokfKj9tU+/ml1VgTLo/9ox/nla8iJbWnWEe2Ow1HrRByGFiDJBkjkgF4s7lLhr8ciLRCha7lKBZEc7PDjrwLt3vMrQ64op2lZLdtZpoFSzgvUcctMcF8/V6CMfksafUyVuV0qhiTkXUlWRtNEv+njI4/RIK33yv6fWKpC9q9PflRosNLLvVtbtFQaoLH8Bq23IZlsh8xcxTr+f9LN03rBoajGjFznb2NEIsZU9OuGDZyu0v44fPCW/HWKY7VxTyemiMPQAiTZJ5zTc+IMF7otYL+lz++LQLbCBVi8///5HzR0tUg12qBp53NCzeoRsHqh5DZ/fUEvxnmZaVnb23N7b5x9jGqJ6wTV3c+Q9ekelRd6nTKwOj0XEevfXKIiTdBlXeENP1RBXjp9mSbO1aha4xcH9LYsgvS0WTpMM3MZ2qjwWuOWCadv0p8iED6+rF7a+i5PEJWWwvetq4jjfo8rwUDlLb7b4ynuIwlcP+J8qetBf7PA+THnzr8G3Gsj7rqB5mz9Ok27nOA99K5soY9uPrR7t2q63NYfb6cH3CrvqlfzhTpPdb3R+nrw1pPsfMb1UDo212kjf40e50SyZMqZpvZry/o+gbJvxwWx31viGrS3lWgfwmILJz9N9srz9e9sg9fb5DqSsL+T1/g358gqs8yNy+ZciSRYHM9pEedqInGV35m/b1Qd4UlYjjsQh/umbvrrHL1GokniQRxGHG4WkuyTTAS/XHnC69FYFm17LwCKyslrAf9VEIFl2io4NSp+viaX/fn//V9yeUaEomV+LQuw/swiyffkugeKlLOT+PJLoiVexkGSA7PV4v5rgl5eNRWeCIifrX3Mi0BdN3dQFHARxAfE36vtx62PbdBL3YvxeJT/9iVNiGAkPyv3p95WZYMy+csRQ2kisH8eo2symPHzAcpYvU99mQGi3ZrYq7hlDcgKZJdq3R68OKk551eC4azrx7tebP75qcwRFa/6vavy9YxJLhqdZ0hui9bLGZq4HH6FG7VSUZdbLoviPC6boy3+3usZrFBBpELTVjJVK1XpGi+LHY6OOZ/cANV/yxW93dsefg0pXG7HcqJEc7JULtZV/u73sWNLIC4sieuuJLM3yd2HCk2UrREpT7LY0jXK07SeU/ta4aRz0U7iA2WW647SgBff/XMlGmVrfCxNj7z4zqOPxfKwOsJIXo47Hod1I807b4jD/mvE4USQZB9jqifBtC7Vg3sYFFEwFkUFNOtXesO5Map91hWJCIxeC1gGFv1cyli9AFHEZ5asdU+LIFte9wtevuAPg8reiQLNONszgcztSeN9dHHPmuqB8/Y3dn1sjApeUMnQoNf7EW8gExaIVIDZnZtRgfhbjXbl+5bMoNiKELesoT7KDCTbzyM3kPHOV7hG149/frjniCtn5/XnqjjrQsPzDM1xE48wmbllr9zKsuglJsP02OsB76PLefeqzpjyESfh+UzcMP32goplk3QN0zXRKHj51v2rqO9zsFIUyZUVo0SSvywST4WnoNg9oer77taCexQRWzjpjGlsuHG7g8lKftmLoU45k+wyq+uO3+xe5JtUaHVKTpPluP1x2OqVrYgkNDCygzgcuD4Qh2MhyT7G3Ll96sE9DLaNeyaYi8e9Davy4qBlluVEi1e+2brTGVGFx/hcpJzZD7k9K5DJuWV6Ge+jrVyUBXzZS5q1uPU5uOdlmUgfh/reKHZAtbqoLMghNdGCX7J6AsK+Z00Ho7hlx0mSBCgtic8zNNZkxRhoINrTB3JWr29TkpxPnhubf6k+FzNl4uDtS6pZvZDc0Kfy2+hrM/B9MufsV0E12bNnf1+vg8KTJLbUc+P2EfV+N4rX4kgNBg4PH6/6hkZCicpxp+KwNX89ty72p0enPyAOdwUk2SeaaMl6Q5n6IXtYOMHOUXXWvF+hgtOT3QLuPTgX02ub94d/zUP2qnCCvTjoTReRN+3YxN/VTUVhUesLZYIqV4hhAZV7L/RTgwP7DE+HCbsxyU1WDrhm8HoV4pYdAzws//klve1UpdTUeYZo4T29SXGCnftc8M4BTzdoScLzKX8JgbfDyXbd9DHG825FLV+e1hW/ePC8YJEMLCVMdoNJs/taTX1w9tXp8TQaxZZeVZ9E8fEJ72VOINF5P4I4LBp0PC2q5xJGxOGugST7xOIhTntelU0Elc9WT8W3t/Sy6Z5se76mSNpniqIgRsylk/Mlp0N7eoLBj+fkBQ0/FI2AXVGZmso2Zn3x4qeO+L00/H1e0oQ1HcbHN9GI42rNVfWHluOWNcK9OPW9R91Hf8ergYRCVIb3Q294OoSWzzOEkT29pVzgxjRxrf8a3VtscILl9/zqBLdZLZzP6Lm0agjba5zrh5xrHLgBMowcDrfncIvrt+hNteMGSdi9IXGs2MIdB03etMjfs+b1wqt4enR5n5oe4/3qBpPHx0zNaVKT5729cVisc8U6r/J72XEXcbgO4nAsJNknGPcGyV5gb5jHDGkO0+PfBvzh0JkqDcT1ZOv5eO6d4xkqnOOhNl5HjooDyxE3VzCxPfnzS/5+mEqob2pZJdD6/XUKzslmaliWC7r6u+j11bPm34n9fJm35nZbnPnqshHiDhfLh6503X3mG0L8Xpa4ZbFkQ6fxnNluIHsZ7euHHzNEM5Hnv1XNnGdoiG8u1D9n5h1Pvkano+cPG8MP7b+bpqpoGDcv2fm0p6UM3SNaDpnfHHWDXF3yHIWPhRMDRRJm9c57DXuzH6FTCpLFlkRGZ0STwcRqcU5mAz/z2WFcxvnn7Djmy+93lX9Kz5/aYhps3pzy0DrCSF6O2x+H+yjz2Tqv8sZVK0YjDodAHI7zr38EfvL9+3f5BgCEOZA31tBSwqQ4ZebXDKIbKgDQTvzzdvzrGxgGP0qIw8fBqVOn9LPjDz3ZAIn00c1Z7hU4gp8m0j+X5f8iCgB0lCiD061Oh4AUIQ5Db0FPNgAAgO3bC7ou/wMqBt8kfjS9pwDHzUnqyUaSDQAAAAAdgekiAAAAAADQMiTZAAAAAAApQ5INAAAAAJAyJNkAAAAAAClDkg0AAAAAkDIk2QAAAAAAKfN+wg8AAAAAANKBnmwAAAAAgJQhyQYAAAAASBmSbAAAAACAlCHJBgAAAABIGZJsAAAAAICUIckGAAAAAEgZkmwAAAAAgJQhyQYAAAAASBmSbAAAAACAlCHJhjbYpNnMFXr2Vb9sk/0nVygzt6lfAQB03uZchjIZ8UglFu3Tsx9Tip1fn9GVDsThROS+zIqaAY4Lrn+vPNnXryAKkuxjKqoAcIUw+06/SMtJCaDvZkVlqr+n/M66chWP4DH1Kl7xCJ6HuGVMLbeOp73dtuBGkb9P8oHGC/S6QBn1rmkuTz8+E+lsCsQ2Fl7laaVWo1ppVL/ZDpx8R8SZQFn1Oh/O3KY3tTd0+4xe0FYhMUQ/Uq9vOhSHmfyMuVbaHofj2fvLj9SPK7QFkmyAREQlV6zS/PtF4qp0c2mb5rli5cf7eare8XuMuJKbohW1rLZCg49GvIAYt8xUGGs/zFNWvyVdWqQPD6q0EFERpEMnCvLxgeZ3phDEoXdxWbq4SpPvzTVdo5Uf9tJJrIPOX6Cz+mn79FPu5yyVX9sp3j7t7Yh/Xq05id+Xj3uU/6mdCX+YUVo08eNpXhyTefqgXy9e0h9JRQfisCEbUPo560gcDqMaMP7+8uMDXXidUkMR2gpJ9gknez1M69jpEXF7JvyWvp4K8oRb9eL9/9ymzMUF2qMyTTmfE/asXgar50huc+6Z7Jnxewbs7blDnM4+RvUk6ATV3c+Q9cnPzYr9V+uUgVX/bez635VogSYpp3uFRksqyEtncjR5fo+29/jFPlX+IJqfMUtHae6BqRzjlgmy50lUSjn10tafmyR6VArft9SpCr36xT+Xbi+KdYwCx9Mca/+cJTuX6prYtLbj/h0fO3W9qEfD8wxw3i+vbPSX20R8nd0pE31aoBFxzQQbuI2vS+tvuGeTY19gXZFlRV6r4ho1sVNfw3aZuPLki3wvDMeA7I7VUPhaoVXROM6fr9Ked91v0tqrLF3gVroum7x93icnNst98ffN3mf7c055DfSYt0T2BoetL2E57kQclkS8uSsaaQ9Eg8HS2TisbM5NUfXBh8BIST/dLt0W/69EXnNNxufY82CXEVGfe1eqdZ0ZptyA8A8cS99+/69//uv3b/qV7/1//v3Pf7/VL97+9z//zj39x3yKl3l/I5Z5n/s/T//5r3//1z9P/w+/eP/Pf//73//8+z/v5SJJLv9vscTQnwms2/wN79u/vfWxb/88zVn75axPLPtPzHrkc7U97+/j1iefW99T/q29L+GcY1OH12H2136uecc5bpml7ngy/k6N97M1wf1yj4k8zvY+2vscOJ7q3AZee3/b4Fxa57Du78T5tM/ZU/k85jzDCaeuDSdOGXVlzr3e7eXB61JdY9Zn+bW1Lve6FZxt8XYC+xTYF7W9qHJeXy65TJh/pbqyqctD8Dvz67o4Kl/5ZSr4N0mF/Z2OE952nOOYvBx3Kg57x7Tuu/C+Rp2fdnDPeRh5/ux9tPdZH3dzzORng6+9v407D4H9cNYb+Dv5upPHqLuhJ/sY23s0oluk/mPKG/7iYbcy5Qt+a3j0pzztfdTt00uL/jCf7CHQz6Ws1QsQRXzmd2vdM/OUtYc1b8z7cwVl78Q8zTnbM70zboud99G1R89+VC19b39j18fyNP+LWeNZuuD1fsQbPGv+xsY9rLz9OdWj8nWPqvJ9S/aCmv4Rt6yhfsoOJdvP1qiRCHWdrNG4N5dzk0qPyDmXdGlOHN1VqoQcT9nbFnz9aVv3ejQ4lzdWvHPo/J3ssZun5945G6Xb/LzheYaTS1xrf9dohabUNR3Tq7b/ZIHKdjy6NE5575oVrOuSR5vmb+zRasXuFTaSlBU7dtbH4P5fntO8E2ttozTubVv1xk7m+qn/7CDt/VER74h3v1Qp+3PO374R+E6br8V25ZQSvc/ePlmjWByb7ONwaHlaMb2xdq9zk+W47XH43SyN/DFpxRtbu+NwmEHKWiMyrhTjc8x5qCsjohw8f2COWGDkU8ZrdxTpJEOSfYxleYjJm8OlHis39EKtfMdPwOUwqjccyUHLLBuhhU/yzdadyYpQEUMPufrbswKZPcTI+2h7tSADQ11AjFufgyvjFSJ9HOrm5Ul67mOQHCa7RfR7jd6Y7Yd9z71t0RQQ4pYdOTMn+4Oo5MuBeYfBIH+IiibuXNrsY8XHaCjrVyK2xOcZTqLRko57nGzH3ez4Sifj8jElmpzRSd7ZH+Kaxc2WFT21IyG/I+QLbX/S2/ISaE689yKSUE7Qy7Smp8ct7FjJlIhACxfNd8/QyKM9tQ2evvaUdOPbnQ5weHxc9FOWqBx3Ig5v0uwdopW/raT1yDXqOEgxPsech+wP0XcecLJOpqFXWSUKa+idUEiyT7QszVs3BsmHDC6cYI/QdsG8z4mX/pNWce9B3A1CN+ybOtRD9h5xUla84N1EI2+qsYm/WxkSgSHYUxW1vlDmph1OtsPmAwYqBMaB/S7R89C7992gyL1L5CWJccu6gWh0/D4fmHcYDPJc2TWXHEiNzmUcey6qranzDCfVaEnEMKd3z1XfIRH9qxx8Y2F4IsuaLSvBZIiTZ/00DCfUPCL4bo3KN8ZVr62XQPPf5mk84vrnBJ3nHdcnQfZNz/phepwvLarXnGyn9YssYRKV4/bHYeIeW3tUz5u/n3YjIyl79CJKSvGZxZwHb5Rb43Lg4RGeIS5f/ggLKEiyTywe4iFauBsWODlYW4WUh3+a7sneo4UlE5ZE0n53Ibp1KyuO8F+zCCahPMwZJCvQnSl/SDhmffHip474NwLy91mlSXuIzsM30Yjj6n13ezg2blkjhwiczZJDgVWaksdTBXnnOpHDis0PByY5l6FkT90C3bJudnzGz1s+z3DsiQadc13ExDDZC/foVvTNdq8W/GVivVOvohLZZsuK/sWQov95OSyvn4fjGCWSQJH82b8gIhPoO1NW4h1CJ+ilj3YSpBJ0VdZjpD51xNJkOW5nHO7/5Y2bZHq/lGJusOxgHNZ4qiU9GgncuCq++xxfN+nF57jzIKeV2OWAR0PsX14RRn8apNWlEq0OWdNKAEn2ScYBRfYCe8NDZrrEKC0+HfSHEO9u02BcT7acpxj8dZEszf+wptc7QgtDK/5QXh2xPfnzS/5+mKFdOUeRE2j9/hqF9X6qKR8cINTfRa+vnn039Qit/mzN7bb4w7SMGyHuEKt86IrK3ecpoqd+L0vcslgySYibm5eu/l/m5fHk88lD7s51wr3RLQynJjuXYXikQf3Mljlu27InsZnzDCfKpTm6ULSuC/lzfrqsyTmr6nqW8U5Oi7DiHT/spPOGSMLv6vfv+D8fF6bZshKMwbfEnsWPGqrEnHufnURfzymO/+k+lVCXd9wEzOukMPtsflXCntolj5/+2by5qGl1rUpejk9aHJb4+nTiHz9uEc2o6yqt+Bx7HoJl5K5olHhzsjWRpA++KtNgx38+srv9i+9+1M8BIBJPoeF5fwmDccr4J5Fu0fOYhgoApI3L3cjH+Tb/h2Z6CcfBEmX/jm5otBficPfiDiu+af6oro3uhJ5sgET66XaBW/JHMDfv3SyNPBq0fhEFAOAIcE/uUMyUlLZDHO5WPNXJ+3UX8KAnGwAAIAR6sgEa4JtP+T/KxHPXu+pXWboDkmwAAAAAgJRhuggAAAAAQMqQZAMAAAAApAxJNgAAAABAypBkAwAAAACkDEk2AAAAAEDKkGQDAAAAAKTM+wm/79+/yzcAAAAAANrh1KlT+tnxh55sAAAAAICUIckGAAAAAEgZkmwAAAAAgJQhyQYAAAAASBmSbAAAAACAlCHJBgAAAABIGZJsAAAAAICUIckGAAAAAEgZkmwAAAAAgJQhyYZj6WDlOg2Nv6AD/TqIl19fiVoKR+bbC7o+dJ1efNOvAXrCFt0fGqIh8bi/qd/qCrxfHShPDcot4m2PQRxODZJsaJutX1Wlox5pF9gDejHurlMm1no7fVN/0s7aTerTy1KxeV+s/76otgQZhPzvF6xY7e8erFziljG1XG+H2dvtcnLfYxo3dfi72Z8/fZP+3PmTbp7Wr+FEOJIkLFCGm7puAw5WirSRX6adnR16PKrKQePv4yfmwcdRJeoqhtr7kjBud7LcIg43hDjcPZBkQ1twIZ8mVenIx18TRDW9sB1EkMiVBmi5bYFBJPWLu1T46zENi1dby1UqeN+tQLv3/MqIKyr/uy/TQCnnBf+4ZabCWD9XoIx+Sxp9TJW5XSp2Oglpltj/4u4YjdFLeptqgwogXTKZvPqSJv7SZZgfs1VaOkRymznnlNoEhumx2fZvY0Si3Ff0a07Uj0pmruIfk98GqDjTeuMjfYjDDSEOdxUk2dA2YzkOg5poGd/UFYes4H7dcnoSTIDj99xehQTDnRwU75FIsFXgZWYbHh045fZEi93J9+1lUT0Vm0tUpAm6rBP44Yf+tuj0ZZo4V6OqXOkBvS0TFabN0mGamcvQRoXXGrdMkL0HooK9rF7a+i6LRkppqat7UQ7eviTKz9BMnujl2/qKSJ4T6xz8P/z63gbR5yLlxHvyGpDnwjoHzrlxr4366yhhrxv0ELe31z//Oi6scO+ieT/qswHimpoOa5CLJEomt/oafKGvVzs2mXXbcYLfz5VqVBOJ2tDQ/6D58SGaFuVcvebP8ahb873TUdsLfnd+yHXLnlbrta3mxr+II1Nv9BqNfa568dIpw3XlNKLcBuOt4KzHitMq/r9Q5zFsPxGHG0Ic7i5IsqEthnNjtGH1KtQpT9N6rr4Hgv+uVn7rB9fNddrIF6J7p7nykD1SVrCtIyolu9dqiagoKsXQZVaibtuqbFAmfzli+okI7J/H6JpsRPDzAcpY+9uXGSDarYnvFLesAVmB7FKta4OXqrgmLveFVkQciHPlCa+nbllUAP8XT+mxevDqe+/43BRp4Ddzbio0UbZ6nJh1HVXmxHntql43ODRR/smcfxEnqDRtxZQaFT9fk8v+nBIlM/azPk5CavlrMfGCbdBL3dPJ1yVfv9O7fk/zzm9E0zoJHH7I115G9wD/L1pYU9e3eh0Xl6LFbU/xvzuXoY17Irmp2K/tpFx8dpE7IdS6lgdEMmV3QMRQ02DMsRJl/LNdhjdoOnQ9cfFW4FFHOxbQtJO01UpVusbLQqb7IQ43gjjcbZBkQ3uMPhYV3QS9vBrRss0v+4X59E0q5Guq1R3oOeGg6vSIO0Tlca9INLccO0VEVRRWoi62tywqRSVDg17vR7yBTFho516qadqdm1EV0bca7cr3LZlBNewYt6yhPsoMJNvPI2H3MMmKaIPWvSCse46W/EpzeKrxfHkzz9UP+n10c1YkEKbHiVnLuVLJWNcOHAOmd5nJ60o/lzJWb6QQ+1lX46kdY1TgxF3aoqWSe/3S6AwVEg/Hi+tWJN7+ddxIku1Z351jZt1rOxEUy+yyN12gTHndSb5sqgde9UrKKRUPzTEW3+OhtZ6cSMxCxMdbnu4hYvqsu57aZ7/UZkwsjYA4HANxuOsgyYb20cNuJtmuG8K0+JXeMF3Lm8CwRetl0zMRRlQefwXm00WIrlS5Alwm4p4gUamEr+eAanVRWZBDaNNES7onjZ3O0IB65qvpgBO3rMe5PUzBIFzfc5RU3XnjyjCqxyns+EKPU1MtVNKXo+Jn/Xao5J+1k7pkgtdvu5OtNm6vQTnx5mT/JpLf4NQIa0qKnGIQoVEjRva82+tJ0ouMONwQ4nD3QZIN7cfJNg9h2i3fAK70TA8F97Ts8mflVJFGw7rD9FhON4lP4oOVqvva3IDEyXbYFBeu4PRTgwP7DA/Bht1o6Q4nHnDNMJDRgS9uWa/ixpA4plYPmKw4y0XrWLY2xFqXDHFl2PPHC5LhpDlH1Vk1DM3D1IXI3unkn5U9bTE9ueGC1y8nfBkajM8lD6GN2+Oe3HMJem5HH8spId6NfpxgLw5aU1jCe7JZfLzlzhFznvQj0S9BIQ7HQxzuRkiyoQ1EhferOyeLW9gOu+CL4D1t91jzMNfuOt2v7LrDwVE4iQ/cWW5Tlaq1PRGYiyIY1YufOrJbM99IfL+ZlzRhD+d6+CYaouKyqcL10K/8HnHLGml3pd46M5zoVJrisWymAInvfU08t+fpba00nrOnztu01XgSx52HmiOnD8Hxwj1v1jX/7S29jOydbuKzIl4UeD6xczOhIOJQeEO9/voN3oAXjxsA8Z0ArsNuL0isy4s5HLuKRJHzml3DD3mkUM1tDyaidTFdi4+3fXQ5f7g5u4jD4RCHuxOSbGiDPrqZq8o7lU2L2p3bJ+QniGZMa9v/SSaFA/Eubew2UanI3vIBKoZNS7GWye3NiIDqzRHcsn6RIEcv85XQuZPuvEGu0EWwMuszD30TUN/UMhV2p/X700S/+b0scctiyaShtaG+9uJ5frXQgCuPmR5u5pvD5A1X+lhNi4RIVoxyrql1V7vNazzp4yvOD/dUJp/bCr3E6YGT18MwPXbKbZUGInuym/msuh7559imre3xjYNR11bw+pU9ujG9rzwaR/L7BBL5hJrdXrwMFc6t6++Zo+LAsj+toiGdkF69TzUndg3ROkX0ZMfGW46Bf7rfTTySNkAQh6MgDnerf/0j8JPv37/LNwDaTd7h/LngJt0B8u56kZgnrwzajXujeN5fwmCcsu47HgAAnYY4fBycOnVKPzv+0JMNXYiH7wasu/u7Ad9Ewr0zrfVMHQr/5FXXHQ8AgE5DHIbegp5s6Li4nmz+QXv+DzmM/YbhKAAAgOPmJPVkI8kGAAAAgI7AdBEAAAAAAGgZkmwAAAAAgJQhyQYAAAAASBmSbAAAAACAlCHJBgAAAABIGZJsAAAAAICUeT/hBwAAAAAA6UBPNgAAAABAypBkAwAAAACkDEk2AAAAAEDKkGQDAAAAAKQMSTYAAAAAQMqQZAMAAAAApAxJNgAAAABAypBkAwAAAACkDEk2AAAAAEDKkGTDsbT/5AplfnxG+/p1EC+/8iRqKRg4TgBJbNJsJkMZ8Zh9p9/qCrxfV+jZV/2yXb4+oysx20EcORwcv96FJBvaZnNOVTrqkXag36dnP7rrlIm13k7/L2+o9vdt6tfLUvFuVqx/VlRbgqxU/O8XrFjt7x4MjnHLmFqut8Ps7aZB7/vRJwN8DrstKYGjcCRJRKAMxzXKG9l/skDlGytUq9Vo8ZIqw42/j5+YBx9HVSZUDLX3JWHcPnOb3tTe0O0z+nU7IQ6nDHG4nZBkQ1twgJoiVenIx/tJoj29sB1EABx5NEgrbQv0IhAVqzT/fpFGxavNpW2a977bPFXv+JURV1T+d1+hwUcjXgCLW2aC7toP85TVb0mXFunDgyotpJSEbC4t0OCNPJVfp1ZdAPQUmUxeXKXJ97oM86OwTaVDJBrZH87qZ0mN0qLZ9tM80fl5+qBfc6J+VLIPPvjH5OkgLdxtvfGRPsRh6C1IsqFt8j9xGNTO3KbbuuKQFdzcptOTYAIcv+f2KiQY7uSgeIdEgq0CLzPb8Ng9Hj8+oy/6bcleFtVT8a5ECzRJOZ3Aj5b8bdGZHE2e36Nt2YjYp8ofRPMzZukozT3I6kAat0yQvUGigs2pl7b+nGikPCql0IuySWuv8jReGqf8q7X69UUdJ+7FCfT08bmyKy1zLu3jrs7npuwpcY8vn9cRWvhEVL6jtrUv33OPf9025p7pddnrMetO2OsGPcTt7fVjg44LT7h30bwf9dkAcY3fCmuQiyRKJreyDMyKdatr2o5NZt12nOD3Rx7t0Z5I1DKZW1QQ1+fUK9Kv+XOt9RRGbS/43fkh1y17Wq3Xtj23XEccmXqXRJz4tO3FAaec2/ukj5n72t+eE2+F+HjxTJ3HsP1EHK47LnUxMvK4Ig4fBSTZ0BajP4kWutWrUOfVFK39VN8DwX+390fFDyLv1qh8Yz66d5orD9kjZQXbOiIA2L1WvxMtiEoxdJmVqNs2X5cp+3MuYvrJF9r+JAKmbETw80HKWvvbf3aQaGdPfKe4ZQ3ICqRKe4cNXvJ4jovvOErjN8qBXpmY4yQr21WqeNvXlQR/Zx5F+GPS64VboSknwdl7tED0u14mtjklgz/34n2g+fOiMfZULEs6tefVql4XnydOXqaI+O952+8nafWiWzlAjxPXq39+50WCc8uKKXu08HFcLnvzi7h6Yj/r26+s0p4sA3HKtErP5bo48ebEYmrH72muPSWa0snOaKlGH0SSpnqAn1Pxb77OTY9wXFyKFrc9xf/u3AsuE6TX9mu7HIjPFome63WtDC3QiN0BEUNNgzHHSiSnH61y7pXloLh4KzSMF9s0zstCYgLiMOJwr0GSDe1xaVEXtoiW7Y0Vf0j0zG2av7FHqxUREAI9JxxUnR5xh6g87ojA8eB57BQRVVFYibrY3nNRKSpn6YLX+xFv8GxY+FEBpvpgTlVEX/eoKt+3ZC+oYce4ZQ31U3Yo2X5G46FW/3gGGzTxx4krA2v7XiWh11nwg7Nc70e/7yprnR9elqgyi2Lvn+zVmqc57zpKqQKE7mF6l5k8v/q5lLV6I4XYz7oaT+3I0zwn7tImlR4Rzf9uJSCX5sSVZyc7cfrptki8vX1rKMn2rO/OMbPutV0OxDJrXaMz85QN6z3VVA+86pW8xQ2NkjnG4nuU3HIeJj6OJIkXOpZGQBxGHO4lSLKhfURw4GE3k2zHDZee/cEOImVak5+1WumhROXxPjCfLkJ0pcoV4AoR9wSJSiV8Pfu0t6Of2uSQ3i3Zopc9aexMlgbVM9/etpqOHresE75WaNXr6RFCEoW45IMDsxlulfMirQRH9qSZ4cI75egAnrgyS+jTAo2Y7cphz8NWgNBdOHmyz69+O1Tyz9rJRzJuz2c6yVacNm4vLA5ZvDnZT0WSFpwaYU1JkeU8QqNGTOJ44UAcZojDvQVJNrQfJ9s8hGnmvIX48nHP66HgnpYqf9ZrpccZpUU53SQ+iQ9Wqrw9n7kBiZPtsCkuXMHppwYH9rs8BBt2o6Xbit//UiUayuoehrhl7SWHyalMU4FguLDkn5fY48Q9ZNwDxpWENS9SRGzR2NFDheaR9i+7RNG/6GA/kvcYQnfjpHmEtgvm3Kph7XDJP8vzauN6csMFe+Y44cvShVQzFVsbt8c9uecvUKO+fB4Z4GkF3lQGTrCLF6wpLOE92Sw+3rYaLxCHJcThnoIkG9pAVHhzgZszXgd6PV4t+MmsCN5Tdo81DzftrNHsa7eVHomT+MCd5TZVqVrbE4F54ZV+7oifOlL9Yr6R+H53RXizh3M9fBMNWQFTD/3K7xG3rJHDVrJ6W8EgLI6bSTgaHyc9yrC0TeTNi+yn3M/iO6XyCwR8/M0ohiCvC/08jKxsphqOYkCv4rmz1jUvewD18zpNfFbEi3mekxq4uYuvt/BrSQ3RO9d44Aa8eNwAiO8EcB12e0F2Asexa8Eqv/FGSzxSqOa2BxPRupiuxceRw8cLxGHE4V6CJBvaoJ9u/7RtDR/pn/Pz5vYJNyaJ7urld/yfZFI4YFSpvNNEpSJ7ywdpIWxairVMbu+uCHLeHLdN667oEVr9+UNoC9yd38YVuqi4zPrMQ98E1P/Lc5rfmdLv8w0hfi9L3LJYMmkIDiE3gUcFzoccTzl/TvdWxR4nRQ5VvqrSZM6v1vg3yeXNVOY4iEeygCuukwLfpCX+Rt7UZb3m9bwelzeQRfNHMcx2Q3+RAHqCPReYH7PvxPl1rsdtGozsyW7ms+LT8mbFqtWbKB7ieovqfePPO9c49+jG9BLyaBx5vy7SvGa3Fy9L8z+s6e85QgtDK/60ioZ0Qnpxlr44sStDaxTRk90gjrQeL8TeIA5LiMO941//CPo5QEfwnfMjH+fdpDuAP8M33SSvDNqNe6N43l/CYJyy7jseAACdhjgMvQU92dCFeEht0Lq7vxtw6557F47gp4neqf/QTncdDwCATkMcht6CnmzouLiebP7Re57/xb/ZiRsnAAAAoFchyQYAAAAASBmmiwAAAAAApAxJNgAAAABAypBkAwAAAACkDEk2AAAAAEDKkGQDAAAAAKQMSTYAAAAAQMq8n/D7/v27fAMAAAAAoB1OnTqlnx1/6MkGAAAAAEgZkmwAAAAAgJQhyQYAAAAASBmSbAAAAACAlCHJBgAAAABIGZJsAAAAAICUIckGAAAAAEgZkmwAAAAAgJQhyQYAAAAASBmSbDiWDlau09D4CzrQr4N4+fWVqKXQ0LcXdH3oPm3pl64tuj80RPc39atfh2KO9QG9GL9OL77plwCdJK/jHr3+Wt53t3x2RGy8gJYhDnc9JNnQNlyoh0QhV4+0C3B9UJCJtd5O39SftLN2k/r0slRs3hfr1wFNBjf/+wUrLPu7BwNb3DKmlluB095upwW+Z1zDxTdMj3d26PGofgnQMRwXrOuVH7/GlJzTN+nPnT/p5mn9ulvIMh/4HsGy1/K+t6N8qoSubp/FI/VkHnEYcbiHIMmGtuAANU3LtCMKuXz8NUFU0wvbQQTAXGmAlttWYYrKe3GXCn89FqFLfL/lKhW871ag3Xt+ws/Jvv/dl2mglPOCf9wyE0jXzxUoo9+SRh9TZW6XipG9EO0hGy1XX9LEX/p78mO2SktpV5oAqcqIcmqu2QoVdqdjevC6WN6Kn+JRyb+kXNf2uquETu7rb2NEIoZV9Ot0kzzEYflAHO4ZSLKhbcZyHAa10zfppg62Mmj8uuX0JJgAx++5FSL3kDSoWDgo3iORYKvAy8w2PHZPwPgLN993egkieio2l6hIE3RZJ/DDD/1t0enLNHGuRlW50gN6WyYqTJulwzQzl6GNCq81bpkge6ZEpXRZvbT1XRaNlNJS53pRxDGZDmu0iIrGqTTtHjfveMefM3lu9N9cX7HPhP67FbVOcx3Yn7fPaf111K0JCBydPro5O0a1z+o6U/Hlhep15d5AWfbtXlHx3Lqmg8m5cy1avYl2LLP/JvzatXt9k1+zPDpXmSMqLuv12Psu2Ptg75sqJy90Dz9/vr58Nrf/hxAaL1jCY4I4rCAO9wwk2dAWw7kx2rB6FeqUp2k9p1vlVg8E/12t/NarIGhznTbyheje6ZqoaGQr3wq2dUTQsHsClkRFVTJBJbDMStRtW5UNyuQvR0w/EYH98xhdk0GPnw9QxtrfvswA0W5NfKe4ZQ3ICmSXah0KXgdvX1Itfy3mmLINmq5c885hplxsHFx5xKE84fVyLYsqs/hZL5Nq4rVa559T4mjXfT7QK2ldRzIBmUkyjAonWa1UpWt8PYVOJ3OvaSpNe9c0JxPOtZj33/d7RSs0Uda9ooFrd+chlyaezjJN9Jt+r8mRN07yMuX1kCRvi9atfSiIcjXtlJOXREu8rD6+Nbf/hxEVLwLH5K8Jenk1vLMDcTgM4nA3Q5IN7SFa2ipYRrRs88t+S/z0TSrka/TyrSiWo9do7HNVFHGFg6rTI+4QgeBekWhuObaiOlgpuom62N7ynBkIzNCg1/sRbyATFtpVBbE7N6MC4bca7cr3LZlBNewYt6yhPsoMJNvPtGTONdqzMVo2Fa/TixSFh3rF+Zz1k5u+qWUqnNMvpIzVw1T/edkI072SknUdyQTEunYAZCP6nhtDMqashoq6pnXv55J1LU7x8y1aKtm9on10OZ8R+ZqIZVy2665HLsecz7WYgpzOkPjzEMP02EuC1T44Ijsqmt3/w4g4trJ3ukAzXn0Qn8giDgchDnczJNnQPnrYzSTb3py3EH4gGaZr+Q1al5/dovWy6ZkIw3MvA/PpIkQHqj66ubZMdE8NdYWv54BqdVFZkMO107KHSLb2WVglWNMBJ25ZF3KCaEMqeWhMNGqS1WaeDX1u5EMkTJE9TpEJCJwsovEtG/f8UD2kztB6YvY1LRKXQO+nz97eEOVKNVV2OP79RjQt3/d7Zocfqt5i/qzTG5gEJ4jnwhNCezif9yG55vY/HYF48blIOb39oaEcFcX26xNFxOHGEIe7DZJsaD8ZrMf8OW8hOJCYHorh6QLt8mflVJFGQ2XD9FhON4lP4oOByn1tbtrhZDtsiktI4OLAPsPzwMOGe91emAOuGQYyYi0sbln3iB6WPqxg5cnJi34ayr6JTT/S/tUYOGbca6a1BDtMVO/qmIgD1vXJD9OzyCN6/JqTVW+eNDfs+XPW1IyEtpaLRCHTJeRUls8Fb/sVb6QuiWb3vw0CN3nyo/68IQ6nB3G4U5BkQxsc0Itf3YDM0z4c9ryxzfs0bfdY85DX7jrdr+xaQ1YxOImXiXb4HHAVqKzticBcLOvnjvipI/4Qr/h+My9pwho69vFNNNbNSSI8+sOxccsa4V6c5nsfWiaOaSG/QdPBHixxrppJClxqKHpj0b825FQe/bwefx7z+6Ab8AhbzbkWt1b4uRp5m250U2AKU0f4xrLp3QItm95aC3ca+KN1PLUlIojVOcz+p4SnCJanE8cVxGEBcbhnIMmGNuijm7mqNfynf87PmzMo5CeIZszQk/+TTAoX6l3a2PXvIm9I9pYPyGHPuuBjLZPbmxEB1evp4Tup9ftDOXqZr4T2fLlz0LjV7w6xyoeuqOT8tt1p/T4PV/u9LHHLYn17Sy8jh6vbY/gh94jt6uFi/ahcO1TPIP9CwvKAPzQ8TYXAXEBX8PP8aL1yAWgdlwfn2v2sej55+odfpvmhG/siEfLe827OFomh9TveHBe9KQ5BIvH0/l48iucqkb2Hww/VtDn12WmqDiTPApvbf5Xsp1sG/dFIb3sRveaIw/qBONwz/vWPwE++f/8u3wBoN29o0066A8wd75EVUMdx5cjz/hIG45R13/EAgJOH4+ASZdbCf4Wp/RCHj4NTp07pZ8cferKhC/Hw3QAVuiqQ8e/tcm942jcAJbB5X/6HdrrreADAicM9uQON7pNpJ8Rh6C3oyYaOi+vJlvMOy0RjLf8iAAAAAHSrk9STjSQbAAAAADoC00UAAAAAAKBlSLIBAAAAAFKGJBsAAAAAIGVIsgEAAAAAUoYkGwAAAAAgZUiyAQAAAABS5v2EHwAAAAAApAM92QAAAAAAKUOSDQAAAACQMiTZAAAAAAApQ5INAAAAAJAyJNkAAAD///bOrzWK5N3jz+/WV3AuzMqOo5JJXsCBAyaia3bVDVEh1xKjEhay4ReyZOcFzIpDIASWoNHgdUANs+puRHESOHAuzmUyQR2Ho/E1eOupp6q6u6qmu6dn0pN0ku8HmnRP9Z/qqq5vPfXU0x0AAEgZGNkAAAAAAACkDIxsAAAAAAAAUgZGNgAAAAAAACkDIxsAAAAAAICUgZENDiU7Dy5S7seHtKO3XTj94oOoVJBlDlvdVadzlJuu6q2U+PSQLuamqNOzyvaTdp46gMsG7dQmK3UDjjboQ5MBIxt0DWk85LzlIj38pBNSYYce/mifU3Y++jo9t19R459x6tFpqfBmSpxfGy7SiAnub+qN3MPHvHdXiOLSGJVuGEjmdfcBux6b7/XwUKUpvscoA0bXedr3PzjXoMbcoN5KjnrejbqJGVR2DX42/fJqbpMu8lnKgoEo21R0XaqyDdqcbVDwc2KnhdaDfF5a615myqTd59+qe32sscS1E7vMgrJMVBbd1uGoc0KHQQfAyAZdgQVhjJap0RAGBC9vR4nqOrEbCAEcuFug5cYrGj+hf0sVYUCUa1R8O09sDlUXNqno31uRareCzpQ7kODel6lwd8AXxLg0T9xXzxQpr3+SnJ+n9dkalUIM8u6iOk6rHhvr1P9yH4y5PSNP+a1SqGFUXSh19RHuhPzsul83y30lurnnz0gbiOe7tFWk9Q4GFF3hdJ5q5bBnuUpzd9ur6dB6ODFOr5YKVFqIMcuyVia7ev6Hhf5qnZCaGGWQivJ9V/TLi7VtTA9MBufWqRhxfUX3dTjynNBh0AEwskHXGL5kdByiwxk/r1alF2O6ao3MfYETv9keBxaYFt4gNk5vkRB4JbyMdw0f0zshBP2j/llipkV5Kt7MUYlGaUgb8INzwbXoxBCNnq7TpuyBdmjtKVFx0ksdpOnZPFVe8lnj0gTcKQsBnR9SmyY9Q2KQcncuotPqDtXpMaqx8WAZAD00PhfMENjeFaPsZJlO0UOuB5mm6lDWi7EdYHrCnLSoutPXMMukqd7bpkCj14hW1pzuS1yLjaHiVb2tCe5HLMZ11XNcpYc/6rQYD5j5zLdznMvJM3mqv7OebB+rnlyPt/bqRl5Pl7/rCWwXNtLo2lD4s+PmKQydT39Q6mN7URPns29UtOgVWnO0ZedBSTz3RWEydoZVD+dHaPhZtNHolon1PCWp+5i6abt8Je09/5GcyIsz1ageet+DNG9oCmtb/v2mbtc9NCSuHzkw2QMdjj4ndHjvdPjwACMbdIXBS8NUMbwKTTwbo9VLzd4CPq7+dC3oEN6sUuVqMdo7XRcN/NwKjWrPRjhCOOQ++nr3hYj7nionzTDUTaovK5Q3OkObj7T5fphG5CCC1wuUN/Lbc7JAtFUX9xSX1gIp9lGdVjeo0uqzPI0Ohd8xw0I6xl44WW5iWSLfI6WoCBPmkUxbnxVlfi5HN83tO96+HGYwRrSkz/NWmD7nPNGOqTtZJhVa9Y0ut/PsjPztIhWcjtQzhqwZBp49eTrq3/8yjVnGTv2uOOa+TrtaobGEnU5nx8Xdu6hL3wu2TkVhpvgebzZc5QBVXW99tl/97sPlX6KCqJtXt6Ofhda4z1NMnsLgjvwWezDFIFQP1n2ERgTPTlEYQTejdcciT+MzrqeZvdgk8mnVdBs0G3AjVwMjzcYtE3HsO+N5aln3cXXTZvkaJH7+42il2yb1TapfHfF1VxrdEZq49zpsnlMAHVZpe6DDhwUY2aA7nJ/XjTRstCy4uhx0lifGqSg6Iuk9Yc+P79VQomp5xC3qVLolxH/2UayYs2fKEnxxvUezXndxkvoNT0UchZNhQqeEqTY7rTqJT3Wqyd8N8v2qc4pLa0kP5fuS5TM97I7IRhkjxftG3Pv5adGZm57BYSrqzl92nO62V8/SO1Wk6ZCOLL7u2OuVp9pH3Z18WhNXD7xcncOGUcWYFuaOLsi7gqetxbM5E9y/HCAanuS88VxyWqLBlKCd4+p3B7TXaYBKfVFGjek5VGXmIdvXUjCw7Lk97q9z+1LP9nqzYdsR5vMUnadm1rQxGREKJrQm0BJ+dvR6ElxPczvGoUFcPbBn239GmzDLxPZOyrqPpFXdtFO+Lkme/zDEoMDzdPKAKImR5Q2ezH3ZC270AS57p8POOSXQYZW2Fzp8OICRDbqHDn/wjO3mad4A7ogUSuDVqFiJu+9FaCJPxbdOXHME+TMn9ZqL6Nj+WSa6pTqH8PPsUH1Lr5rIabKb0uvoe5LkNKkDe2r4b1xaJmnlsXHFfxcd0PsSDXgdNBsq74PzRNed6iRIz3zsrK1YU++7YXCyGJxXhg+YHW1ART83yrCoRBvEiQdTDi2OM2OBG5dWI8MCzDCEAX8Wh5/rPPVHXUAYn9zpPmppXCUgxLAJz1Mz7NmvmIPyJtgY8uqBnx39cyI4VMALj+CBU0Lj0CFpPViEGXtm6A4/T1EkqJuk5RtG0uffxojJbjwiuhOv+TJ/d4geJX6PZg91OOyc+8bR1eHDAIxs0H3Y2F4aDmKPQ/j4ru57KFjga7yv9CoF04jhDNK8DDeJF3Q3VpWvFyDOITsGNrbDQlxYtPSqB4twZAdhi+LOR9GV9uW16MSlZQk1zd0Um2nhin8Loy0OYUT5RopePKMqtu7Es1XsY6+NmqKMm1ZtC3neEs29YU9RIcKLx4M8O8+pf9GmHZxZIA82ZgasF83MCorpjEWd8Et8A2nEVjqGTXyebPKzy1TcskNxAtjAHqDNGa8O1qnYjidb0OOFR7AnL3I2oA0i6qEJ19hjA7vcb0z7x3iyW9RNO+UbSqLnPw7Hu+nA+ZMhC221lz3S4dhz7jVHXIcPATCyQRcQHd+07cnhaWkLa4p2isZMjzVPU22t0tTLhF4lNuKdN8tN5JSYeT0hoqVnet0iPnQk6DDE/d1ZoVFzis5HecaCOE89nSfvIy6tFbsQzg6R3qy7A45x49WtEv8gnk/gvJSUGDllPxY6SEpSd4OXCrSyMEcraRhIBjxdX7k1FjHQYyPCjGfMADwoPd0vnmIb7gwDLxR3gt4DrgyhivEViJ0HD/11Rn3tYSyll5gCYyA6T6JVyJc/zVI9KWebeMbK/50NUukt5phZo13wVLXvyWYDPH7wrVCzZ2O34kLT2sCpB77X8BAHJigTd8BtaaZ/vwFNdcPGoX4BLbp8k5ZJq+e/Feqaofct8nnz6Wi0F549/CHPsUd3dTjunAx0WLKHOnzQgZENukAPjV/aNKad9OeHzLejr47K6USZLl9oMl845M6/RpWtNoSCDW3+XFZYWIqRJq93Rwiq79mpGm9TD9DKtfAYR+5wgpE8d+xC2LzzeYvu7HpuP1Kdn/ydXyQJPCJxabFI4yEuNq8LcLnpz1sF93mTaFJ1QPx9Z+lN89LYC9eRJzeYjfCv4xkUsXWnEZ1D4VmFCmkYSCYc23g6HzkI4m+xW/cvliTGS5oEscBi4RcYQ8p/cM6sw5u0KQw5D74H+Qk1fY6Bp2zSmqhwKu58E4VARKKMAW8AG5encNQzwsaGbfCL363nY5MKbXqyGTZk8qeNeNQ2ia4H9eJauFFml4mtDTlapVbfN4mum/bLN4QWz38zRkx2jJbK0AwrLEEtXtvhcIO6Mdgw6b4Ox58TOqx/30sdPuD865tArwOwJ/hTmdYniWy86cT9j4fzYA8Qx+jtzxRi9sojS/BAaZVGIr4MAzICe1p5Gr4jA+CAwh7olyPRWncUyySWVjoLHc4u0OEw4MkGGaTTOMBu0qM+9+V/0mgPER01/6OdbJVHdkj+YhbYV06oON9UYrwPAmxAt/rKxlErkxZUp+O+ksNAh7MKdDgceLLBnhPnyeZ4zLFnRMNLId/DBcCEjZhzJaqfLnY4PQoAAGBXQIdjgZENAAAAAABAyiBcBAAAAAAAgJSBkQ0AAAAAAEDKwMgGAAAAAAAgZWBkAwAAAAAAkDIwsgEAAAAAAEgZGNkAAAAAAACkjP8Jv69fv8ofAAAAAAAA6AbHjh3Ta4cfeLIBAAAAAABIGRjZAAAAAAAApAyMbAAAAAAAAFIGRjYAAAAAAAApAyMbAAAAAACAlIGRDQAAAAAAQMrAyAYAAAAAACBlYGQDAAAAAACQMjCyAQAAAAAASBkY2V3iy/LP1Pf7ht4CXePzY/q572d6/FlvO3A9/Lz8RW+BzNOiPgEAGaP6m93XyTbcR33cjv+ndXtGX5lBoMOpASN7l0iB6PuNMiURvsjpZeQxZd/M/EKPR4w8Jy3T727QX1t/0Y3v9HY34c7Ey5dTxr9V5R4+G78Haa6RH5fGqHTj/s3rZhyZ93aeN743c/+9rE8ADgNSH+I1ZS/ZWCwTTa/RFrfj/+xCe4YOtwQ6nB1gZO+KDVqY66XLwy/oudO49wtp9P/0hK7/vSVETi9TNVrISP7CYQN7iJ4MszDrPP9ZoEamRtEij/PbNPP3PTortjYWazTj5fXvGdr+JRj1cx1M0KK+l0XqnRvyxT8uzeswnp+aoZz+STJ4j9amt6m8z51nS0T+y9uX6TI9odfwgADQfdg4+oVo0dOirTW6Tg2duH/05o7rtbSBDrcEOpwpYGTvhupzejF8he4NXaYXa/HjW2n86lGznEYzHn4edf68vGF4cu3Rsnms2i9iGkc0rglh9C+6I1AhDvcG1ao5ejdHrvIavz8O8iDTDO+yMyq27idmqs++7zgvQI6uXzCEefCGvocN+o3Lq2p4LMy8SEE0zqsF0tvP7W6i8q3q4LG4lnN+j+oClUX3dUGX69k/lMhLvrtA1081qCYv9oVeV4hmJrzUszQ5ndPPR1yaQHoPtujeBbVpcvzCdaK5hZjy23++vH5CNDxJk8NET143d0RW2Ysy/l/e/uUF0YcyDYnfZCcXV59iMT1O6pndMJ7piHYBwGFG9EG+FtFxujEmtrjdmDrmemF529c/1tigjZm6qNqY1y94x5v7m5qu+osJoXEvfhFpfH2nPUfpL2P2Tb7B6wIdbgl0OFvAyN4FG2sv6PKQaKiDV+hypRz9YAlBG5LGrzfivk5PfjLFiagxVyZaUOmLwy9owhMgPrZyndb0sYtCYsofVJILN66GJbguG/TcH72v0Yw414Q5Kq+IxinzoNKG+iasbX/fpjxNWI0uQIjZB2M/874sjtMFIQhlp0wCGlSeD7w1i70ib6HnEeJvevEXxDnnDDO7Rb4bczW6wmmrN0SObLiuc8MXmn5XCGH/cJmuyIEMr/dSzhjkHM/1Em03RGnEpbVAdiDbGfPum6iOiwdKYR0RC7FV9qK+/2PsL9r68zLRqRn5uzcQDOD6LFPvn7o+2UtXMTxOTGWCng+p9LVpUd+TIQMkAA4rsu8J0V/WC8OT+UXIYM7QD7/vEq3l8cgEbcvwDt02XT33+wU2aNX+5LfJK/ScDTSJMPBXVdu+zOmujjr6u/WH0VNZ7VgYvPPh7Rg63ArocNaAkd0pYmRXrngN+ixdGW6EjhqliM0LQfvTHHHfoBknxCQ3veh7n88OiQdeNnh97FQgVsfHFmnmlN4IIXfKmuByOEv3fGFjw9bZd3hG50GnOduND2ywNueJ86vSXITo/mHvF8Vx2dCJJuRI2DW2czSzYJxnYoZylefOPiwgZXrh51kgynlRCLaidb5z05MxA5SoKVDV6Wx7x35u0Lb83SBXUNOOcWktOU65XtE5hBVzFjA9TLIjMp9v7Tky63AsWI9C1eeiIfrieZpyZo2MdO5Uch9qogsF4KggNF0bPbaHUemF6pO04eV7NoWZua37LtluZ2hxLGiNrK9UeS320piaqvef9NukuD4baElgrYtqn220Y+hwDNDhzAEju0Ncr3GTMFnkqOC0YDaGtxvhe9sNvvnYOMKN3QBzqmjI9PK2iZwO1OeRU01RXoAqT1Ma+8UxeE+NlKWxHTPl9F2OevWqS/wgo418W3CnpFdN5BSa8vb/5XVSYXlraMGJSzvg2B4mV4SbPUdJaapPbhtRdRbzXABweFEeZM/D6IVh+E6Ez6/pSe8VusGeTW+bjD6mN2cbWtyO4owkd/+kcBhGpCPFILIdQ4dbAR3OHjCyO4JHhKJJViYCg+2nshC0csQLhs0jXxa/ZC+HuMdyQ9GrDnIEGeLh9ZBTRR9m9JSPmpbrjBzNmC9W8hISYiEN7PlCMD2Y1OMhXzAJjyeTsCfiVLjnwR1k2NsJ890Eey/0qgcL+ySHsIS9gW1PJ37hnsHvmOLSDiob9LwiynpOedP8AYwVQtXZFGvToJE7wwNfXgB0Aza2F+my1wfIUBKxLtpML4eGsPGjt8kMuXCNpRh9lTj7Sw1LiulICXv3JRbocDzQ4SwCI7sT9JSZbzzqRcaSmVMoEhVq8eIX+yWCINQkDn2sEZ8mp270ehM6DGXC9RIIY5fjp7ihBCNSPVBoG85TspgrV7h4lB3OBv1mxVi7eWtQedFL/0KPJ8t2J6FRgwxDUGQ56/U28h1FMPPAeXhC141ptwB+iUZcx88vf4HGe8kmLq0V7MVpb1Zjr/CmE822wMuiH0KlwqnMst9Ybl0Pqj4njNg/HfIjY0kBAF+Wf7Nn/PhlfL3KToXCqW0qz29r3eB2qLb9l8zZEP9gv5sjP8EXFfes9w+cSaxhHfQj7AntMKQAOhwOdDibwMjugKiXL5qMPA3HG/Onf9Q0mVh+4s8OGTHaMfCx8kU/feyEMO7jYrLP/sHGvnEtXtauyHips3+oTxWp3yeoJgzgTnDzxIv1EoRGxo9vB97+5xTlyRaid6rs79fXpz7n50/9sQf61HM/rdy7aKQZyOnIXir/pM8zKYTT8NYnzXcYdvw2zyYIsfKu4y16oGDfN78kFHhZ4tJi4SneDqf6uosaEIUJriwz/eINP5fWc/xBD74GJ+VLtf5b7SZcn/KzXLp8Rd3XpsJezAHgaHJ87ArVTB2Sn/Pz+hblWGiYX+MY6hU6ZuoIx3Sb/UIflU+Z2usi9rfa5HO6knSG0gwdlC+oJ+sDTaDDUUCHs8q/vgl45evXr/IHkHX480lC2BIa6Qcfvt8yFf5OKIJdQ4ze+a36hf3JB4f68Hddozs/AAA47ECHDwPHjh3Ta4cfeLIPGBu/TxB/m/toGNhZgl8iYS95zAs73YI/fTXXSzMQdgDAkQY6DA4W8GRnHPmyohnzxt+yTPSy3mEhK55sAAAAAOyWo+TJhpENAAAAAAD2BISLAAAAAAAAADoGRjYAAAAAAAApAyMbAAAAAACAlIGRDQAAAAAAQMrAyAYAAAAAACBlYGQDAAAAAACQMv4n/AAAAAAAAADpAE82AAAAAAAAKQMjGwAAAAAAgJSBkQ0AAAAAAEDKwMgGAAAAAAAgZWBkAwAAAAAAkDIwsgEAAAAAAEgZGNkAAAAAAACkDIxsAAAAAAAAUgZGNgAAAAAAACkDI7tL7Dy4SLnpqt4CXePTQ7qYu0gPP+ltB66Hiw929BbIIrKt/PiQUEsAHEDeTNl9ndTkHOVYl/87Xp8Z9JXZADrcHWBk7xL5YOamKFMS4YucXg5Ew9mhhz8aeU5apifG6VXjFY2f0NvdhDsTL19OGU+9kXv4VKeDNNfIj0tjVLpx/+Z1DwxVmtL3qJbo/PfcfkWNf8apR28DANpA6kPQ1vbbqVBdKBHNrlODdfm/uqDP0OE2gA7vNzCyd0WV5u4WaPhqhVadxr1fSKP/3AqNvm0IkdPLzCbNZSR/4bCBPUAr11iYdZ6X+qke4/3Ye0QeyzUqvp2nQbFVXdikopfXt0Wq3Qq8NVwHY7Ss72WZCncHfPGPS/M6jNUzRcrrnyTn52l9tkalfe48EyM7ozGiJV0+soz6afWg5B+AgwK3tVtEy147a6zTKH3UiftH4WS3TDXocGKgw9ngG+ic179++/7fb4O/Bp/v/2D9Jre//14vP3xb+j+dIHj77++//XD/7belIS/912/m2cxj1X728T7/t/TtB+dYF76Wn4+hpW+f9e8qv0tBHmTaZ2c7wLof595N7PuOyhtfJ+KexBG/cnm95nvT5zHz4t6z3A72eyuu/8P9IOdR+VZ1sCSu5Zzfg+s47HeJKqdfX3vr9r2osuVrxaUZhNVjgrrNBrq+QuuS0en3RXmKsua6scpA3+eSX0/qXEG9uefm8+n6jL0uAIeQkL5Hwu3I1Cvez9QP6zizDYnFOJ9qm16/4B1v7i9+889l9Be88PUd3QrasVj0dbz2b/ZNSktDgA4nBDqcFeDJ3gXVlxUaviTG0+dHaPhZKTruTIwoB+4WAm/D21FaOWdP29Tvlojuq/TlqxUa82LU+Nino7Suj31EJSq9V0kuO2srVL86Ikf44VRp1R+9r1NRnOumOap9tqLzoNIGcjetbX9fJ0/LNBYxRblDa++M/cz7suihoWtEJadMAupUKhM98s7TJ/IWep4qTZle/PvinHfrOk3QIt/1u5s0wmkhU2Zc1/lrQxFTaR9p8/0wjZz31guUN6ZHe04WiLbqojTi0lpwYohGT9cy5t0P4c0qVU6P0lDs9LCoz3cjsg5e3Q4r0QqtiCed09dn+bnI0U1z+44X/sQzIIanJqRdAXCokX1PiP6yXohWtOZ5dT8S5Q398Psu3YZqMrwjXBeDfoG9x06ba4zQ6q2K3rGHxv9hnSca5nRXRx39bcwZPZW4h9VL6vf12TxVyuEhjtDhhECHMwOM7E759JBKz7wGPUgjV+u0shbWRHl6SwjakprekpwYp6ITYpKffeTHrQ1eGtYNXh87E4hVz+1HVDytN0LInzmp18IYpHlf2NiwtSbDiK4WdR50mrNdf8fTkM154vyqNBchunP2flHIeLAlorHQuLE8Fe8b55ksUv7ZalMj3nlQooqfZ4Eo50dCsBWt852fnY4ZoERNgSqBqXnHfqpTTf5ukO9X045xaS3poXxfnTaNMUNm6cv7ZRyOqM/JuJIepqIW/Z6hUbG3s/1+U3STgjdzYuhXpGnZBgUHpQMEIDWEpnOIyNMBGXMbGMdKL1SftENrT4lGr5G/Xd/SfZduQ48MI4v1lZ6uib00pqa6bY6vvxSt6xasdV7bdbm6TPP6nFYbDwE6nBDocCaAkd0hrte4SZgs8tTvtOCTZ/JU+xi+t93gm4+NI9zYDZAx29KQzdGA6eVtk8ot42UK9mREeQHecFyYsV8c5+fVSFga2zFvpJ/IU0GvusQPMtrItwV3SnrVRMbuKW+/7wkIy1t9k2RJx6UdJhKVaUq85xkXr04HqPT+gHSAAKSG8iDLeGw2tvUsn+9E+LRGK30jNC4MI/K2qZ98pXSNMdapGCO3tfEWAb+kHulIMYjUd+hwW0CHMwGM7I5gz4B4gp6N6YdKLOdKVBcPWvgLhs0P3Md39YQvh7jH8lSXXnWQo8sQD68HG9gD74rKkJVTPm1Y7xZiBGy+WMlL2FvJbGCX+4PpwaQeD/mCied1CYE9EaeNTsLAHWRwOQckzHcT7L3Qqx4s7Hc4hCXszXl7FL/zsWZ0THFphwCevn4fTFN3nate+FOweB4xAI4WbGwv07DXB8hQErEuDMgCh4awcam3yQy5cI2xGH2VOPtLDUuK6Uhp+6tX0OHEQIczA4zsTtDTI77xqBcZS/bSNXFVqEXlljFyt0JN4tDHGvFpMiRCrzehw1DGXC+BMHb5zWk2OANPrx4otA3nyYzHisYVLo6nC6dKU1aMtZu3OpUWvPQdeninZHcSGjXIMGLjZTnr9TbyHUUw88B5WKFRI4QlYJCmOV7Nzy9/gYb0tFxcWivYi9PerMb+oO/xnDMTIepiKjRufxfoeFT/qwAAHDF2HkzZ7YxjcfUqCTO5/3SNSuWa1g0Oa1Tbo0NauaQxZr+bIz/BFxX3rPcPnEmsYR30I3GhIy2ADicBOpwVYGR3QNTLF01GnobjjfnTP2qajL3e/NkhI0Y7Bj5Wvuinj70pjPu4mOzBOTb2jWvx8nJEjioH59SnitTvN2lTGMCd4OaJl7AGJuPHtwJv/ypFebKFIJwp+fvxdBN/zi94GSNPxTOrflqpbzn8RQ05HVmQL2jIfe8I4TS89UnzHYYdv82zCcLw967jLXqgYN83vxASeFni0mLhKV7nZZ2souLrjXrgRdTFdFid7YpBmpef7TKug3+mAI4QPbdHaNNsZ/Jzfl7fohwLdQpegBu8VKC6pSMc0232CzkqnTG118Vtc6s0knSG0gwdlC+oJ+sDTaDDyYEOZ4N/8SdG9Do4EPDH5YWwJTTSDz58vyXqf5tQBLsGv1jDcX/7kw8O9eE3u6M7PwAAOOxAh8HBAp7sA0Z1eowqsZ/pA92hh8Zn2CuwD58m4k9f3S34b3YDAMDRBDoMDhbwZGcc+bKiGfN2ukjrR+pfn2bFkw0AAAAAkBwY2QAAAAAAAKQMwkUAAAAAAABIGRjZAAAAAAAApAyMbAAAAAAAAFIGRjYAAAAAAAApAyMbAAAAAACAlIGRDQAAAAAAQMr4n/D7+vWr/AEAAAAAAIBucOzYMb12+IEnGwAAAAAAgJSBkQ0AAAAAAEDKwMgGAAAAAAAgZWBkAwAAAAAAkDIwsgEAAAAAAEgVov8HmFh49N/STbUAAAAASUVORK5CYII=)"
      ],
      "metadata": {
        "id": "Z7mriLo2M9kW"
      }
    }
  ]
}